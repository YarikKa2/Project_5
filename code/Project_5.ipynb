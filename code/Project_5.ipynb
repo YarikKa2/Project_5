{
 "cells": [
  {
   "attachments": {},
   "cell_type": "markdown",
   "metadata": {
    "id": "F6EDfWQLkBLX",
    "tags": []
   },
   "source": [
    "## 1. Постановка задачи"
   ]
  },
  {
   "attachments": {},
   "cell_type": "markdown",
   "metadata": {
    "id": "G3NPCLzmkBLa"
   },
   "source": [
    "\n",
    "    \n",
    "Вам предстоит решить настоящую задачу машинного обучения, направленную на автоматизацию бизнес процессов. Мы построим модель, которая будет предсказывать общую продолжительность поездки такси в Нью-Йорке. \n",
    "\n",
    "Представьте вы заказываете такси из одной точки Нью-Йорка в другую, причем не обязательно конечная точка должна находиться в пределах города. Сколько вы должны будете за нее заплатить? Известно, что стоимость такси в США  рассчитывается на основе фиксированной ставки + тарифная стоимость, величина которой зависит от времени и расстояния. Тарифы варьируются в зависимости от города.\n",
    "\n",
    "В свою очередь время поездки зависит от множества факторов таких как, откуда и куда вы едете, в какое время суток вы совершаете вашу поездку, погодных условий и так далее. \n",
    "\n",
    "Таким образом, если мы разработаем алгоритм, способный определять длительность поездки, мы сможем прогнозировать ее стоимость самым тривиальным образом, например, просто умножая стоимость на заданный тариф. \n",
    "Сервисы такси хранят огромные объёмы информации о поездках, включая такие данные как конечная, начальная точка маршрута, дата поездки и ее длительность. Эти данные можно использовать для того, чтобы прогнозировать длительность поездки в автоматическом режиме с привлечением искусственного интеллекта.\n",
    "\n",
    "**Бизнес-задача:** определить характеристики и с их помощью спрогнозировать длительность поездки такси.\n",
    "\n",
    "**Техническая задача для вас как для специалиста в Data Science:** построить модель машинного обучения, которая на основе предложенных характеристик клиента будет предсказывать числовой признак - время поездки такси. То есть решить задачу регрессии.\n",
    "\n",
    "**Основные цели проекта:**\n",
    "1. Сформировать набор данных на основе нескольких источников информации\n",
    "2. Спроектировать новые признаки с помощью Feature Engineering и выявить наиболее значимые при построении модели\n",
    "3. Исследовать предоставленные данные и выявить закономерности\n",
    "4. Построить несколько моделей и выбрать из них наилучшую по заданной метрике\n",
    "5. Спроектировать процесс предсказания времени длительности поездки для новых данных\n",
    "\n",
    "Загрузить свое решение на платформу Kaggle, тем самым поучаствовав в настоящем Data Science соревновании.\n",
    "Во время выполнения проекта вы отработаете навыки работы с несколькими источниками данных, генерации признаков, разведывательного анализа и визуализации данных, отбора признаков и, конечно же, построения моделей машинного обучения!\n"
   ]
  },
  {
   "attachments": {},
   "cell_type": "markdown",
   "metadata": {
    "id": "4Up0IUABkBLc",
    "tags": []
   },
   "source": [
    "## 2. Знакомство с данными, базовый анализ и расширение данных"
   ]
  },
  {
   "attachments": {},
   "cell_type": "markdown",
   "metadata": {
    "id": "7W9mZPhWkBLd"
   },
   "source": [
    "Начнём наше исследование со знакомства с предоставленными данными. А также подгрузим дополнительные источники данных и расширим наш исходный датасет. \n"
   ]
  },
  {
   "attachments": {},
   "cell_type": "markdown",
   "metadata": {
    "id": "UTIxJupXkBLd"
   },
   "source": [
    "Заранее импортируем модули, которые нам понадобятся для решения задачи:"
   ]
  },
  {
   "cell_type": "code",
   "execution_count": 1,
   "metadata": {
    "id": "yeC12P0hkBLe"
   },
   "outputs": [],
   "source": [
    "import os\n",
    "import numpy as np\n",
    "import pandas as pd\n",
    "import matplotlib.pyplot as plt\n",
    "import seaborn as sns\n",
    "import plotly.express as px\n",
    "\n",
    "from scipy import stats\n",
    "from sklearn import linear_model\n",
    "from sklearn import preprocessing\n",
    "from sklearn import model_selection\n",
    "from sklearn import tree\n",
    "from sklearn import ensemble\n",
    "from sklearn import metrics\n",
    "from sklearn import cluster\n",
    "from sklearn import feature_selection"
   ]
  },
  {
   "cell_type": "code",
   "execution_count": 2,
   "metadata": {},
   "outputs": [],
   "source": [
    "path = os.path.dirname(os.getcwd()).replace('\\\\', '/')+'/'"
   ]
  },
  {
   "attachments": {},
   "cell_type": "markdown",
   "metadata": {
    "id": "kk5-kjqikBLf"
   },
   "source": [
    "Прочитаем наш файл с исходными данными:"
   ]
  },
  {
   "cell_type": "code",
   "execution_count": 3,
   "metadata": {
    "_cell_guid": "79c7e3d0-c299-4dcb-8224-4455121ee9b0",
    "_uuid": "d629ff2d2480ee46fbb7e2d37f6b5fab8052498a",
    "id": "hMQnRJwdkBLg",
    "tags": []
   },
   "outputs": [
    {
     "name": "stdout",
     "output_type": "stream",
     "text": [
      "Train data shape: (1458644, 11)\n"
     ]
    },
    {
     "data": {
      "application/vnd.microsoft.datawrangler.viewer.v0+json": {
       "columns": [
        {
         "name": "index",
         "rawType": "int64",
         "type": "integer"
        },
        {
         "name": "id",
         "rawType": "object",
         "type": "string"
        },
        {
         "name": "vendor_id",
         "rawType": "int64",
         "type": "integer"
        },
        {
         "name": "pickup_datetime",
         "rawType": "object",
         "type": "string"
        },
        {
         "name": "dropoff_datetime",
         "rawType": "object",
         "type": "string"
        },
        {
         "name": "passenger_count",
         "rawType": "int64",
         "type": "integer"
        },
        {
         "name": "pickup_longitude",
         "rawType": "float64",
         "type": "float"
        },
        {
         "name": "pickup_latitude",
         "rawType": "float64",
         "type": "float"
        },
        {
         "name": "dropoff_longitude",
         "rawType": "float64",
         "type": "float"
        },
        {
         "name": "dropoff_latitude",
         "rawType": "float64",
         "type": "float"
        },
        {
         "name": "store_and_fwd_flag",
         "rawType": "object",
         "type": "string"
        },
        {
         "name": "trip_duration",
         "rawType": "int64",
         "type": "integer"
        }
       ],
       "ref": "9238f84a-3464-4ca4-af44-7c1bdb5bd97e",
       "rows": [
        [
         "0",
         "id2875421",
         "2",
         "2016-03-14 17:24:55",
         "2016-03-14 17:32:30",
         "1",
         "-73.98215484619139",
         "40.76793670654297",
         "-73.96463012695312",
         "40.765602111816406",
         "N",
         "455"
        ],
        [
         "1",
         "id2377394",
         "1",
         "2016-06-12 00:43:35",
         "2016-06-12 00:54:38",
         "1",
         "-73.98041534423827",
         "40.738563537597656",
         "-73.99948120117188",
         "40.731151580810554",
         "N",
         "663"
        ],
        [
         "2",
         "id3858529",
         "2",
         "2016-01-19 11:35:24",
         "2016-01-19 12:10:48",
         "1",
         "-73.97902679443358",
         "40.763938903808594",
         "-74.00533294677734",
         "40.710086822509766",
         "N",
         "2124"
        ],
        [
         "3",
         "id3504673",
         "2",
         "2016-04-06 19:32:31",
         "2016-04-06 19:39:40",
         "1",
         "-74.01004028320312",
         "40.719970703125",
         "-74.01226806640625",
         "40.70671844482422",
         "N",
         "429"
        ],
        [
         "4",
         "id2181028",
         "2",
         "2016-03-26 13:30:55",
         "2016-03-26 13:38:10",
         "1",
         "-73.97305297851561",
         "40.79320907592773",
         "-73.9729232788086",
         "40.782520294189446",
         "N",
         "435"
        ]
       ],
       "shape": {
        "columns": 11,
        "rows": 5
       }
      },
      "text/html": [
       "<div>\n",
       "<style scoped>\n",
       "    .dataframe tbody tr th:only-of-type {\n",
       "        vertical-align: middle;\n",
       "    }\n",
       "\n",
       "    .dataframe tbody tr th {\n",
       "        vertical-align: top;\n",
       "    }\n",
       "\n",
       "    .dataframe thead th {\n",
       "        text-align: right;\n",
       "    }\n",
       "</style>\n",
       "<table border=\"1\" class=\"dataframe\">\n",
       "  <thead>\n",
       "    <tr style=\"text-align: right;\">\n",
       "      <th></th>\n",
       "      <th>id</th>\n",
       "      <th>vendor_id</th>\n",
       "      <th>pickup_datetime</th>\n",
       "      <th>dropoff_datetime</th>\n",
       "      <th>passenger_count</th>\n",
       "      <th>pickup_longitude</th>\n",
       "      <th>pickup_latitude</th>\n",
       "      <th>dropoff_longitude</th>\n",
       "      <th>dropoff_latitude</th>\n",
       "      <th>store_and_fwd_flag</th>\n",
       "      <th>trip_duration</th>\n",
       "    </tr>\n",
       "  </thead>\n",
       "  <tbody>\n",
       "    <tr>\n",
       "      <th>0</th>\n",
       "      <td>id2875421</td>\n",
       "      <td>2</td>\n",
       "      <td>2016-03-14 17:24:55</td>\n",
       "      <td>2016-03-14 17:32:30</td>\n",
       "      <td>1</td>\n",
       "      <td>-73.982155</td>\n",
       "      <td>40.767937</td>\n",
       "      <td>-73.964630</td>\n",
       "      <td>40.765602</td>\n",
       "      <td>N</td>\n",
       "      <td>455</td>\n",
       "    </tr>\n",
       "    <tr>\n",
       "      <th>1</th>\n",
       "      <td>id2377394</td>\n",
       "      <td>1</td>\n",
       "      <td>2016-06-12 00:43:35</td>\n",
       "      <td>2016-06-12 00:54:38</td>\n",
       "      <td>1</td>\n",
       "      <td>-73.980415</td>\n",
       "      <td>40.738564</td>\n",
       "      <td>-73.999481</td>\n",
       "      <td>40.731152</td>\n",
       "      <td>N</td>\n",
       "      <td>663</td>\n",
       "    </tr>\n",
       "    <tr>\n",
       "      <th>2</th>\n",
       "      <td>id3858529</td>\n",
       "      <td>2</td>\n",
       "      <td>2016-01-19 11:35:24</td>\n",
       "      <td>2016-01-19 12:10:48</td>\n",
       "      <td>1</td>\n",
       "      <td>-73.979027</td>\n",
       "      <td>40.763939</td>\n",
       "      <td>-74.005333</td>\n",
       "      <td>40.710087</td>\n",
       "      <td>N</td>\n",
       "      <td>2124</td>\n",
       "    </tr>\n",
       "    <tr>\n",
       "      <th>3</th>\n",
       "      <td>id3504673</td>\n",
       "      <td>2</td>\n",
       "      <td>2016-04-06 19:32:31</td>\n",
       "      <td>2016-04-06 19:39:40</td>\n",
       "      <td>1</td>\n",
       "      <td>-74.010040</td>\n",
       "      <td>40.719971</td>\n",
       "      <td>-74.012268</td>\n",
       "      <td>40.706718</td>\n",
       "      <td>N</td>\n",
       "      <td>429</td>\n",
       "    </tr>\n",
       "    <tr>\n",
       "      <th>4</th>\n",
       "      <td>id2181028</td>\n",
       "      <td>2</td>\n",
       "      <td>2016-03-26 13:30:55</td>\n",
       "      <td>2016-03-26 13:38:10</td>\n",
       "      <td>1</td>\n",
       "      <td>-73.973053</td>\n",
       "      <td>40.793209</td>\n",
       "      <td>-73.972923</td>\n",
       "      <td>40.782520</td>\n",
       "      <td>N</td>\n",
       "      <td>435</td>\n",
       "    </tr>\n",
       "  </tbody>\n",
       "</table>\n",
       "</div>"
      ],
      "text/plain": [
       "          id  vendor_id      pickup_datetime     dropoff_datetime  \\\n",
       "0  id2875421          2  2016-03-14 17:24:55  2016-03-14 17:32:30   \n",
       "1  id2377394          1  2016-06-12 00:43:35  2016-06-12 00:54:38   \n",
       "2  id3858529          2  2016-01-19 11:35:24  2016-01-19 12:10:48   \n",
       "3  id3504673          2  2016-04-06 19:32:31  2016-04-06 19:39:40   \n",
       "4  id2181028          2  2016-03-26 13:30:55  2016-03-26 13:38:10   \n",
       "\n",
       "   passenger_count  pickup_longitude  pickup_latitude  dropoff_longitude  \\\n",
       "0                1        -73.982155        40.767937         -73.964630   \n",
       "1                1        -73.980415        40.738564         -73.999481   \n",
       "2                1        -73.979027        40.763939         -74.005333   \n",
       "3                1        -74.010040        40.719971         -74.012268   \n",
       "4                1        -73.973053        40.793209         -73.972923   \n",
       "\n",
       "   dropoff_latitude store_and_fwd_flag  trip_duration  \n",
       "0         40.765602                  N            455  \n",
       "1         40.731152                  N            663  \n",
       "2         40.710087                  N           2124  \n",
       "3         40.706718                  N            429  \n",
       "4         40.782520                  N            435  "
      ]
     },
     "execution_count": 3,
     "metadata": {},
     "output_type": "execute_result"
    }
   ],
   "source": [
    "taxi_data = pd.read_csv(path + \"data/train.csv\")\n",
    "print('Train data shape: {}'.format(taxi_data.shape))\n",
    "taxi_data.head()"
   ]
  },
  {
   "attachments": {},
   "cell_type": "markdown",
   "metadata": {
    "id": "xhaxNt0XkBLh"
   },
   "source": [
    "Итак, у нас с вами есть данные о почти 1.5 миллионах поездок и 11 характеристиках, которые описывают каждую из поездок. "
   ]
  },
  {
   "attachments": {},
   "cell_type": "markdown",
   "metadata": {
    "id": "tXufvADjkBLi"
   },
   "source": [
    "Мы условно разделили признаки нескольких групп. Каждой из групп мы в дальнейшем уделим отдельное внимание.\n",
    "\n",
    "**Данные о клиенте и таксопарке:**\n",
    "* id - уникальный идентификатор поездки\n",
    "* vendor_id - уникальный идентификатор поставщика (таксопарка), связанного с записью поездки\n",
    "\n",
    "**Временные характеристики:**\n",
    "* pickup_datetime - дата и время, когда был включен счетчик поездки\n",
    "* dropoff_datetime - дата и время, когда счетчик был отключен\n",
    "\n",
    "**Географическая информация:**\n",
    "* pickup_longitude -  долгота, на которой был включен счетчик\n",
    "* pickup_latitude - широта, на которой был включен счетчик\n",
    "* dropoff_longitude - долгота, на которой счетчик был отключен\n",
    "* dropoff_latitude - широта, на которой счетчик был отключен\n",
    "\n",
    "**Прочие признаки:**\n",
    "* passenger_count - количество пассажиров в транспортном средстве (введенное водителем значение)\n",
    "* store_and_fwd_flag - флаг, который указывает, сохранилась ли запись о поездке в памяти транспортного средства перед отправкой поставщику. Y - хранить и пересылать, N - не хранить и не пересылать поездку.\n",
    "\n",
    "**Целевой признак:**\n",
    "* trip_duration - продолжительность поездки в секундах\n"
   ]
  },
  {
   "attachments": {},
   "cell_type": "markdown",
   "metadata": {
    "id": "VvrcGynTkBLi"
   },
   "source": [
    "Для начала мы проведем базовый анализ того, насколько данные готовы к дальнейшей предобработке и анализу. "
   ]
  },
  {
   "attachments": {},
   "cell_type": "markdown",
   "metadata": {
    "id": "33rsP7rTkBLj"
   },
   "source": [
    "### Задание 2.1\n",
    "Для начала посмотрим на временные рамки, в которых мы работаем с данными.\n",
    "\n",
    "Переведите признак pickup_datetime в тип данных datetime с форматом год-месяц-день час:минута:секунда (в функции pd.to_datetime() параметр format='%Y-%m-%d %H:%M:%S'). \n",
    "\n",
    "Определите временные рамки (без учета времени), за которые представлены данные."
   ]
  },
  {
   "cell_type": "code",
   "execution_count": 4,
   "metadata": {
    "id": "cIVxwqW1kBLj"
   },
   "outputs": [],
   "source": [
    "taxi_data['pickup_datetime'] = pd.to_datetime(taxi_data['pickup_datetime'])"
   ]
  },
  {
   "attachments": {},
   "cell_type": "markdown",
   "metadata": {
    "id": "prw5RhKnkBLj"
   },
   "source": [
    "### Задание 2.2\n",
    "Посмотрим на пропуски. \n",
    "Сколько пропущенных значений присутствует в данных (суммарно по всем столбцам таблицы)?"
   ]
  },
  {
   "cell_type": "code",
   "execution_count": 5,
   "metadata": {
    "id": "ug16JoZDkBLk"
   },
   "outputs": [
    {
     "name": "stdout",
     "output_type": "stream",
     "text": [
      "<class 'pandas.core.frame.DataFrame'>\n",
      "RangeIndex: 1458644 entries, 0 to 1458643\n",
      "Data columns (total 11 columns):\n",
      " #   Column              Non-Null Count    Dtype         \n",
      "---  ------              --------------    -----         \n",
      " 0   id                  1458644 non-null  object        \n",
      " 1   vendor_id           1458644 non-null  int64         \n",
      " 2   pickup_datetime     1458644 non-null  datetime64[ns]\n",
      " 3   dropoff_datetime    1458644 non-null  object        \n",
      " 4   passenger_count     1458644 non-null  int64         \n",
      " 5   pickup_longitude    1458644 non-null  float64       \n",
      " 6   pickup_latitude     1458644 non-null  float64       \n",
      " 7   dropoff_longitude   1458644 non-null  float64       \n",
      " 8   dropoff_latitude    1458644 non-null  float64       \n",
      " 9   store_and_fwd_flag  1458644 non-null  object        \n",
      " 10  trip_duration       1458644 non-null  int64         \n",
      "dtypes: datetime64[ns](1), float64(4), int64(3), object(3)\n",
      "memory usage: 122.4+ MB\n"
     ]
    }
   ],
   "source": [
    "taxi_data.info()"
   ]
  },
  {
   "attachments": {},
   "cell_type": "markdown",
   "metadata": {
    "id": "ZMMIyT1skBLk"
   },
   "source": [
    "### Задание 2.3\n",
    "Посмотрим на статистические характеристики некоторых признаков. \n",
    "\n",
    "а) Сколько уникальных таксопарков присутствует в данных?\n",
    "\n",
    "б) Каково максимальное количество пассажиров?\n",
    "\n",
    "в) Чему равна средняя и медианная длительность поездки? Ответ приведите в секундах и округлите до целого.\n",
    "\n",
    "г) Чему равно минимальное и максимальное время поездки (в секундах)?\n"
   ]
  },
  {
   "cell_type": "code",
   "execution_count": 6,
   "metadata": {
    "id": "UeJfdmIskBLk"
   },
   "outputs": [
    {
     "name": "stdout",
     "output_type": "stream",
     "text": [
      "number of vendors: 2\n",
      "max number of passangers: 9\n",
      "\n",
      "min duration of the trip: 1\n",
      "max duration of the trip: 3526282\n",
      "mean duration of the trip: 959.49\n",
      "median duration of the trip: 662.0\n"
     ]
    }
   ],
   "source": [
    "print(f'number of vendors: {taxi_data['vendor_id'].nunique()}')\n",
    "print(f'max number of passangers: {taxi_data['passenger_count'].max()}\\n')\n",
    "\n",
    "print(f'min duration of the trip: {taxi_data['trip_duration'].min()}')\n",
    "print(f'max duration of the trip: {taxi_data['trip_duration'].max()}')\n",
    "print(f'mean duration of the trip: {taxi_data['trip_duration'].mean():.2f}')\n",
    "print(f'median duration of the trip: {taxi_data['trip_duration'].median()}')"
   ]
  },
  {
   "attachments": {},
   "cell_type": "markdown",
   "metadata": {
    "id": "JhUgalQSkBLk"
   },
   "source": [
    "Займемся расширением исходного набора данных как с помощью внешних источников, так и с помощью манипуляций над имеющимися в данных признаками. \n"
   ]
  },
  {
   "attachments": {},
   "cell_type": "markdown",
   "metadata": {
    "id": "riVyyTGRkBLk"
   },
   "source": [
    "### Задание 2.4\n",
    "Реализуйте функцию add_datetime_features(), которая принимает на вход таблицу с данными о поездках (DataFrame) и возвращает ту же таблицу с добавленными в нее 3 столбцами:\n",
    "* pickup_date - дата включения счетчика - начала поездки (без времени);\n",
    "* pickup_hour - час дня включения счетчика;\n",
    "* pickup_day_of_week - порядковый номер дня недели (число), в который был включен счетчик.\n",
    "\n",
    "а) Сколько поездок было совершено в субботу?\n",
    "\n",
    "б) Сколько поездок в среднем совершается в день? Ответ округлите до целого"
   ]
  },
  {
   "cell_type": "code",
   "execution_count": 7,
   "metadata": {},
   "outputs": [],
   "source": [
    "def add_datetime_features(df):\n",
    "    \n",
    "    pickup_date = pd.to_datetime(taxi_data['pickup_datetime']).dt.date\n",
    "    pickup_date.rename('pickup_date', inplace=True)\n",
    "    \n",
    "    pickup_hour = pd.to_datetime(taxi_data['pickup_datetime']).dt.hour\n",
    "    pickup_hour.rename('pickup_hour', inplace=True)\n",
    "    \n",
    "    pickup_day_of_week = \\\n",
    "        pd.to_datetime(taxi_data['pickup_datetime']).dt.day_of_week\n",
    "    pickup_day_of_week.rename('pickup_day_of_week', inplace=True)\n",
    "        \n",
    "    df = pd.concat([df, pickup_date, pickup_hour, pickup_day_of_week], axis=1)\n",
    "    \n",
    "    return df\n",
    "\n",
    "\n",
    "\n",
    "taxi_data = add_datetime_features(taxi_data)"
   ]
  },
  {
   "cell_type": "code",
   "execution_count": 8,
   "metadata": {},
   "outputs": [
    {
     "name": "stdout",
     "output_type": "stream",
     "text": [
      "Nmber of trips on saturday is 220868\n",
      "Average number of trips per day is 8015\n"
     ]
    }
   ],
   "source": [
    "strday_trips = len(taxi_data[taxi_data['pickup_day_of_week'] == 5])\n",
    "print(f'Nmber of trips on saturday is {strday_trips}')\n",
    "\n",
    "\n",
    "mean_trips = taxi_data.groupby('pickup_date').count()['id'].mean()\n",
    "print(f'Average number of trips per day is {mean_trips:.0f}')"
   ]
  },
  {
   "attachments": {},
   "cell_type": "markdown",
   "metadata": {
    "id": "5rCk6lyTkBLl"
   },
   "source": [
    "### Задание 2.5\n",
    "Реализуйте функцию add_holiday_features(), которая принимает на вход две таблицы: \n",
    "* таблицу с данными о поездках;\n",
    "* таблицу с данными о праздничных днях;\n",
    "\n",
    "и возвращает обновленную таблицу с данными о поездках с добавленным в нее столбцом pickup_holiday - бинарным признаком того, начата ли поездка в праздничный день или нет (1 - да, 0 - нет). \n",
    "\n",
    "Чему равна медианная длительность поездки на такси в праздничные дни? Ответ приведите в секундах, округлив до целого.\n"
   ]
  },
  {
   "cell_type": "code",
   "execution_count": 9,
   "metadata": {},
   "outputs": [],
   "source": [
    "def add_holiday_features(df_taxi, df_holidays):\n",
    "    \n",
    "    df_holidays.drop(['day'], axis=1, inplace=True)\n",
    "    df_taxi['date'] = df_taxi['pickup_date'].astype('str')\n",
    "      \n",
    "    \n",
    "    df_taxi = pd.merge(df_taxi, df_holidays, on='date', how='left')\n",
    "    \n",
    "    df_taxi['holiday'] =\\\n",
    "        df_taxi['holiday'].apply(lambda x: 0 if x is np.nan else 1)\n",
    "    \n",
    "    return df_taxi.drop('date', axis=1)"
   ]
  },
  {
   "cell_type": "code",
   "execution_count": 10,
   "metadata": {
    "id": "ZnPWsSMukBLl"
   },
   "outputs": [
    {
     "data": {
      "application/vnd.microsoft.datawrangler.viewer.v0+json": {
       "columns": [
        {
         "name": "index",
         "rawType": "int64",
         "type": "integer"
        },
        {
         "name": "day",
         "rawType": "object",
         "type": "string"
        },
        {
         "name": "date",
         "rawType": "object",
         "type": "string"
        },
        {
         "name": "holiday",
         "rawType": "object",
         "type": "string"
        }
       ],
       "ref": "082ef4a8-9bca-49c3-863a-0144a6cbab5a",
       "rows": [
        [
         "0",
         "Friday",
         "2016-01-01",
         "New Years Day"
        ],
        [
         "1",
         "Monday",
         "2016-01-18",
         "Martin Luther King Jr. Day"
        ],
        [
         "2",
         "Friday",
         "2016-02-12",
         "Lincoln's Birthday"
        ],
        [
         "3",
         "Monday",
         "2016-02-15",
         "Presidents' Day"
        ],
        [
         "4",
         "Sunday",
         "2016-05-08",
         "Mother's Day"
        ],
        [
         "5",
         "Monday",
         "2016-05-30",
         "Memorial Day"
        ],
        [
         "6",
         "Sunday",
         "2016-06-19",
         "Father's Day"
        ],
        [
         "7",
         "Monday",
         "2016-07-04",
         "Independence Day"
        ],
        [
         "8",
         "Monday",
         "2016-09-05",
         "Labor Day"
        ],
        [
         "9",
         "Monday",
         "2016-10-10",
         "Columbus Day"
        ],
        [
         "10",
         "Friday",
         "2016-11-11",
         "Veterans Day"
        ],
        [
         "11",
         "Thursday",
         "2016-11-24",
         "Thanksgiving"
        ],
        [
         "12",
         "Monday",
         "2016-12-26",
         "Christmas Day (in lieu)"
        ],
        [
         "13",
         "Tuesday",
         "2016-11-08",
         "Election Day"
        ]
       ],
       "shape": {
        "columns": 3,
        "rows": 14
       }
      },
      "text/html": [
       "<div>\n",
       "<style scoped>\n",
       "    .dataframe tbody tr th:only-of-type {\n",
       "        vertical-align: middle;\n",
       "    }\n",
       "\n",
       "    .dataframe tbody tr th {\n",
       "        vertical-align: top;\n",
       "    }\n",
       "\n",
       "    .dataframe thead th {\n",
       "        text-align: right;\n",
       "    }\n",
       "</style>\n",
       "<table border=\"1\" class=\"dataframe\">\n",
       "  <thead>\n",
       "    <tr style=\"text-align: right;\">\n",
       "      <th></th>\n",
       "      <th>day</th>\n",
       "      <th>date</th>\n",
       "      <th>holiday</th>\n",
       "    </tr>\n",
       "  </thead>\n",
       "  <tbody>\n",
       "    <tr>\n",
       "      <th>0</th>\n",
       "      <td>Friday</td>\n",
       "      <td>2016-01-01</td>\n",
       "      <td>New Years Day</td>\n",
       "    </tr>\n",
       "    <tr>\n",
       "      <th>1</th>\n",
       "      <td>Monday</td>\n",
       "      <td>2016-01-18</td>\n",
       "      <td>Martin Luther King Jr. Day</td>\n",
       "    </tr>\n",
       "    <tr>\n",
       "      <th>2</th>\n",
       "      <td>Friday</td>\n",
       "      <td>2016-02-12</td>\n",
       "      <td>Lincoln's Birthday</td>\n",
       "    </tr>\n",
       "    <tr>\n",
       "      <th>3</th>\n",
       "      <td>Monday</td>\n",
       "      <td>2016-02-15</td>\n",
       "      <td>Presidents' Day</td>\n",
       "    </tr>\n",
       "    <tr>\n",
       "      <th>4</th>\n",
       "      <td>Sunday</td>\n",
       "      <td>2016-05-08</td>\n",
       "      <td>Mother's Day</td>\n",
       "    </tr>\n",
       "    <tr>\n",
       "      <th>5</th>\n",
       "      <td>Monday</td>\n",
       "      <td>2016-05-30</td>\n",
       "      <td>Memorial Day</td>\n",
       "    </tr>\n",
       "    <tr>\n",
       "      <th>6</th>\n",
       "      <td>Sunday</td>\n",
       "      <td>2016-06-19</td>\n",
       "      <td>Father's Day</td>\n",
       "    </tr>\n",
       "    <tr>\n",
       "      <th>7</th>\n",
       "      <td>Monday</td>\n",
       "      <td>2016-07-04</td>\n",
       "      <td>Independence Day</td>\n",
       "    </tr>\n",
       "    <tr>\n",
       "      <th>8</th>\n",
       "      <td>Monday</td>\n",
       "      <td>2016-09-05</td>\n",
       "      <td>Labor Day</td>\n",
       "    </tr>\n",
       "    <tr>\n",
       "      <th>9</th>\n",
       "      <td>Monday</td>\n",
       "      <td>2016-10-10</td>\n",
       "      <td>Columbus Day</td>\n",
       "    </tr>\n",
       "    <tr>\n",
       "      <th>10</th>\n",
       "      <td>Friday</td>\n",
       "      <td>2016-11-11</td>\n",
       "      <td>Veterans Day</td>\n",
       "    </tr>\n",
       "    <tr>\n",
       "      <th>11</th>\n",
       "      <td>Thursday</td>\n",
       "      <td>2016-11-24</td>\n",
       "      <td>Thanksgiving</td>\n",
       "    </tr>\n",
       "    <tr>\n",
       "      <th>12</th>\n",
       "      <td>Monday</td>\n",
       "      <td>2016-12-26</td>\n",
       "      <td>Christmas Day (in lieu)</td>\n",
       "    </tr>\n",
       "    <tr>\n",
       "      <th>13</th>\n",
       "      <td>Tuesday</td>\n",
       "      <td>2016-11-08</td>\n",
       "      <td>Election Day</td>\n",
       "    </tr>\n",
       "  </tbody>\n",
       "</table>\n",
       "</div>"
      ],
      "text/plain": [
       "         day        date                     holiday\n",
       "0     Friday  2016-01-01               New Years Day\n",
       "1     Monday  2016-01-18  Martin Luther King Jr. Day\n",
       "2     Friday  2016-02-12          Lincoln's Birthday\n",
       "3     Monday  2016-02-15             Presidents' Day\n",
       "4     Sunday  2016-05-08                Mother's Day\n",
       "5     Monday  2016-05-30                Memorial Day\n",
       "6     Sunday  2016-06-19                Father's Day\n",
       "7     Monday  2016-07-04            Independence Day\n",
       "8     Monday  2016-09-05                   Labor Day\n",
       "9     Monday  2016-10-10                Columbus Day\n",
       "10    Friday  2016-11-11                Veterans Day\n",
       "11  Thursday  2016-11-24                Thanksgiving\n",
       "12    Monday  2016-12-26     Christmas Day (in lieu)\n",
       "13   Tuesday  2016-11-08                Election Day"
      ]
     },
     "execution_count": 10,
     "metadata": {},
     "output_type": "execute_result"
    }
   ],
   "source": [
    "holiday_data = pd.read_csv(path + 'data/holiday_data.csv', sep=';')\n",
    "holiday_data"
   ]
  },
  {
   "cell_type": "code",
   "execution_count": 11,
   "metadata": {},
   "outputs": [
    {
     "data": {
      "application/vnd.microsoft.datawrangler.viewer.v0+json": {
       "columns": [
        {
         "name": "index",
         "rawType": "int64",
         "type": "integer"
        },
        {
         "name": "id",
         "rawType": "object",
         "type": "string"
        },
        {
         "name": "vendor_id",
         "rawType": "int64",
         "type": "integer"
        },
        {
         "name": "pickup_datetime",
         "rawType": "datetime64[ns]",
         "type": "datetime"
        },
        {
         "name": "dropoff_datetime",
         "rawType": "object",
         "type": "string"
        },
        {
         "name": "passenger_count",
         "rawType": "int64",
         "type": "integer"
        },
        {
         "name": "pickup_longitude",
         "rawType": "float64",
         "type": "float"
        },
        {
         "name": "pickup_latitude",
         "rawType": "float64",
         "type": "float"
        },
        {
         "name": "dropoff_longitude",
         "rawType": "float64",
         "type": "float"
        },
        {
         "name": "dropoff_latitude",
         "rawType": "float64",
         "type": "float"
        },
        {
         "name": "store_and_fwd_flag",
         "rawType": "object",
         "type": "string"
        },
        {
         "name": "trip_duration",
         "rawType": "int64",
         "type": "integer"
        },
        {
         "name": "pickup_date",
         "rawType": "object",
         "type": "unknown"
        },
        {
         "name": "pickup_hour",
         "rawType": "int32",
         "type": "integer"
        },
        {
         "name": "pickup_day_of_week",
         "rawType": "int32",
         "type": "integer"
        },
        {
         "name": "holiday",
         "rawType": "int64",
         "type": "integer"
        }
       ],
       "ref": "76c8a23d-e420-4289-9c44-cd293944c4eb",
       "rows": [
        [
         "0",
         "id2875421",
         "2",
         "2016-03-14 17:24:55",
         "2016-03-14 17:32:30",
         "1",
         "-73.98215484619139",
         "40.76793670654297",
         "-73.96463012695312",
         "40.765602111816406",
         "N",
         "455",
         "2016-03-14",
         "17",
         "0",
         "0"
        ],
        [
         "1",
         "id2377394",
         "1",
         "2016-06-12 00:43:35",
         "2016-06-12 00:54:38",
         "1",
         "-73.98041534423827",
         "40.738563537597656",
         "-73.99948120117188",
         "40.731151580810554",
         "N",
         "663",
         "2016-06-12",
         "0",
         "6",
         "0"
        ],
        [
         "2",
         "id3858529",
         "2",
         "2016-01-19 11:35:24",
         "2016-01-19 12:10:48",
         "1",
         "-73.97902679443358",
         "40.763938903808594",
         "-74.00533294677734",
         "40.710086822509766",
         "N",
         "2124",
         "2016-01-19",
         "11",
         "1",
         "0"
        ],
        [
         "3",
         "id3504673",
         "2",
         "2016-04-06 19:32:31",
         "2016-04-06 19:39:40",
         "1",
         "-74.01004028320312",
         "40.719970703125",
         "-74.01226806640625",
         "40.70671844482422",
         "N",
         "429",
         "2016-04-06",
         "19",
         "2",
         "0"
        ],
        [
         "4",
         "id2181028",
         "2",
         "2016-03-26 13:30:55",
         "2016-03-26 13:38:10",
         "1",
         "-73.97305297851561",
         "40.79320907592773",
         "-73.9729232788086",
         "40.782520294189446",
         "N",
         "435",
         "2016-03-26",
         "13",
         "5",
         "0"
        ],
        [
         "5",
         "id0801584",
         "2",
         "2016-01-30 22:01:40",
         "2016-01-30 22:09:03",
         "6",
         "-73.98285675048828",
         "40.74219512939453",
         "-73.99208068847656",
         "40.74918365478516",
         "N",
         "443",
         "2016-01-30",
         "22",
         "5",
         "0"
        ],
        [
         "6",
         "id1813257",
         "1",
         "2016-06-17 22:34:59",
         "2016-06-17 22:40:40",
         "4",
         "-73.9690170288086",
         "40.75783920288086",
         "-73.95740509033203",
         "40.76589584350586",
         "N",
         "341",
         "2016-06-17",
         "22",
         "4",
         "0"
        ],
        [
         "7",
         "id1324603",
         "2",
         "2016-05-21 07:54:58",
         "2016-05-21 08:20:49",
         "1",
         "-73.96927642822266",
         "40.79777908325195",
         "-73.92247009277344",
         "40.76055908203125",
         "N",
         "1551",
         "2016-05-21",
         "7",
         "5",
         "0"
        ],
        [
         "8",
         "id1301050",
         "1",
         "2016-05-27 23:12:23",
         "2016-05-27 23:16:38",
         "1",
         "-73.99948120117188",
         "40.738399505615234",
         "-73.98578643798828",
         "40.73281478881836",
         "N",
         "255",
         "2016-05-27",
         "23",
         "4",
         "0"
        ],
        [
         "9",
         "id0012891",
         "2",
         "2016-03-10 21:45:01",
         "2016-03-10 22:05:26",
         "1",
         "-73.98104858398438",
         "40.744338989257805",
         "-73.9729995727539",
         "40.78998947143555",
         "N",
         "1225",
         "2016-03-10",
         "21",
         "3",
         "0"
        ],
        [
         "10",
         "id1436371",
         "2",
         "2016-05-10 22:08:41",
         "2016-05-10 22:29:55",
         "1",
         "-73.98265075683594",
         "40.76383972167969",
         "-74.00222778320312",
         "40.73299026489258",
         "N",
         "1274",
         "2016-05-10",
         "22",
         "1",
         "0"
        ],
        [
         "11",
         "id1299289",
         "2",
         "2016-05-15 11:16:11",
         "2016-05-15 11:34:59",
         "4",
         "-73.9915313720703",
         "40.74943923950195",
         "-73.95654296875",
         "40.7706298828125",
         "N",
         "1128",
         "2016-05-15",
         "11",
         "6",
         "0"
        ],
        [
         "12",
         "id1187965",
         "2",
         "2016-02-19 09:52:46",
         "2016-02-19 10:11:20",
         "2",
         "-73.96298217773438",
         "40.7566795349121",
         "-73.98440551757811",
         "40.760719299316406",
         "N",
         "1114",
         "2016-02-19",
         "9",
         "4",
         "0"
        ],
        [
         "13",
         "id0799785",
         "2",
         "2016-06-01 20:58:29",
         "2016-06-01 21:02:49",
         "1",
         "-73.95630645751953",
         "40.76794052124024",
         "-73.96611022949219",
         "40.76300048828125",
         "N",
         "260",
         "2016-06-01",
         "20",
         "2",
         "0"
        ],
        [
         "14",
         "id2900608",
         "2",
         "2016-05-27 00:43:36",
         "2016-05-27 01:07:10",
         "1",
         "-73.99219512939453",
         "40.72722625732422",
         "-73.9746551513672",
         "40.783069610595696",
         "N",
         "1414",
         "2016-05-27",
         "0",
         "4",
         "0"
        ],
        [
         "15",
         "id3319787",
         "1",
         "2016-05-16 15:29:02",
         "2016-05-16 15:32:33",
         "1",
         "-73.95551300048828",
         "40.768592834472656",
         "-73.94876098632812",
         "40.77154541015625",
         "N",
         "211",
         "2016-05-16",
         "15",
         "0",
         "0"
        ],
        [
         "16",
         "id3379579",
         "2",
         "2016-04-11 17:29:50",
         "2016-04-11 18:08:26",
         "1",
         "-73.99116516113281",
         "40.75556182861328",
         "-73.9992904663086",
         "40.7253532409668",
         "N",
         "2316",
         "2016-04-11",
         "17",
         "0",
         "0"
        ],
        [
         "17",
         "id1154431",
         "1",
         "2016-04-14 08:48:26",
         "2016-04-14 09:00:37",
         "1",
         "-73.99425506591797",
         "40.745803833007805",
         "-73.9996566772461",
         "40.723342895507805",
         "N",
         "731",
         "2016-04-14",
         "8",
         "3",
         "0"
        ],
        [
         "18",
         "id3552682",
         "1",
         "2016-06-27 09:55:13",
         "2016-06-27 10:17:10",
         "1",
         "-74.00398254394531",
         "40.7130126953125",
         "-73.97919464111328",
         "40.74992370605469",
         "N",
         "1317",
         "2016-06-27",
         "9",
         "0",
         "0"
        ],
        [
         "19",
         "id3390316",
         "2",
         "2016-06-05 13:47:23",
         "2016-06-05 13:51:34",
         "1",
         "-73.98388671875",
         "40.73819732666016",
         "-73.99120330810547",
         "40.7278709411621",
         "N",
         "251",
         "2016-06-05",
         "13",
         "6",
         "0"
        ],
        [
         "20",
         "id2070428",
         "1",
         "2016-02-28 02:23:02",
         "2016-02-28 02:31:08",
         "1",
         "-73.9803695678711",
         "40.7424201965332",
         "-73.96285247802734",
         "40.76063537597656",
         "N",
         "486",
         "2016-02-28",
         "2",
         "6",
         "0"
        ],
        [
         "21",
         "id0809232",
         "2",
         "2016-04-01 12:12:25",
         "2016-04-01 12:23:17",
         "1",
         "-73.9795379638672",
         "40.753360748291016",
         "-73.96399688720702",
         "40.763458251953125",
         "N",
         "652",
         "2016-04-01",
         "12",
         "4",
         "0"
        ],
        [
         "22",
         "id2352683",
         "1",
         "2016-04-09 03:34:27",
         "2016-04-09 03:41:30",
         "1",
         "-73.99586486816406",
         "40.7588119506836",
         "-73.99332427978516",
         "40.74032211303711",
         "N",
         "423",
         "2016-04-09",
         "3",
         "5",
         "0"
        ],
        [
         "23",
         "id1603037",
         "1",
         "2016-06-25 10:36:26",
         "2016-06-25 10:55:49",
         "1",
         "-73.9935531616211",
         "40.747173309326165",
         "-74.00614166259764",
         "40.704383850097656",
         "N",
         "1163",
         "2016-06-25",
         "10",
         "5",
         "0"
        ],
        [
         "24",
         "id3321406",
         "2",
         "2016-06-03 08:15:05",
         "2016-06-03 08:56:30",
         "1",
         "-73.95523071289062",
         "40.77713394165039",
         "-73.78874969482422",
         "40.64147186279297",
         "N",
         "2485",
         "2016-06-03",
         "8",
         "4",
         "0"
        ],
        [
         "25",
         "id0129640",
         "2",
         "2016-02-14 13:27:56",
         "2016-02-14 13:49:19",
         "1",
         "-73.95658111572266",
         "40.77135848999024",
         "-73.97496795654298",
         "40.732791900634766",
         "N",
         "1283",
         "2016-02-14",
         "13",
         "6",
         "0"
        ],
        [
         "26",
         "id3587298",
         "1",
         "2016-02-27 21:56:01",
         "2016-02-27 22:14:51",
         "1",
         "-73.9837646484375",
         "40.74987411499024",
         "-73.95883178710938",
         "40.80096054077149",
         "N",
         "1130",
         "2016-02-27",
         "21",
         "5",
         "0"
        ],
        [
         "27",
         "id2104175",
         "1",
         "2016-06-20 23:07:16",
         "2016-06-20 23:18:50",
         "1",
         "-73.95843505859375",
         "40.713191986083984",
         "-73.9495391845703",
         "40.68025207519531",
         "N",
         "694",
         "2016-06-20",
         "23",
         "0",
         "0"
        ],
        [
         "28",
         "id3973319",
         "2",
         "2016-06-13 21:57:27",
         "2016-06-13 22:12:19",
         "1",
         "-73.99421691894531",
         "40.71330642700195",
         "-73.98284912109375",
         "40.69229888916016",
         "N",
         "892",
         "2016-06-13",
         "21",
         "0",
         "0"
        ],
        [
         "29",
         "id1410897",
         "1",
         "2016-03-23 14:10:39",
         "2016-03-23 14:49:30",
         "1",
         "-73.98211669921875",
         "40.75635147094727",
         "-73.86569213867188",
         "40.77098846435546",
         "N",
         "2331",
         "2016-03-23",
         "14",
         "2",
         "0"
        ],
        [
         "30",
         "id0266980",
         "1",
         "2016-05-17 10:47:51",
         "2016-05-17 11:12:30",
         "1",
         "-73.97093963623048",
         "40.76166915893555",
         "-73.9962387084961",
         "40.72536849975586",
         "N",
         "1479",
         "2016-05-17",
         "10",
         "1",
         "0"
        ],
        [
         "31",
         "id2822549",
         "2",
         "2016-05-21 13:03:24",
         "2016-05-21 13:20:52",
         "1",
         "-73.9982681274414",
         "40.720039367675774",
         "-74.01036071777344",
         "40.67213821411133",
         "N",
         "1048",
         "2016-05-21",
         "13",
         "5",
         "0"
        ],
        [
         "32",
         "id3075902",
         "2",
         "2016-05-10 19:27:38",
         "2016-05-10 19:44:40",
         "2",
         "-74.00550079345702",
         "40.706588745117195",
         "-73.9858169555664",
         "40.74420166015625",
         "N",
         "1022",
         "2016-05-10",
         "19",
         "1",
         "0"
        ],
        [
         "33",
         "id0023813",
         "1",
         "2016-04-17 14:38:30",
         "2016-04-17 15:16:19",
         "1",
         "-73.99031066894531",
         "40.7565803527832",
         "-73.87091827392578",
         "40.77392959594727",
         "N",
         "2269",
         "2016-04-17",
         "14",
         "6",
         "0"
        ],
        [
         "34",
         "id3970352",
         "1",
         "2016-01-09 12:55:35",
         "2016-01-09 13:07:22",
         "1",
         "-74.00899505615233",
         "40.712589263916016",
         "-73.99863433837889",
         "40.72280883789063",
         "N",
         "707",
         "2016-01-09",
         "12",
         "5",
         "0"
        ],
        [
         "35",
         "id3361153",
         "1",
         "2016-03-11 07:11:23",
         "2016-03-11 07:20:09",
         "1",
         "-73.99456024169923",
         "40.750526428222656",
         "-73.97850036621094",
         "40.7561912536621",
         "N",
         "526",
         "2016-03-11",
         "7",
         "4",
         "0"
        ],
        [
         "36",
         "id1870624",
         "1",
         "2016-01-05 15:29:54",
         "2016-01-05 15:39:07",
         "3",
         "-73.9515151977539",
         "40.77024841308594",
         "-73.95852661132812",
         "40.76151657104492",
         "N",
         "553",
         "2016-01-05",
         "15",
         "1",
         "0"
        ],
        [
         "37",
         "id2403238",
         "1",
         "2016-06-23 23:00:09",
         "2016-06-23 23:04:46",
         "1",
         "-73.98806762695312",
         "40.72808074951172",
         "-73.98075103759764",
         "40.72146987915039",
         "N",
         "277",
         "2016-06-23",
         "23",
         "3",
         "0"
        ],
        [
         "38",
         "id3323083",
         "1",
         "2016-05-27 14:26:12",
         "2016-05-27 14:46:01",
         "2",
         "-73.97812652587889",
         "40.75834274291992",
         "-73.99224853515625",
         "40.73054122924805",
         "N",
         "1189",
         "2016-05-27",
         "14",
         "4",
         "0"
        ],
        [
         "39",
         "id3720663",
         "1",
         "2016-05-10 16:14:56",
         "2016-05-10 16:40:19",
         "1",
         "-73.97776794433594",
         "40.77407836914063",
         "-73.9471435546875",
         "40.77599334716797",
         "N",
         "1523",
         "2016-05-10",
         "16",
         "1",
         "0"
        ],
        [
         "40",
         "id0578558",
         "1",
         "2016-04-21 21:28:27",
         "2016-04-21 21:52:37",
         "2",
         "-73.9885482788086",
         "40.74597930908203",
         "-73.97088623046875",
         "40.79338455200195",
         "N",
         "1450",
         "2016-04-21",
         "21",
         "3",
         "0"
        ],
        [
         "41",
         "id2573056",
         "2",
         "2016-04-14 13:27:52",
         "2016-04-14 13:46:14",
         "2",
         "-73.97472381591797",
         "40.75113677978516",
         "-73.9544448852539",
         "40.76411819458008",
         "N",
         "1102",
         "2016-04-14",
         "13",
         "3",
         "0"
        ],
        [
         "42",
         "id2129090",
         "1",
         "2016-03-14 14:05:39",
         "2016-03-14 14:28:05",
         "1",
         "-73.97509002685547",
         "40.758766174316406",
         "-73.95320129394531",
         "40.76506805419922",
         "N",
         "1346",
         "2016-03-14",
         "14",
         "0",
         "0"
        ],
        [
         "43",
         "id3961107",
         "1",
         "2016-03-19 01:12:46",
         "2016-03-19 01:18:49",
         "1",
         "-73.97647094726561",
         "40.73978042602539",
         "-73.98066711425781",
         "40.72996520996094",
         "N",
         "363",
         "2016-03-19",
         "1",
         "5",
         "0"
        ],
        [
         "44",
         "id3326491",
         "2",
         "2016-02-12 07:41:56",
         "2016-02-12 07:51:15",
         "1",
         "-73.97964477539062",
         "40.73963165283203",
         "-73.99472808837889",
         "40.72349548339844",
         "N",
         "559",
         "2016-02-12",
         "7",
         "4",
         "1"
        ],
        [
         "45",
         "id0718344",
         "2",
         "2016-06-13 15:52:20",
         "2016-06-13 16:16:58",
         "1",
         "-74.01632690429686",
         "40.70499038696289",
         "-73.98210906982422",
         "40.773750305175774",
         "N",
         "1478",
         "2016-06-13",
         "15",
         "0",
         "0"
        ],
        [
         "46",
         "id3188770",
         "1",
         "2016-01-03 16:59:02",
         "2016-01-03 17:04:50",
         "1",
         "-73.98513793945312",
         "40.73219299316406",
         "-73.98963928222656",
         "40.72087478637695",
         "N",
         "348",
         "2016-01-03",
         "16",
         "6",
         "0"
        ],
        [
         "47",
         "id1956279",
         "2",
         "2016-02-26 08:37:00",
         "2016-02-26 08:43:15",
         "1",
         "-73.98165893554686",
         "40.778972625732415",
         "-73.96981048583984",
         "40.79212951660156",
         "N",
         "375",
         "2016-02-26",
         "8",
         "4",
         "0"
        ],
        [
         "48",
         "id2391523",
         "1",
         "2016-05-18 21:50:24",
         "2016-05-18 22:10:41",
         "3",
         "-73.9661636352539",
         "40.766914367675774",
         "-73.99217987060547",
         "40.7258186340332",
         "N",
         "1217",
         "2016-05-18",
         "21",
         "2",
         "0"
        ],
        [
         "49",
         "id2662609",
         "1",
         "2016-04-10 19:11:03",
         "2016-04-10 19:25:39",
         "1",
         "-73.96546936035155",
         "40.765846252441406",
         "-73.96095275878906",
         "40.79692840576172",
         "N",
         "876",
         "2016-04-10",
         "19",
         "6",
         "0"
        ]
       ],
       "shape": {
        "columns": 15,
        "rows": 1458644
       }
      },
      "text/html": [
       "<div>\n",
       "<style scoped>\n",
       "    .dataframe tbody tr th:only-of-type {\n",
       "        vertical-align: middle;\n",
       "    }\n",
       "\n",
       "    .dataframe tbody tr th {\n",
       "        vertical-align: top;\n",
       "    }\n",
       "\n",
       "    .dataframe thead th {\n",
       "        text-align: right;\n",
       "    }\n",
       "</style>\n",
       "<table border=\"1\" class=\"dataframe\">\n",
       "  <thead>\n",
       "    <tr style=\"text-align: right;\">\n",
       "      <th></th>\n",
       "      <th>id</th>\n",
       "      <th>vendor_id</th>\n",
       "      <th>pickup_datetime</th>\n",
       "      <th>dropoff_datetime</th>\n",
       "      <th>passenger_count</th>\n",
       "      <th>pickup_longitude</th>\n",
       "      <th>pickup_latitude</th>\n",
       "      <th>dropoff_longitude</th>\n",
       "      <th>dropoff_latitude</th>\n",
       "      <th>store_and_fwd_flag</th>\n",
       "      <th>trip_duration</th>\n",
       "      <th>pickup_date</th>\n",
       "      <th>pickup_hour</th>\n",
       "      <th>pickup_day_of_week</th>\n",
       "      <th>holiday</th>\n",
       "    </tr>\n",
       "  </thead>\n",
       "  <tbody>\n",
       "    <tr>\n",
       "      <th>0</th>\n",
       "      <td>id2875421</td>\n",
       "      <td>2</td>\n",
       "      <td>2016-03-14 17:24:55</td>\n",
       "      <td>2016-03-14 17:32:30</td>\n",
       "      <td>1</td>\n",
       "      <td>-73.982155</td>\n",
       "      <td>40.767937</td>\n",
       "      <td>-73.964630</td>\n",
       "      <td>40.765602</td>\n",
       "      <td>N</td>\n",
       "      <td>455</td>\n",
       "      <td>2016-03-14</td>\n",
       "      <td>17</td>\n",
       "      <td>0</td>\n",
       "      <td>0</td>\n",
       "    </tr>\n",
       "    <tr>\n",
       "      <th>1</th>\n",
       "      <td>id2377394</td>\n",
       "      <td>1</td>\n",
       "      <td>2016-06-12 00:43:35</td>\n",
       "      <td>2016-06-12 00:54:38</td>\n",
       "      <td>1</td>\n",
       "      <td>-73.980415</td>\n",
       "      <td>40.738564</td>\n",
       "      <td>-73.999481</td>\n",
       "      <td>40.731152</td>\n",
       "      <td>N</td>\n",
       "      <td>663</td>\n",
       "      <td>2016-06-12</td>\n",
       "      <td>0</td>\n",
       "      <td>6</td>\n",
       "      <td>0</td>\n",
       "    </tr>\n",
       "    <tr>\n",
       "      <th>2</th>\n",
       "      <td>id3858529</td>\n",
       "      <td>2</td>\n",
       "      <td>2016-01-19 11:35:24</td>\n",
       "      <td>2016-01-19 12:10:48</td>\n",
       "      <td>1</td>\n",
       "      <td>-73.979027</td>\n",
       "      <td>40.763939</td>\n",
       "      <td>-74.005333</td>\n",
       "      <td>40.710087</td>\n",
       "      <td>N</td>\n",
       "      <td>2124</td>\n",
       "      <td>2016-01-19</td>\n",
       "      <td>11</td>\n",
       "      <td>1</td>\n",
       "      <td>0</td>\n",
       "    </tr>\n",
       "    <tr>\n",
       "      <th>3</th>\n",
       "      <td>id3504673</td>\n",
       "      <td>2</td>\n",
       "      <td>2016-04-06 19:32:31</td>\n",
       "      <td>2016-04-06 19:39:40</td>\n",
       "      <td>1</td>\n",
       "      <td>-74.010040</td>\n",
       "      <td>40.719971</td>\n",
       "      <td>-74.012268</td>\n",
       "      <td>40.706718</td>\n",
       "      <td>N</td>\n",
       "      <td>429</td>\n",
       "      <td>2016-04-06</td>\n",
       "      <td>19</td>\n",
       "      <td>2</td>\n",
       "      <td>0</td>\n",
       "    </tr>\n",
       "    <tr>\n",
       "      <th>4</th>\n",
       "      <td>id2181028</td>\n",
       "      <td>2</td>\n",
       "      <td>2016-03-26 13:30:55</td>\n",
       "      <td>2016-03-26 13:38:10</td>\n",
       "      <td>1</td>\n",
       "      <td>-73.973053</td>\n",
       "      <td>40.793209</td>\n",
       "      <td>-73.972923</td>\n",
       "      <td>40.782520</td>\n",
       "      <td>N</td>\n",
       "      <td>435</td>\n",
       "      <td>2016-03-26</td>\n",
       "      <td>13</td>\n",
       "      <td>5</td>\n",
       "      <td>0</td>\n",
       "    </tr>\n",
       "    <tr>\n",
       "      <th>...</th>\n",
       "      <td>...</td>\n",
       "      <td>...</td>\n",
       "      <td>...</td>\n",
       "      <td>...</td>\n",
       "      <td>...</td>\n",
       "      <td>...</td>\n",
       "      <td>...</td>\n",
       "      <td>...</td>\n",
       "      <td>...</td>\n",
       "      <td>...</td>\n",
       "      <td>...</td>\n",
       "      <td>...</td>\n",
       "      <td>...</td>\n",
       "      <td>...</td>\n",
       "      <td>...</td>\n",
       "    </tr>\n",
       "    <tr>\n",
       "      <th>1458639</th>\n",
       "      <td>id2376096</td>\n",
       "      <td>2</td>\n",
       "      <td>2016-04-08 13:31:04</td>\n",
       "      <td>2016-04-08 13:44:02</td>\n",
       "      <td>4</td>\n",
       "      <td>-73.982201</td>\n",
       "      <td>40.745522</td>\n",
       "      <td>-73.994911</td>\n",
       "      <td>40.740170</td>\n",
       "      <td>N</td>\n",
       "      <td>778</td>\n",
       "      <td>2016-04-08</td>\n",
       "      <td>13</td>\n",
       "      <td>4</td>\n",
       "      <td>0</td>\n",
       "    </tr>\n",
       "    <tr>\n",
       "      <th>1458640</th>\n",
       "      <td>id1049543</td>\n",
       "      <td>1</td>\n",
       "      <td>2016-01-10 07:35:15</td>\n",
       "      <td>2016-01-10 07:46:10</td>\n",
       "      <td>1</td>\n",
       "      <td>-74.000946</td>\n",
       "      <td>40.747379</td>\n",
       "      <td>-73.970184</td>\n",
       "      <td>40.796547</td>\n",
       "      <td>N</td>\n",
       "      <td>655</td>\n",
       "      <td>2016-01-10</td>\n",
       "      <td>7</td>\n",
       "      <td>6</td>\n",
       "      <td>0</td>\n",
       "    </tr>\n",
       "    <tr>\n",
       "      <th>1458641</th>\n",
       "      <td>id2304944</td>\n",
       "      <td>2</td>\n",
       "      <td>2016-04-22 06:57:41</td>\n",
       "      <td>2016-04-22 07:10:25</td>\n",
       "      <td>1</td>\n",
       "      <td>-73.959129</td>\n",
       "      <td>40.768799</td>\n",
       "      <td>-74.004433</td>\n",
       "      <td>40.707371</td>\n",
       "      <td>N</td>\n",
       "      <td>764</td>\n",
       "      <td>2016-04-22</td>\n",
       "      <td>6</td>\n",
       "      <td>4</td>\n",
       "      <td>0</td>\n",
       "    </tr>\n",
       "    <tr>\n",
       "      <th>1458642</th>\n",
       "      <td>id2714485</td>\n",
       "      <td>1</td>\n",
       "      <td>2016-01-05 15:56:26</td>\n",
       "      <td>2016-01-05 16:02:39</td>\n",
       "      <td>1</td>\n",
       "      <td>-73.982079</td>\n",
       "      <td>40.749062</td>\n",
       "      <td>-73.974632</td>\n",
       "      <td>40.757107</td>\n",
       "      <td>N</td>\n",
       "      <td>373</td>\n",
       "      <td>2016-01-05</td>\n",
       "      <td>15</td>\n",
       "      <td>1</td>\n",
       "      <td>0</td>\n",
       "    </tr>\n",
       "    <tr>\n",
       "      <th>1458643</th>\n",
       "      <td>id1209952</td>\n",
       "      <td>1</td>\n",
       "      <td>2016-04-05 14:44:25</td>\n",
       "      <td>2016-04-05 14:47:43</td>\n",
       "      <td>1</td>\n",
       "      <td>-73.979538</td>\n",
       "      <td>40.781750</td>\n",
       "      <td>-73.972809</td>\n",
       "      <td>40.790585</td>\n",
       "      <td>N</td>\n",
       "      <td>198</td>\n",
       "      <td>2016-04-05</td>\n",
       "      <td>14</td>\n",
       "      <td>1</td>\n",
       "      <td>0</td>\n",
       "    </tr>\n",
       "  </tbody>\n",
       "</table>\n",
       "<p>1458644 rows × 15 columns</p>\n",
       "</div>"
      ],
      "text/plain": [
       "                id  vendor_id     pickup_datetime     dropoff_datetime  \\\n",
       "0        id2875421          2 2016-03-14 17:24:55  2016-03-14 17:32:30   \n",
       "1        id2377394          1 2016-06-12 00:43:35  2016-06-12 00:54:38   \n",
       "2        id3858529          2 2016-01-19 11:35:24  2016-01-19 12:10:48   \n",
       "3        id3504673          2 2016-04-06 19:32:31  2016-04-06 19:39:40   \n",
       "4        id2181028          2 2016-03-26 13:30:55  2016-03-26 13:38:10   \n",
       "...            ...        ...                 ...                  ...   \n",
       "1458639  id2376096          2 2016-04-08 13:31:04  2016-04-08 13:44:02   \n",
       "1458640  id1049543          1 2016-01-10 07:35:15  2016-01-10 07:46:10   \n",
       "1458641  id2304944          2 2016-04-22 06:57:41  2016-04-22 07:10:25   \n",
       "1458642  id2714485          1 2016-01-05 15:56:26  2016-01-05 16:02:39   \n",
       "1458643  id1209952          1 2016-04-05 14:44:25  2016-04-05 14:47:43   \n",
       "\n",
       "         passenger_count  pickup_longitude  pickup_latitude  \\\n",
       "0                      1        -73.982155        40.767937   \n",
       "1                      1        -73.980415        40.738564   \n",
       "2                      1        -73.979027        40.763939   \n",
       "3                      1        -74.010040        40.719971   \n",
       "4                      1        -73.973053        40.793209   \n",
       "...                  ...               ...              ...   \n",
       "1458639                4        -73.982201        40.745522   \n",
       "1458640                1        -74.000946        40.747379   \n",
       "1458641                1        -73.959129        40.768799   \n",
       "1458642                1        -73.982079        40.749062   \n",
       "1458643                1        -73.979538        40.781750   \n",
       "\n",
       "         dropoff_longitude  dropoff_latitude store_and_fwd_flag  \\\n",
       "0               -73.964630         40.765602                  N   \n",
       "1               -73.999481         40.731152                  N   \n",
       "2               -74.005333         40.710087                  N   \n",
       "3               -74.012268         40.706718                  N   \n",
       "4               -73.972923         40.782520                  N   \n",
       "...                    ...               ...                ...   \n",
       "1458639         -73.994911         40.740170                  N   \n",
       "1458640         -73.970184         40.796547                  N   \n",
       "1458641         -74.004433         40.707371                  N   \n",
       "1458642         -73.974632         40.757107                  N   \n",
       "1458643         -73.972809         40.790585                  N   \n",
       "\n",
       "         trip_duration pickup_date  pickup_hour  pickup_day_of_week  holiday  \n",
       "0                  455  2016-03-14           17                   0        0  \n",
       "1                  663  2016-06-12            0                   6        0  \n",
       "2                 2124  2016-01-19           11                   1        0  \n",
       "3                  429  2016-04-06           19                   2        0  \n",
       "4                  435  2016-03-26           13                   5        0  \n",
       "...                ...         ...          ...                 ...      ...  \n",
       "1458639            778  2016-04-08           13                   4        0  \n",
       "1458640            655  2016-01-10            7                   6        0  \n",
       "1458641            764  2016-04-22            6                   4        0  \n",
       "1458642            373  2016-01-05           15                   1        0  \n",
       "1458643            198  2016-04-05           14                   1        0  \n",
       "\n",
       "[1458644 rows x 15 columns]"
      ]
     },
     "execution_count": 11,
     "metadata": {},
     "output_type": "execute_result"
    }
   ],
   "source": [
    "taxi_data = add_holiday_features(taxi_data, holiday_data)\n",
    "taxi_data"
   ]
  },
  {
   "cell_type": "code",
   "execution_count": 12,
   "metadata": {},
   "outputs": [
    {
     "name": "stdout",
     "output_type": "stream",
     "text": [
      "Median duration of the trip:\n",
      "holiday\n",
      "0    665.0\n",
      "1    585.0\n",
      "Name: trip_duration, dtype: float64\n"
     ]
    }
   ],
   "source": [
    "print('Median duration of the trip:')\n",
    "print(f'{taxi_data.groupby(['holiday'])\\\n",
    "    .median('trip_duration')['trip_duration']}')"
   ]
  },
  {
   "attachments": {},
   "cell_type": "markdown",
   "metadata": {
    "id": "YPxMlVMAkBLl"
   },
   "source": [
    "### Задание 2.6\n",
    "Реализуйте функцию add_osrm_features(), которая принимает на вход две таблицы:\n",
    "* таблицу с данными о поездках;\n",
    "* таблицу с данными из OSRM;\n",
    "\n",
    "и возвращает обновленную таблицу с данными о поездках с добавленными в нее 3 столбцами:\n",
    "* total_distance;\n",
    "* total_travel_time;\n",
    "* number_of_steps.\n",
    "\n",
    "а) Чему равна разница (в секундах) между медианной длительностью поездки в данных и медианной длительностью поездки, полученной из OSRM? \n",
    "\n",
    "В результате объединения таблиц у вас должны были получиться пропуски в столбцах с информацией из OSRM API. Это связано с тем, что для некоторых поездок не удалось выгрузить данные из веб источника. \n",
    "\n",
    "б) Сколько пропусков содержится в столбцах с информацией из OSRM API после объединения таблиц?"
   ]
  },
  {
   "cell_type": "code",
   "execution_count": 13,
   "metadata": {
    "id": "uey_zFbwkBLm"
   },
   "outputs": [
    {
     "data": {
      "application/vnd.microsoft.datawrangler.viewer.v0+json": {
       "columns": [
        {
         "name": "index",
         "rawType": "int64",
         "type": "integer"
        },
        {
         "name": "id",
         "rawType": "object",
         "type": "string"
        },
        {
         "name": "total_distance",
         "rawType": "float64",
         "type": "float"
        },
        {
         "name": "total_travel_time",
         "rawType": "float64",
         "type": "float"
        },
        {
         "name": "number_of_steps",
         "rawType": "int64",
         "type": "integer"
        }
       ],
       "ref": "34dd6b24-4bf7-4ae9-b07b-0d011630b365",
       "rows": [
        [
         "0",
         "id2875421",
         "2009.1",
         "164.9",
         "5"
        ],
        [
         "1",
         "id2377394",
         "2513.2",
         "332.0",
         "6"
        ],
        [
         "2",
         "id3504673",
         "1779.4",
         "235.8",
         "4"
        ],
        [
         "3",
         "id2181028",
         "1614.9",
         "140.1",
         "5"
        ],
        [
         "4",
         "id0801584",
         "1393.5",
         "189.4",
         "5"
        ],
        [
         "5",
         "id1813257",
         "1705.1",
         "138.8",
         "5"
        ],
        [
         "6",
         "id1301050",
         "1310.7",
         "160.6",
         "2"
        ],
        [
         "7",
         "id0012891",
         "6786.8",
         "601.8",
         "13"
        ],
        [
         "8",
         "id1436371",
         "3935.0",
         "535.4",
         "6"
        ],
        [
         "9",
         "id1299289",
         "5596.6",
         "514.8",
         "9"
        ],
        [
         "10",
         "id1187965",
         "2276.6",
         "207.9",
         "4"
        ],
        [
         "11",
         "id0799785",
         "1337.9",
         "132.4",
         "4"
        ],
        [
         "12",
         "id2900608",
         "8017.6",
         "807.7",
         "10"
        ],
        [
         "13",
         "id3319787",
         "896.8",
         "88.1",
         "5"
        ],
        [
         "14",
         "id3390316",
         "1332.3",
         "183.1",
         "4"
        ],
        [
         "15",
         "id0809232",
         "3334.3",
         "331.2",
         "11"
        ],
        [
         "16",
         "id2352683",
         "3044.3",
         "353.9",
         "8"
        ],
        [
         "17",
         "id1603037",
         "5558.2",
         "745.0",
         "9"
        ],
        [
         "18",
         "id2104175",
         "4265.2",
         "312.9",
         "8"
        ],
        [
         "19",
         "id3973319",
         "2526.4",
         "190.2",
         "3"
        ],
        [
         "20",
         "id0266980",
         "5535.3",
         "625.8",
         "4"
        ],
        [
         "21",
         "id3970352",
         "1730.6",
         "247.1",
         "7"
        ],
        [
         "22",
         "id3361153",
         "2311.4",
         "261.1",
         "6"
        ],
        [
         "23",
         "id2403238",
         "1237.4",
         "185.3",
         "4"
        ],
        [
         "24",
         "id3323083",
         "4139.2",
         "491.1",
         "10"
        ],
        [
         "25",
         "id3720663",
         "4173.4",
         "342.5",
         "7"
        ],
        [
         "26",
         "id2129090",
         "2782.9",
         "244.6",
         "7"
        ],
        [
         "27",
         "id3961107",
         "1866.7",
         "253.4",
         "8"
        ],
        [
         "28",
         "id3326491",
         "2451.3",
         "333.1",
         "4"
        ],
        [
         "29",
         "id0718344",
         "9765.6",
         "902.3",
         "10"
        ],
        [
         "30",
         "id3188770",
         "1524.9",
         "212.7",
         "4"
        ],
        [
         "31",
         "id1956279",
         "1907.0",
         "164.4",
         "3"
        ],
        [
         "32",
         "id2662609",
         "4847.8",
         "427.9",
         "7"
        ],
        [
         "33",
         "id0675800",
         "2660.1",
         "217.5",
         "3"
        ],
        [
         "34",
         "id2569332",
         "1395.3",
         "170.9",
         "5"
        ],
        [
         "35",
         "id1388344",
         "2554.4",
         "242.0",
         "5"
        ],
        [
         "36",
         "id1079955",
         "5472.3",
         "649.5",
         "7"
        ],
        [
         "37",
         "id1674872",
         "4191.1",
         "299.0",
         "8"
        ],
        [
         "38",
         "id1040444",
         "3724.9",
         "340.8",
         "8"
        ],
        [
         "39",
         "id1674996",
         "2204.4",
         "274.2",
         "6"
        ],
        [
         "40",
         "id0515898",
         "1509.5",
         "201.2",
         "4"
        ],
        [
         "41",
         "id1680350",
         "963.4",
         "139.0",
         "5"
        ],
        [
         "42",
         "id0913838",
         "2943.4",
         "289.6",
         "5"
        ],
        [
         "43",
         "id2846400",
         "1747.9",
         "235.1",
         "7"
        ],
        [
         "44",
         "id1510700",
         "453.8",
         "49.3",
         "3"
        ],
        [
         "45",
         "id0813128",
         "1221.6",
         "160.2",
         "5"
        ],
        [
         "46",
         "id0959273",
         "4322.4",
         "355.3",
         "8"
        ],
        [
         "47",
         "id0739660",
         "6211.8",
         "527.9",
         "7"
        ],
        [
         "48",
         "id1082443",
         "1708.8",
         "154.3",
         "4"
        ],
        [
         "49",
         "id2934884",
         "1343.9",
         "139.8",
         "4"
        ]
       ],
       "shape": {
        "columns": 4,
        "rows": 1458643
       }
      },
      "text/html": [
       "<div>\n",
       "<style scoped>\n",
       "    .dataframe tbody tr th:only-of-type {\n",
       "        vertical-align: middle;\n",
       "    }\n",
       "\n",
       "    .dataframe tbody tr th {\n",
       "        vertical-align: top;\n",
       "    }\n",
       "\n",
       "    .dataframe thead th {\n",
       "        text-align: right;\n",
       "    }\n",
       "</style>\n",
       "<table border=\"1\" class=\"dataframe\">\n",
       "  <thead>\n",
       "    <tr style=\"text-align: right;\">\n",
       "      <th></th>\n",
       "      <th>id</th>\n",
       "      <th>total_distance</th>\n",
       "      <th>total_travel_time</th>\n",
       "      <th>number_of_steps</th>\n",
       "    </tr>\n",
       "  </thead>\n",
       "  <tbody>\n",
       "    <tr>\n",
       "      <th>0</th>\n",
       "      <td>id2875421</td>\n",
       "      <td>2009.1</td>\n",
       "      <td>164.9</td>\n",
       "      <td>5</td>\n",
       "    </tr>\n",
       "    <tr>\n",
       "      <th>1</th>\n",
       "      <td>id2377394</td>\n",
       "      <td>2513.2</td>\n",
       "      <td>332.0</td>\n",
       "      <td>6</td>\n",
       "    </tr>\n",
       "    <tr>\n",
       "      <th>2</th>\n",
       "      <td>id3504673</td>\n",
       "      <td>1779.4</td>\n",
       "      <td>235.8</td>\n",
       "      <td>4</td>\n",
       "    </tr>\n",
       "    <tr>\n",
       "      <th>3</th>\n",
       "      <td>id2181028</td>\n",
       "      <td>1614.9</td>\n",
       "      <td>140.1</td>\n",
       "      <td>5</td>\n",
       "    </tr>\n",
       "    <tr>\n",
       "      <th>4</th>\n",
       "      <td>id0801584</td>\n",
       "      <td>1393.5</td>\n",
       "      <td>189.4</td>\n",
       "      <td>5</td>\n",
       "    </tr>\n",
       "    <tr>\n",
       "      <th>...</th>\n",
       "      <td>...</td>\n",
       "      <td>...</td>\n",
       "      <td>...</td>\n",
       "      <td>...</td>\n",
       "    </tr>\n",
       "    <tr>\n",
       "      <th>1458638</th>\n",
       "      <td>id2976426</td>\n",
       "      <td>28051.1</td>\n",
       "      <td>1462.5</td>\n",
       "      <td>13</td>\n",
       "    </tr>\n",
       "    <tr>\n",
       "      <th>1458639</th>\n",
       "      <td>id1440046</td>\n",
       "      <td>29616.3</td>\n",
       "      <td>1643.2</td>\n",
       "      <td>16</td>\n",
       "    </tr>\n",
       "    <tr>\n",
       "      <th>1458640</th>\n",
       "      <td>id1607338</td>\n",
       "      <td>25615.0</td>\n",
       "      <td>1765.1</td>\n",
       "      <td>30</td>\n",
       "    </tr>\n",
       "    <tr>\n",
       "      <th>1458641</th>\n",
       "      <td>id2071901</td>\n",
       "      <td>20284.1</td>\n",
       "      <td>1074.3</td>\n",
       "      <td>14</td>\n",
       "    </tr>\n",
       "    <tr>\n",
       "      <th>1458642</th>\n",
       "      <td>id0995846</td>\n",
       "      <td>30302.5</td>\n",
       "      <td>1675.8</td>\n",
       "      <td>20</td>\n",
       "    </tr>\n",
       "  </tbody>\n",
       "</table>\n",
       "<p>1458643 rows × 4 columns</p>\n",
       "</div>"
      ],
      "text/plain": [
       "                id  total_distance  total_travel_time  number_of_steps\n",
       "0        id2875421          2009.1              164.9                5\n",
       "1        id2377394          2513.2              332.0                6\n",
       "2        id3504673          1779.4              235.8                4\n",
       "3        id2181028          1614.9              140.1                5\n",
       "4        id0801584          1393.5              189.4                5\n",
       "...            ...             ...                ...              ...\n",
       "1458638  id2976426         28051.1             1462.5               13\n",
       "1458639  id1440046         29616.3             1643.2               16\n",
       "1458640  id1607338         25615.0             1765.1               30\n",
       "1458641  id2071901         20284.1             1074.3               14\n",
       "1458642  id0995846         30302.5             1675.8               20\n",
       "\n",
       "[1458643 rows x 4 columns]"
      ]
     },
     "execution_count": 13,
     "metadata": {},
     "output_type": "execute_result"
    }
   ],
   "source": [
    "osrm_data = pd.read_csv(path + 'data/osrm_data_train.csv')\n",
    "osrm_data = osrm_data[['id', 'total_distance', \n",
    "                       'total_travel_time', 'number_of_steps']]\n",
    "osrm_data"
   ]
  },
  {
   "cell_type": "code",
   "execution_count": 14,
   "metadata": {},
   "outputs": [
    {
     "data": {
      "application/vnd.microsoft.datawrangler.viewer.v0+json": {
       "columns": [
        {
         "name": "index",
         "rawType": "int64",
         "type": "integer"
        },
        {
         "name": "id",
         "rawType": "object",
         "type": "string"
        },
        {
         "name": "vendor_id",
         "rawType": "int64",
         "type": "integer"
        },
        {
         "name": "pickup_datetime",
         "rawType": "datetime64[ns]",
         "type": "datetime"
        },
        {
         "name": "dropoff_datetime",
         "rawType": "object",
         "type": "string"
        },
        {
         "name": "passenger_count",
         "rawType": "int64",
         "type": "integer"
        },
        {
         "name": "pickup_longitude",
         "rawType": "float64",
         "type": "float"
        },
        {
         "name": "pickup_latitude",
         "rawType": "float64",
         "type": "float"
        },
        {
         "name": "dropoff_longitude",
         "rawType": "float64",
         "type": "float"
        },
        {
         "name": "dropoff_latitude",
         "rawType": "float64",
         "type": "float"
        },
        {
         "name": "store_and_fwd_flag",
         "rawType": "object",
         "type": "string"
        },
        {
         "name": "trip_duration",
         "rawType": "int64",
         "type": "integer"
        },
        {
         "name": "pickup_date",
         "rawType": "object",
         "type": "unknown"
        },
        {
         "name": "pickup_hour",
         "rawType": "int32",
         "type": "integer"
        },
        {
         "name": "pickup_day_of_week",
         "rawType": "int32",
         "type": "integer"
        },
        {
         "name": "holiday",
         "rawType": "int64",
         "type": "integer"
        },
        {
         "name": "total_distance",
         "rawType": "float64",
         "type": "float"
        },
        {
         "name": "total_travel_time",
         "rawType": "float64",
         "type": "float"
        },
        {
         "name": "number_of_steps",
         "rawType": "float64",
         "type": "float"
        }
       ],
       "ref": "83fb7702-8aab-4293-92d2-9509eab45bd3",
       "rows": [
        [
         "0",
         "id2875421",
         "2",
         "2016-03-14 17:24:55",
         "2016-03-14 17:32:30",
         "1",
         "-73.98215484619139",
         "40.76793670654297",
         "-73.96463012695312",
         "40.765602111816406",
         "N",
         "455",
         "2016-03-14",
         "17",
         "0",
         "0",
         "2009.1",
         "164.9",
         "5.0"
        ],
        [
         "1",
         "id2377394",
         "1",
         "2016-06-12 00:43:35",
         "2016-06-12 00:54:38",
         "1",
         "-73.98041534423827",
         "40.738563537597656",
         "-73.99948120117188",
         "40.731151580810554",
         "N",
         "663",
         "2016-06-12",
         "0",
         "6",
         "0",
         "2513.2",
         "332.0",
         "6.0"
        ],
        [
         "2",
         "id3858529",
         "2",
         "2016-01-19 11:35:24",
         "2016-01-19 12:10:48",
         "1",
         "-73.97902679443358",
         "40.763938903808594",
         "-74.00533294677734",
         "40.710086822509766",
         "N",
         "2124",
         "2016-01-19",
         "11",
         "1",
         "0",
         "11060.8",
         "767.6",
         "16.0"
        ],
        [
         "3",
         "id3504673",
         "2",
         "2016-04-06 19:32:31",
         "2016-04-06 19:39:40",
         "1",
         "-74.01004028320312",
         "40.719970703125",
         "-74.01226806640625",
         "40.70671844482422",
         "N",
         "429",
         "2016-04-06",
         "19",
         "2",
         "0",
         "1779.4",
         "235.8",
         "4.0"
        ],
        [
         "4",
         "id2181028",
         "2",
         "2016-03-26 13:30:55",
         "2016-03-26 13:38:10",
         "1",
         "-73.97305297851561",
         "40.79320907592773",
         "-73.9729232788086",
         "40.782520294189446",
         "N",
         "435",
         "2016-03-26",
         "13",
         "5",
         "0",
         "1614.9",
         "140.1",
         "5.0"
        ],
        [
         "5",
         "id0801584",
         "2",
         "2016-01-30 22:01:40",
         "2016-01-30 22:09:03",
         "6",
         "-73.98285675048828",
         "40.74219512939453",
         "-73.99208068847656",
         "40.74918365478516",
         "N",
         "443",
         "2016-01-30",
         "22",
         "5",
         "0",
         "1393.5",
         "189.4",
         "5.0"
        ],
        [
         "6",
         "id1813257",
         "1",
         "2016-06-17 22:34:59",
         "2016-06-17 22:40:40",
         "4",
         "-73.9690170288086",
         "40.75783920288086",
         "-73.95740509033203",
         "40.76589584350586",
         "N",
         "341",
         "2016-06-17",
         "22",
         "4",
         "0",
         "1705.1",
         "138.8",
         "5.0"
        ],
        [
         "7",
         "id1324603",
         "2",
         "2016-05-21 07:54:58",
         "2016-05-21 08:20:49",
         "1",
         "-73.96927642822266",
         "40.79777908325195",
         "-73.92247009277344",
         "40.76055908203125",
         "N",
         "1551",
         "2016-05-21",
         "7",
         "5",
         "0",
         "10642.0",
         "769.2",
         "17.0"
        ],
        [
         "8",
         "id1301050",
         "1",
         "2016-05-27 23:12:23",
         "2016-05-27 23:16:38",
         "1",
         "-73.99948120117188",
         "40.738399505615234",
         "-73.98578643798828",
         "40.73281478881836",
         "N",
         "255",
         "2016-05-27",
         "23",
         "4",
         "0",
         "1310.7",
         "160.6",
         "2.0"
        ],
        [
         "9",
         "id0012891",
         "2",
         "2016-03-10 21:45:01",
         "2016-03-10 22:05:26",
         "1",
         "-73.98104858398438",
         "40.744338989257805",
         "-73.9729995727539",
         "40.78998947143555",
         "N",
         "1225",
         "2016-03-10",
         "21",
         "3",
         "0",
         "6786.8",
         "601.8",
         "13.0"
        ],
        [
         "10",
         "id1436371",
         "2",
         "2016-05-10 22:08:41",
         "2016-05-10 22:29:55",
         "1",
         "-73.98265075683594",
         "40.76383972167969",
         "-74.00222778320312",
         "40.73299026489258",
         "N",
         "1274",
         "2016-05-10",
         "22",
         "1",
         "0",
         "3935.0",
         "535.4",
         "6.0"
        ],
        [
         "11",
         "id1299289",
         "2",
         "2016-05-15 11:16:11",
         "2016-05-15 11:34:59",
         "4",
         "-73.9915313720703",
         "40.74943923950195",
         "-73.95654296875",
         "40.7706298828125",
         "N",
         "1128",
         "2016-05-15",
         "11",
         "6",
         "0",
         "5596.6",
         "514.8",
         "9.0"
        ],
        [
         "12",
         "id1187965",
         "2",
         "2016-02-19 09:52:46",
         "2016-02-19 10:11:20",
         "2",
         "-73.96298217773438",
         "40.7566795349121",
         "-73.98440551757811",
         "40.760719299316406",
         "N",
         "1114",
         "2016-02-19",
         "9",
         "4",
         "0",
         "2276.6",
         "207.9",
         "4.0"
        ],
        [
         "13",
         "id0799785",
         "2",
         "2016-06-01 20:58:29",
         "2016-06-01 21:02:49",
         "1",
         "-73.95630645751953",
         "40.76794052124024",
         "-73.96611022949219",
         "40.76300048828125",
         "N",
         "260",
         "2016-06-01",
         "20",
         "2",
         "0",
         "1337.9",
         "132.4",
         "4.0"
        ],
        [
         "14",
         "id2900608",
         "2",
         "2016-05-27 00:43:36",
         "2016-05-27 01:07:10",
         "1",
         "-73.99219512939453",
         "40.72722625732422",
         "-73.9746551513672",
         "40.783069610595696",
         "N",
         "1414",
         "2016-05-27",
         "0",
         "4",
         "0",
         "8017.6",
         "807.7",
         "10.0"
        ],
        [
         "15",
         "id3319787",
         "1",
         "2016-05-16 15:29:02",
         "2016-05-16 15:32:33",
         "1",
         "-73.95551300048828",
         "40.768592834472656",
         "-73.94876098632812",
         "40.77154541015625",
         "N",
         "211",
         "2016-05-16",
         "15",
         "0",
         "0",
         "896.8",
         "88.1",
         "5.0"
        ],
        [
         "16",
         "id3379579",
         "2",
         "2016-04-11 17:29:50",
         "2016-04-11 18:08:26",
         "1",
         "-73.99116516113281",
         "40.75556182861328",
         "-73.9992904663086",
         "40.7253532409668",
         "N",
         "2316",
         "2016-04-11",
         "17",
         "0",
         "0",
         "4442.7",
         "607.0",
         "9.0"
        ],
        [
         "17",
         "id1154431",
         "1",
         "2016-04-14 08:48:26",
         "2016-04-14 09:00:37",
         "1",
         "-73.99425506591797",
         "40.745803833007805",
         "-73.9996566772461",
         "40.723342895507805",
         "N",
         "731",
         "2016-04-14",
         "8",
         "3",
         "0",
         "3040.7",
         "405.6",
         "5.0"
        ],
        [
         "18",
         "id3552682",
         "1",
         "2016-06-27 09:55:13",
         "2016-06-27 10:17:10",
         "1",
         "-74.00398254394531",
         "40.7130126953125",
         "-73.97919464111328",
         "40.74992370605469",
         "N",
         "1317",
         "2016-06-27",
         "9",
         "0",
         "0",
         "4673.9",
         "625.1",
         "9.0"
        ],
        [
         "19",
         "id3390316",
         "2",
         "2016-06-05 13:47:23",
         "2016-06-05 13:51:34",
         "1",
         "-73.98388671875",
         "40.73819732666016",
         "-73.99120330810547",
         "40.7278709411621",
         "N",
         "251",
         "2016-06-05",
         "13",
         "6",
         "0",
         "1332.3",
         "183.1",
         "4.0"
        ],
        [
         "20",
         "id2070428",
         "1",
         "2016-02-28 02:23:02",
         "2016-02-28 02:31:08",
         "1",
         "-73.9803695678711",
         "40.7424201965332",
         "-73.96285247802734",
         "40.76063537597656",
         "N",
         "486",
         "2016-02-28",
         "2",
         "6",
         "0",
         "7355.4",
         "572.4",
         "13.0"
        ],
        [
         "21",
         "id0809232",
         "2",
         "2016-04-01 12:12:25",
         "2016-04-01 12:23:17",
         "1",
         "-73.9795379638672",
         "40.753360748291016",
         "-73.96399688720702",
         "40.763458251953125",
         "N",
         "652",
         "2016-04-01",
         "12",
         "4",
         "0",
         "3334.3",
         "331.2",
         "11.0"
        ],
        [
         "22",
         "id2352683",
         "1",
         "2016-04-09 03:34:27",
         "2016-04-09 03:41:30",
         "1",
         "-73.99586486816406",
         "40.7588119506836",
         "-73.99332427978516",
         "40.74032211303711",
         "N",
         "423",
         "2016-04-09",
         "3",
         "5",
         "0",
         "3044.3",
         "353.9",
         "8.0"
        ],
        [
         "23",
         "id1603037",
         "1",
         "2016-06-25 10:36:26",
         "2016-06-25 10:55:49",
         "1",
         "-73.9935531616211",
         "40.747173309326165",
         "-74.00614166259764",
         "40.704383850097656",
         "N",
         "1163",
         "2016-06-25",
         "10",
         "5",
         "0",
         "5558.2",
         "745.0",
         "9.0"
        ],
        [
         "24",
         "id3321406",
         "2",
         "2016-06-03 08:15:05",
         "2016-06-03 08:56:30",
         "1",
         "-73.95523071289062",
         "40.77713394165039",
         "-73.78874969482422",
         "40.64147186279297",
         "N",
         "2485",
         "2016-06-03",
         "8",
         "4",
         "0",
         "26126.9",
         "1543.2",
         "23.0"
        ],
        [
         "25",
         "id0129640",
         "2",
         "2016-02-14 13:27:56",
         "2016-02-14 13:49:19",
         "1",
         "-73.95658111572266",
         "40.77135848999024",
         "-73.97496795654298",
         "40.732791900634766",
         "N",
         "1283",
         "2016-02-14",
         "13",
         "6",
         "0",
         "5296.1",
         "372.7",
         "13.0"
        ],
        [
         "26",
         "id3587298",
         "1",
         "2016-02-27 21:56:01",
         "2016-02-27 22:14:51",
         "1",
         "-73.9837646484375",
         "40.74987411499024",
         "-73.95883178710938",
         "40.80096054077149",
         "N",
         "1130",
         "2016-02-27",
         "21",
         "5",
         "0",
         "9613.8",
         "634.9",
         "15.0"
        ],
        [
         "27",
         "id2104175",
         "1",
         "2016-06-20 23:07:16",
         "2016-06-20 23:18:50",
         "1",
         "-73.95843505859375",
         "40.713191986083984",
         "-73.9495391845703",
         "40.68025207519531",
         "N",
         "694",
         "2016-06-20",
         "23",
         "0",
         "0",
         "4265.2",
         "312.9",
         "8.0"
        ],
        [
         "28",
         "id3973319",
         "2",
         "2016-06-13 21:57:27",
         "2016-06-13 22:12:19",
         "1",
         "-73.99421691894531",
         "40.71330642700195",
         "-73.98284912109375",
         "40.69229888916016",
         "N",
         "892",
         "2016-06-13",
         "21",
         "0",
         "0",
         "2526.4",
         "190.2",
         "3.0"
        ],
        [
         "29",
         "id1410897",
         "1",
         "2016-03-23 14:10:39",
         "2016-03-23 14:49:30",
         "1",
         "-73.98211669921875",
         "40.75635147094727",
         "-73.86569213867188",
         "40.77098846435546",
         "N",
         "2331",
         "2016-03-23",
         "14",
         "2",
         "0",
         "13748.9",
         "1094.1",
         "24.0"
        ],
        [
         "30",
         "id0266980",
         "1",
         "2016-05-17 10:47:51",
         "2016-05-17 11:12:30",
         "1",
         "-73.97093963623048",
         "40.76166915893555",
         "-73.9962387084961",
         "40.72536849975586",
         "N",
         "1479",
         "2016-05-17",
         "10",
         "1",
         "0",
         "5535.3",
         "625.8",
         "4.0"
        ],
        [
         "31",
         "id2822549",
         "2",
         "2016-05-21 13:03:24",
         "2016-05-21 13:20:52",
         "1",
         "-73.9982681274414",
         "40.720039367675774",
         "-74.01036071777344",
         "40.67213821411133",
         "N",
         "1048",
         "2016-05-21",
         "13",
         "5",
         "0",
         "7993.0",
         "685.4",
         "19.0"
        ],
        [
         "32",
         "id3075902",
         "2",
         "2016-05-10 19:27:38",
         "2016-05-10 19:44:40",
         "2",
         "-74.00550079345702",
         "40.706588745117195",
         "-73.9858169555664",
         "40.74420166015625",
         "N",
         "1022",
         "2016-05-10",
         "19",
         "1",
         "0",
         "7554.1",
         "711.2",
         "12.0"
        ],
        [
         "33",
         "id0023813",
         "1",
         "2016-04-17 14:38:30",
         "2016-04-17 15:16:19",
         "1",
         "-73.99031066894531",
         "40.7565803527832",
         "-73.87091827392578",
         "40.77392959594727",
         "N",
         "2269",
         "2016-04-17",
         "14",
         "6",
         "0",
         "15668.3",
         "1000.4",
         "18.0"
        ],
        [
         "34",
         "id3970352",
         "1",
         "2016-01-09 12:55:35",
         "2016-01-09 13:07:22",
         "1",
         "-74.00899505615233",
         "40.712589263916016",
         "-73.99863433837889",
         "40.72280883789063",
         "N",
         "707",
         "2016-01-09",
         "12",
         "5",
         "0",
         "1730.6",
         "247.1",
         "7.0"
        ],
        [
         "35",
         "id3361153",
         "1",
         "2016-03-11 07:11:23",
         "2016-03-11 07:20:09",
         "1",
         "-73.99456024169923",
         "40.750526428222656",
         "-73.97850036621094",
         "40.7561912536621",
         "N",
         "526",
         "2016-03-11",
         "7",
         "4",
         "0",
         "2311.4",
         "261.1",
         "6.0"
        ],
        [
         "36",
         "id1870624",
         "1",
         "2016-01-05 15:29:54",
         "2016-01-05 15:39:07",
         "3",
         "-73.9515151977539",
         "40.77024841308594",
         "-73.95852661132812",
         "40.76151657104492",
         "N",
         "553",
         "2016-01-05",
         "15",
         "1",
         "0",
         "2312.1",
         "154.3",
         "8.0"
        ],
        [
         "37",
         "id2403238",
         "1",
         "2016-06-23 23:00:09",
         "2016-06-23 23:04:46",
         "1",
         "-73.98806762695312",
         "40.72808074951172",
         "-73.98075103759764",
         "40.72146987915039",
         "N",
         "277",
         "2016-06-23",
         "23",
         "3",
         "0",
         "1237.4",
         "185.3",
         "4.0"
        ],
        [
         "38",
         "id3323083",
         "1",
         "2016-05-27 14:26:12",
         "2016-05-27 14:46:01",
         "2",
         "-73.97812652587889",
         "40.75834274291992",
         "-73.99224853515625",
         "40.73054122924805",
         "N",
         "1189",
         "2016-05-27",
         "14",
         "4",
         "0",
         "4139.2",
         "491.1",
         "10.0"
        ],
        [
         "39",
         "id3720663",
         "1",
         "2016-05-10 16:14:56",
         "2016-05-10 16:40:19",
         "1",
         "-73.97776794433594",
         "40.77407836914063",
         "-73.9471435546875",
         "40.77599334716797",
         "N",
         "1523",
         "2016-05-10",
         "16",
         "1",
         "0",
         "4173.4",
         "342.5",
         "7.0"
        ],
        [
         "40",
         "id0578558",
         "1",
         "2016-04-21 21:28:27",
         "2016-04-21 21:52:37",
         "2",
         "-73.9885482788086",
         "40.74597930908203",
         "-73.97088623046875",
         "40.79338455200195",
         "N",
         "1450",
         "2016-04-21",
         "21",
         "3",
         "0",
         "7850.4",
         "563.4",
         "12.0"
        ],
        [
         "41",
         "id2573056",
         "2",
         "2016-04-14 13:27:52",
         "2016-04-14 13:46:14",
         "2",
         "-73.97472381591797",
         "40.75113677978516",
         "-73.9544448852539",
         "40.76411819458008",
         "N",
         "1102",
         "2016-04-14",
         "13",
         "3",
         "0",
         "2988.1",
         "260.2",
         "12.0"
        ],
        [
         "42",
         "id2129090",
         "1",
         "2016-03-14 14:05:39",
         "2016-03-14 14:28:05",
         "1",
         "-73.97509002685547",
         "40.758766174316406",
         "-73.95320129394531",
         "40.76506805419922",
         "N",
         "1346",
         "2016-03-14",
         "14",
         "0",
         "0",
         "2782.9",
         "244.6",
         "7.0"
        ],
        [
         "43",
         "id3961107",
         "1",
         "2016-03-19 01:12:46",
         "2016-03-19 01:18:49",
         "1",
         "-73.97647094726561",
         "40.73978042602539",
         "-73.98066711425781",
         "40.72996520996094",
         "N",
         "363",
         "2016-03-19",
         "1",
         "5",
         "0",
         "1866.7",
         "253.4",
         "8.0"
        ],
        [
         "44",
         "id3326491",
         "2",
         "2016-02-12 07:41:56",
         "2016-02-12 07:51:15",
         "1",
         "-73.97964477539062",
         "40.73963165283203",
         "-73.99472808837889",
         "40.72349548339844",
         "N",
         "559",
         "2016-02-12",
         "7",
         "4",
         "1",
         "2451.3",
         "333.1",
         "4.0"
        ],
        [
         "45",
         "id0718344",
         "2",
         "2016-06-13 15:52:20",
         "2016-06-13 16:16:58",
         "1",
         "-74.01632690429686",
         "40.70499038696289",
         "-73.98210906982422",
         "40.773750305175774",
         "N",
         "1478",
         "2016-06-13",
         "15",
         "0",
         "0",
         "9765.6",
         "902.3",
         "10.0"
        ],
        [
         "46",
         "id3188770",
         "1",
         "2016-01-03 16:59:02",
         "2016-01-03 17:04:50",
         "1",
         "-73.98513793945312",
         "40.73219299316406",
         "-73.98963928222656",
         "40.72087478637695",
         "N",
         "348",
         "2016-01-03",
         "16",
         "6",
         "0",
         "1524.9",
         "212.7",
         "4.0"
        ],
        [
         "47",
         "id1956279",
         "2",
         "2016-02-26 08:37:00",
         "2016-02-26 08:43:15",
         "1",
         "-73.98165893554686",
         "40.778972625732415",
         "-73.96981048583984",
         "40.79212951660156",
         "N",
         "375",
         "2016-02-26",
         "8",
         "4",
         "0",
         "1907.0",
         "164.4",
         "3.0"
        ],
        [
         "48",
         "id2391523",
         "1",
         "2016-05-18 21:50:24",
         "2016-05-18 22:10:41",
         "3",
         "-73.9661636352539",
         "40.766914367675774",
         "-73.99217987060547",
         "40.7258186340332",
         "N",
         "1217",
         "2016-05-18",
         "21",
         "2",
         "0",
         "6977.0",
         "614.8",
         "15.0"
        ],
        [
         "49",
         "id2662609",
         "1",
         "2016-04-10 19:11:03",
         "2016-04-10 19:25:39",
         "1",
         "-73.96546936035155",
         "40.765846252441406",
         "-73.96095275878906",
         "40.79692840576172",
         "N",
         "876",
         "2016-04-10",
         "19",
         "6",
         "0",
         "4847.8",
         "427.9",
         "7.0"
        ]
       ],
       "shape": {
        "columns": 18,
        "rows": 1458644
       }
      },
      "text/html": [
       "<div>\n",
       "<style scoped>\n",
       "    .dataframe tbody tr th:only-of-type {\n",
       "        vertical-align: middle;\n",
       "    }\n",
       "\n",
       "    .dataframe tbody tr th {\n",
       "        vertical-align: top;\n",
       "    }\n",
       "\n",
       "    .dataframe thead th {\n",
       "        text-align: right;\n",
       "    }\n",
       "</style>\n",
       "<table border=\"1\" class=\"dataframe\">\n",
       "  <thead>\n",
       "    <tr style=\"text-align: right;\">\n",
       "      <th></th>\n",
       "      <th>id</th>\n",
       "      <th>vendor_id</th>\n",
       "      <th>pickup_datetime</th>\n",
       "      <th>dropoff_datetime</th>\n",
       "      <th>passenger_count</th>\n",
       "      <th>pickup_longitude</th>\n",
       "      <th>pickup_latitude</th>\n",
       "      <th>dropoff_longitude</th>\n",
       "      <th>dropoff_latitude</th>\n",
       "      <th>store_and_fwd_flag</th>\n",
       "      <th>trip_duration</th>\n",
       "      <th>pickup_date</th>\n",
       "      <th>pickup_hour</th>\n",
       "      <th>pickup_day_of_week</th>\n",
       "      <th>holiday</th>\n",
       "      <th>total_distance</th>\n",
       "      <th>total_travel_time</th>\n",
       "      <th>number_of_steps</th>\n",
       "    </tr>\n",
       "  </thead>\n",
       "  <tbody>\n",
       "    <tr>\n",
       "      <th>0</th>\n",
       "      <td>id2875421</td>\n",
       "      <td>2</td>\n",
       "      <td>2016-03-14 17:24:55</td>\n",
       "      <td>2016-03-14 17:32:30</td>\n",
       "      <td>1</td>\n",
       "      <td>-73.982155</td>\n",
       "      <td>40.767937</td>\n",
       "      <td>-73.964630</td>\n",
       "      <td>40.765602</td>\n",
       "      <td>N</td>\n",
       "      <td>455</td>\n",
       "      <td>2016-03-14</td>\n",
       "      <td>17</td>\n",
       "      <td>0</td>\n",
       "      <td>0</td>\n",
       "      <td>2009.1</td>\n",
       "      <td>164.9</td>\n",
       "      <td>5.0</td>\n",
       "    </tr>\n",
       "    <tr>\n",
       "      <th>1</th>\n",
       "      <td>id2377394</td>\n",
       "      <td>1</td>\n",
       "      <td>2016-06-12 00:43:35</td>\n",
       "      <td>2016-06-12 00:54:38</td>\n",
       "      <td>1</td>\n",
       "      <td>-73.980415</td>\n",
       "      <td>40.738564</td>\n",
       "      <td>-73.999481</td>\n",
       "      <td>40.731152</td>\n",
       "      <td>N</td>\n",
       "      <td>663</td>\n",
       "      <td>2016-06-12</td>\n",
       "      <td>0</td>\n",
       "      <td>6</td>\n",
       "      <td>0</td>\n",
       "      <td>2513.2</td>\n",
       "      <td>332.0</td>\n",
       "      <td>6.0</td>\n",
       "    </tr>\n",
       "    <tr>\n",
       "      <th>2</th>\n",
       "      <td>id3858529</td>\n",
       "      <td>2</td>\n",
       "      <td>2016-01-19 11:35:24</td>\n",
       "      <td>2016-01-19 12:10:48</td>\n",
       "      <td>1</td>\n",
       "      <td>-73.979027</td>\n",
       "      <td>40.763939</td>\n",
       "      <td>-74.005333</td>\n",
       "      <td>40.710087</td>\n",
       "      <td>N</td>\n",
       "      <td>2124</td>\n",
       "      <td>2016-01-19</td>\n",
       "      <td>11</td>\n",
       "      <td>1</td>\n",
       "      <td>0</td>\n",
       "      <td>11060.8</td>\n",
       "      <td>767.6</td>\n",
       "      <td>16.0</td>\n",
       "    </tr>\n",
       "    <tr>\n",
       "      <th>3</th>\n",
       "      <td>id3504673</td>\n",
       "      <td>2</td>\n",
       "      <td>2016-04-06 19:32:31</td>\n",
       "      <td>2016-04-06 19:39:40</td>\n",
       "      <td>1</td>\n",
       "      <td>-74.010040</td>\n",
       "      <td>40.719971</td>\n",
       "      <td>-74.012268</td>\n",
       "      <td>40.706718</td>\n",
       "      <td>N</td>\n",
       "      <td>429</td>\n",
       "      <td>2016-04-06</td>\n",
       "      <td>19</td>\n",
       "      <td>2</td>\n",
       "      <td>0</td>\n",
       "      <td>1779.4</td>\n",
       "      <td>235.8</td>\n",
       "      <td>4.0</td>\n",
       "    </tr>\n",
       "    <tr>\n",
       "      <th>4</th>\n",
       "      <td>id2181028</td>\n",
       "      <td>2</td>\n",
       "      <td>2016-03-26 13:30:55</td>\n",
       "      <td>2016-03-26 13:38:10</td>\n",
       "      <td>1</td>\n",
       "      <td>-73.973053</td>\n",
       "      <td>40.793209</td>\n",
       "      <td>-73.972923</td>\n",
       "      <td>40.782520</td>\n",
       "      <td>N</td>\n",
       "      <td>435</td>\n",
       "      <td>2016-03-26</td>\n",
       "      <td>13</td>\n",
       "      <td>5</td>\n",
       "      <td>0</td>\n",
       "      <td>1614.9</td>\n",
       "      <td>140.1</td>\n",
       "      <td>5.0</td>\n",
       "    </tr>\n",
       "    <tr>\n",
       "      <th>...</th>\n",
       "      <td>...</td>\n",
       "      <td>...</td>\n",
       "      <td>...</td>\n",
       "      <td>...</td>\n",
       "      <td>...</td>\n",
       "      <td>...</td>\n",
       "      <td>...</td>\n",
       "      <td>...</td>\n",
       "      <td>...</td>\n",
       "      <td>...</td>\n",
       "      <td>...</td>\n",
       "      <td>...</td>\n",
       "      <td>...</td>\n",
       "      <td>...</td>\n",
       "      <td>...</td>\n",
       "      <td>...</td>\n",
       "      <td>...</td>\n",
       "      <td>...</td>\n",
       "    </tr>\n",
       "    <tr>\n",
       "      <th>1458639</th>\n",
       "      <td>id2376096</td>\n",
       "      <td>2</td>\n",
       "      <td>2016-04-08 13:31:04</td>\n",
       "      <td>2016-04-08 13:44:02</td>\n",
       "      <td>4</td>\n",
       "      <td>-73.982201</td>\n",
       "      <td>40.745522</td>\n",
       "      <td>-73.994911</td>\n",
       "      <td>40.740170</td>\n",
       "      <td>N</td>\n",
       "      <td>778</td>\n",
       "      <td>2016-04-08</td>\n",
       "      <td>13</td>\n",
       "      <td>4</td>\n",
       "      <td>0</td>\n",
       "      <td>2234.6</td>\n",
       "      <td>311.7</td>\n",
       "      <td>8.0</td>\n",
       "    </tr>\n",
       "    <tr>\n",
       "      <th>1458640</th>\n",
       "      <td>id1049543</td>\n",
       "      <td>1</td>\n",
       "      <td>2016-01-10 07:35:15</td>\n",
       "      <td>2016-01-10 07:46:10</td>\n",
       "      <td>1</td>\n",
       "      <td>-74.000946</td>\n",
       "      <td>40.747379</td>\n",
       "      <td>-73.970184</td>\n",
       "      <td>40.796547</td>\n",
       "      <td>N</td>\n",
       "      <td>655</td>\n",
       "      <td>2016-01-10</td>\n",
       "      <td>7</td>\n",
       "      <td>6</td>\n",
       "      <td>0</td>\n",
       "      <td>7638.0</td>\n",
       "      <td>589.6</td>\n",
       "      <td>11.0</td>\n",
       "    </tr>\n",
       "    <tr>\n",
       "      <th>1458641</th>\n",
       "      <td>id2304944</td>\n",
       "      <td>2</td>\n",
       "      <td>2016-04-22 06:57:41</td>\n",
       "      <td>2016-04-22 07:10:25</td>\n",
       "      <td>1</td>\n",
       "      <td>-73.959129</td>\n",
       "      <td>40.768799</td>\n",
       "      <td>-74.004433</td>\n",
       "      <td>40.707371</td>\n",
       "      <td>N</td>\n",
       "      <td>764</td>\n",
       "      <td>2016-04-22</td>\n",
       "      <td>6</td>\n",
       "      <td>4</td>\n",
       "      <td>0</td>\n",
       "      <td>9871.5</td>\n",
       "      <td>642.9</td>\n",
       "      <td>10.0</td>\n",
       "    </tr>\n",
       "    <tr>\n",
       "      <th>1458642</th>\n",
       "      <td>id2714485</td>\n",
       "      <td>1</td>\n",
       "      <td>2016-01-05 15:56:26</td>\n",
       "      <td>2016-01-05 16:02:39</td>\n",
       "      <td>1</td>\n",
       "      <td>-73.982079</td>\n",
       "      <td>40.749062</td>\n",
       "      <td>-73.974632</td>\n",
       "      <td>40.757107</td>\n",
       "      <td>N</td>\n",
       "      <td>373</td>\n",
       "      <td>2016-01-05</td>\n",
       "      <td>15</td>\n",
       "      <td>1</td>\n",
       "      <td>0</td>\n",
       "      <td>1628.3</td>\n",
       "      <td>161.6</td>\n",
       "      <td>7.0</td>\n",
       "    </tr>\n",
       "    <tr>\n",
       "      <th>1458643</th>\n",
       "      <td>id1209952</td>\n",
       "      <td>1</td>\n",
       "      <td>2016-04-05 14:44:25</td>\n",
       "      <td>2016-04-05 14:47:43</td>\n",
       "      <td>1</td>\n",
       "      <td>-73.979538</td>\n",
       "      <td>40.781750</td>\n",
       "      <td>-73.972809</td>\n",
       "      <td>40.790585</td>\n",
       "      <td>N</td>\n",
       "      <td>198</td>\n",
       "      <td>2016-04-05</td>\n",
       "      <td>14</td>\n",
       "      <td>1</td>\n",
       "      <td>0</td>\n",
       "      <td>1134.2</td>\n",
       "      <td>90.7</td>\n",
       "      <td>2.0</td>\n",
       "    </tr>\n",
       "  </tbody>\n",
       "</table>\n",
       "<p>1458644 rows × 18 columns</p>\n",
       "</div>"
      ],
      "text/plain": [
       "                id  vendor_id     pickup_datetime     dropoff_datetime  \\\n",
       "0        id2875421          2 2016-03-14 17:24:55  2016-03-14 17:32:30   \n",
       "1        id2377394          1 2016-06-12 00:43:35  2016-06-12 00:54:38   \n",
       "2        id3858529          2 2016-01-19 11:35:24  2016-01-19 12:10:48   \n",
       "3        id3504673          2 2016-04-06 19:32:31  2016-04-06 19:39:40   \n",
       "4        id2181028          2 2016-03-26 13:30:55  2016-03-26 13:38:10   \n",
       "...            ...        ...                 ...                  ...   \n",
       "1458639  id2376096          2 2016-04-08 13:31:04  2016-04-08 13:44:02   \n",
       "1458640  id1049543          1 2016-01-10 07:35:15  2016-01-10 07:46:10   \n",
       "1458641  id2304944          2 2016-04-22 06:57:41  2016-04-22 07:10:25   \n",
       "1458642  id2714485          1 2016-01-05 15:56:26  2016-01-05 16:02:39   \n",
       "1458643  id1209952          1 2016-04-05 14:44:25  2016-04-05 14:47:43   \n",
       "\n",
       "         passenger_count  pickup_longitude  pickup_latitude  \\\n",
       "0                      1        -73.982155        40.767937   \n",
       "1                      1        -73.980415        40.738564   \n",
       "2                      1        -73.979027        40.763939   \n",
       "3                      1        -74.010040        40.719971   \n",
       "4                      1        -73.973053        40.793209   \n",
       "...                  ...               ...              ...   \n",
       "1458639                4        -73.982201        40.745522   \n",
       "1458640                1        -74.000946        40.747379   \n",
       "1458641                1        -73.959129        40.768799   \n",
       "1458642                1        -73.982079        40.749062   \n",
       "1458643                1        -73.979538        40.781750   \n",
       "\n",
       "         dropoff_longitude  dropoff_latitude store_and_fwd_flag  \\\n",
       "0               -73.964630         40.765602                  N   \n",
       "1               -73.999481         40.731152                  N   \n",
       "2               -74.005333         40.710087                  N   \n",
       "3               -74.012268         40.706718                  N   \n",
       "4               -73.972923         40.782520                  N   \n",
       "...                    ...               ...                ...   \n",
       "1458639         -73.994911         40.740170                  N   \n",
       "1458640         -73.970184         40.796547                  N   \n",
       "1458641         -74.004433         40.707371                  N   \n",
       "1458642         -73.974632         40.757107                  N   \n",
       "1458643         -73.972809         40.790585                  N   \n",
       "\n",
       "         trip_duration pickup_date  pickup_hour  pickup_day_of_week  holiday  \\\n",
       "0                  455  2016-03-14           17                   0        0   \n",
       "1                  663  2016-06-12            0                   6        0   \n",
       "2                 2124  2016-01-19           11                   1        0   \n",
       "3                  429  2016-04-06           19                   2        0   \n",
       "4                  435  2016-03-26           13                   5        0   \n",
       "...                ...         ...          ...                 ...      ...   \n",
       "1458639            778  2016-04-08           13                   4        0   \n",
       "1458640            655  2016-01-10            7                   6        0   \n",
       "1458641            764  2016-04-22            6                   4        0   \n",
       "1458642            373  2016-01-05           15                   1        0   \n",
       "1458643            198  2016-04-05           14                   1        0   \n",
       "\n",
       "         total_distance  total_travel_time  number_of_steps  \n",
       "0                2009.1              164.9              5.0  \n",
       "1                2513.2              332.0              6.0  \n",
       "2               11060.8              767.6             16.0  \n",
       "3                1779.4              235.8              4.0  \n",
       "4                1614.9              140.1              5.0  \n",
       "...                 ...                ...              ...  \n",
       "1458639          2234.6              311.7              8.0  \n",
       "1458640          7638.0              589.6             11.0  \n",
       "1458641          9871.5              642.9             10.0  \n",
       "1458642          1628.3              161.6              7.0  \n",
       "1458643          1134.2               90.7              2.0  \n",
       "\n",
       "[1458644 rows x 18 columns]"
      ]
     },
     "execution_count": 14,
     "metadata": {},
     "output_type": "execute_result"
    }
   ],
   "source": [
    "def add_osrm_features(df_taxi, df_osrm):\n",
    "    df_taxi = pd.merge(df_taxi, df_osrm, on='id', how='left')\n",
    "    return df_taxi\n",
    "\n",
    "taxi_data = add_osrm_features(taxi_data, osrm_data)\n",
    "taxi_data"
   ]
  },
  {
   "cell_type": "code",
   "execution_count": 15,
   "metadata": {},
   "outputs": [
    {
     "name": "stdout",
     "output_type": "stream",
     "text": [
      "Median difference between original trip duration and osrm is 372.5\n",
      "No osrm data for 1 observation\n"
     ]
    }
   ],
   "source": [
    "median_diff = \\\n",
    "   taxi_data['trip_duration'].median() - taxi_data['total_travel_time'].median()\n",
    "    \n",
    "print(f'Median difference between original trip duration and osrm is {median_diff}')\n",
    "\n",
    "\n",
    "no_osrm_data = len(taxi_data[taxi_data.isnull().any(axis=1)])\n",
    "print(f'No osrm data for {no_osrm_data} observation')"
   ]
  },
  {
   "cell_type": "code",
   "execution_count": 16,
   "metadata": {
    "id": "ti1rljMGkBLm"
   },
   "outputs": [],
   "source": [
    "def get_haversine_distance(lat1, lng1, lat2, lng2):\n",
    "    # переводим углы в радианы\n",
    "    lat1, lng1, lat2, lng2 = map(np.radians, (lat1, lng1, lat2, lng2))\n",
    "    # радиус земли в километрах\n",
    "    EARTH_RADIUS = 6371 \n",
    "    # считаем кратчайшее расстояние h по формуле Хаверсина\n",
    "    lat_delta = lat2 - lat1\n",
    "    lng_delta = lng2 - lng1\n",
    "    d = np.sin(lat_delta * 0.5) ** 2 + np.cos(lat1) * np.cos(lat2) * np.sin(lng_delta * 0.5) ** 2\n",
    "    h = 2 * EARTH_RADIUS * np.arcsin(np.sqrt(d))\n",
    "    return h\n",
    "\n",
    "def get_angle_direction(lat1, lng1, lat2, lng2):\n",
    "    # переводим углы в радианы\n",
    "    lat1, lng1, lat2, lng2 = map(np.radians, (lat1, lng1, lat2, lng2))\n",
    "    # считаем угол направления движения alpha по формуле угла пеленга\n",
    "    lng_delta_rad = lng2 - lng1\n",
    "    y = np.sin(lng_delta_rad) * np.cos(lat2)\n",
    "    x = np.cos(lat1) * np.sin(lat2) - np.sin(lat1) * np.cos(lat2) * np.cos(lng_delta_rad)\n",
    "    alpha = np.degrees(np.arctan2(y, x))\n",
    "    return alpha"
   ]
  },
  {
   "attachments": {},
   "cell_type": "markdown",
   "metadata": {
    "id": "lGQpi4erkBLm",
    "tags": []
   },
   "source": [
    "### Задание 2.7.\n",
    "Реализуйте функцию add_geographical_features(), которая принимает на вход таблицу с данными о поездках и возвращает обновленную таблицу с добавленными в нее 2 столбцами:\n",
    "* haversine_distance - расстояние Хаверсина между точкой, в которой был включен счетчик, и точкой, в которой счетчик был выключен;\n",
    "* direction - направление движения из точки, в которой был включен счетчик, в точку, в которой счетчик был выключен.\n",
    "\n",
    "Чему равно медианное расстояние Хаверсина поездок (в киллометрах)? Ответ округлите до сотых.\n"
   ]
  },
  {
   "cell_type": "code",
   "execution_count": 17,
   "metadata": {
    "id": "zqIZyeHmkBLm"
   },
   "outputs": [
    {
     "data": {
      "application/vnd.microsoft.datawrangler.viewer.v0+json": {
       "columns": [
        {
         "name": "index",
         "rawType": "int64",
         "type": "integer"
        },
        {
         "name": "id",
         "rawType": "object",
         "type": "string"
        },
        {
         "name": "vendor_id",
         "rawType": "int64",
         "type": "integer"
        },
        {
         "name": "pickup_datetime",
         "rawType": "datetime64[ns]",
         "type": "datetime"
        },
        {
         "name": "dropoff_datetime",
         "rawType": "object",
         "type": "string"
        },
        {
         "name": "passenger_count",
         "rawType": "int64",
         "type": "integer"
        },
        {
         "name": "pickup_longitude",
         "rawType": "float64",
         "type": "float"
        },
        {
         "name": "pickup_latitude",
         "rawType": "float64",
         "type": "float"
        },
        {
         "name": "dropoff_longitude",
         "rawType": "float64",
         "type": "float"
        },
        {
         "name": "dropoff_latitude",
         "rawType": "float64",
         "type": "float"
        },
        {
         "name": "store_and_fwd_flag",
         "rawType": "object",
         "type": "string"
        },
        {
         "name": "trip_duration",
         "rawType": "int64",
         "type": "integer"
        },
        {
         "name": "pickup_date",
         "rawType": "object",
         "type": "unknown"
        },
        {
         "name": "pickup_hour",
         "rawType": "int32",
         "type": "integer"
        },
        {
         "name": "pickup_day_of_week",
         "rawType": "int32",
         "type": "integer"
        },
        {
         "name": "holiday",
         "rawType": "int64",
         "type": "integer"
        },
        {
         "name": "total_distance",
         "rawType": "float64",
         "type": "float"
        },
        {
         "name": "total_travel_time",
         "rawType": "float64",
         "type": "float"
        },
        {
         "name": "number_of_steps",
         "rawType": "float64",
         "type": "float"
        },
        {
         "name": "haversine_distance",
         "rawType": "float64",
         "type": "float"
        },
        {
         "name": "direction",
         "rawType": "float64",
         "type": "float"
        }
       ],
       "ref": "e2438408-4da3-4c41-be89-1b63a4fc0413",
       "rows": [
        [
         "0",
         "id2875421",
         "2",
         "2016-03-14 17:24:55",
         "2016-03-14 17:32:30",
         "1",
         "-73.98215484619139",
         "40.76793670654297",
         "-73.96463012695312",
         "40.765602111816406",
         "N",
         "455",
         "2016-03-14",
         "17",
         "0",
         "0",
         "2009.1",
         "164.9",
         "5.0",
         "1.4985207796458557",
         "99.97019564715873"
        ],
        [
         "1",
         "id2377394",
         "1",
         "2016-06-12 00:43:35",
         "2016-06-12 00:54:38",
         "1",
         "-73.98041534423827",
         "40.738563537597656",
         "-73.99948120117188",
         "40.731151580810554",
         "N",
         "663",
         "2016-06-12",
         "0",
         "6",
         "0",
         "2513.2",
         "332.0",
         "6.0",
         "1.8055071687965203",
         "-117.15376821264599"
        ],
        [
         "2",
         "id3858529",
         "2",
         "2016-01-19 11:35:24",
         "2016-01-19 12:10:48",
         "1",
         "-73.97902679443358",
         "40.763938903808594",
         "-74.00533294677734",
         "40.710086822509766",
         "N",
         "2124",
         "2016-01-19",
         "11",
         "1",
         "0",
         "11060.8",
         "767.6",
         "16.0",
         "6.385098495252868",
         "-159.6801651540413"
        ],
        [
         "3",
         "id3504673",
         "2",
         "2016-04-06 19:32:31",
         "2016-04-06 19:39:40",
         "1",
         "-74.01004028320312",
         "40.719970703125",
         "-74.01226806640625",
         "40.70671844482422",
         "N",
         "429",
         "2016-04-06",
         "19",
         "2",
         "0",
         "1779.4",
         "235.8",
         "4.0",
         "1.4854984227709382",
         "-172.73769967364282"
        ],
        [
         "4",
         "id2181028",
         "2",
         "2016-03-26 13:30:55",
         "2016-03-26 13:38:10",
         "1",
         "-73.97305297851561",
         "40.79320907592773",
         "-73.9729232788086",
         "40.782520294189446",
         "N",
         "435",
         "2016-03-26",
         "13",
         "5",
         "0",
         "1614.9",
         "140.1",
         "5.0",
         "1.1885884593338754",
         "179.4735846108892"
        ],
        [
         "5",
         "id0801584",
         "2",
         "2016-01-30 22:01:40",
         "2016-01-30 22:09:03",
         "6",
         "-73.98285675048828",
         "40.74219512939453",
         "-73.99208068847656",
         "40.74918365478516",
         "N",
         "443",
         "2016-01-30",
         "22",
         "5",
         "0",
         "1393.5",
         "189.4",
         "5.0",
         "1.098942459306554",
         "-44.99559610677587"
        ],
        [
         "6",
         "id1813257",
         "1",
         "2016-06-17 22:34:59",
         "2016-06-17 22:40:40",
         "4",
         "-73.9690170288086",
         "40.75783920288086",
         "-73.95740509033203",
         "40.76589584350586",
         "N",
         "341",
         "2016-06-17",
         "22",
         "4",
         "0",
         "1705.1",
         "138.8",
         "5.0",
         "1.3262785770590748",
         "47.505774575246974"
        ],
        [
         "7",
         "id1324603",
         "2",
         "2016-05-21 07:54:58",
         "2016-05-21 08:20:49",
         "1",
         "-73.96927642822266",
         "40.79777908325195",
         "-73.92247009277344",
         "40.76055908203125",
         "N",
         "1551",
         "2016-05-21",
         "7",
         "5",
         "0",
         "10642.0",
         "769.2",
         "17.0",
         "5.714980630789905",
         "136.38539564211354"
        ],
        [
         "8",
         "id1301050",
         "1",
         "2016-05-27 23:12:23",
         "2016-05-27 23:16:38",
         "1",
         "-73.99948120117188",
         "40.738399505615234",
         "-73.98578643798828",
         "40.73281478881836",
         "N",
         "255",
         "2016-05-27",
         "23",
         "4",
         "0",
         "1310.7",
         "160.6",
         "2.0",
         "1.3103532828841316",
         "118.28406696886587"
        ],
        [
         "9",
         "id0012891",
         "2",
         "2016-03-10 21:45:01",
         "2016-03-10 22:05:26",
         "1",
         "-73.98104858398438",
         "40.744338989257805",
         "-73.9729995727539",
         "40.78998947143555",
         "N",
         "1225",
         "2016-03-10",
         "21",
         "3",
         "0",
         "6786.8",
         "601.8",
         "13.0",
         "5.1211615621414746",
         "7.603537928404408"
        ],
        [
         "10",
         "id1436371",
         "2",
         "2016-05-10 22:08:41",
         "2016-05-10 22:29:55",
         "1",
         "-73.98265075683594",
         "40.76383972167969",
         "-74.00222778320312",
         "40.73299026489258",
         "N",
         "1274",
         "2016-05-10",
         "22",
         "1",
         "0",
         "3935.0",
         "535.4",
         "6.0",
         "3.806139394875776",
         "-154.31716624053726"
        ],
        [
         "11",
         "id1299289",
         "2",
         "2016-05-15 11:16:11",
         "2016-05-15 11:34:59",
         "4",
         "-73.9915313720703",
         "40.74943923950195",
         "-73.95654296875",
         "40.7706298828125",
         "N",
         "1128",
         "2016-05-15",
         "11",
         "6",
         "0",
         "5596.6",
         "514.8",
         "9.0",
         "3.773095938471512",
         "51.34320585315927"
        ],
        [
         "12",
         "id1187965",
         "2",
         "2016-02-19 09:52:46",
         "2016-02-19 10:11:20",
         "2",
         "-73.96298217773438",
         "40.7566795349121",
         "-73.98440551757811",
         "40.760719299316406",
         "N",
         "1114",
         "2016-02-19",
         "9",
         "4",
         "0",
         "2276.6",
         "207.9",
         "4.0",
         "1.8594830202292363",
         "-76.01359494281148"
        ],
        [
         "13",
         "id0799785",
         "2",
         "2016-06-01 20:58:29",
         "2016-06-01 21:02:49",
         "1",
         "-73.95630645751953",
         "40.76794052124024",
         "-73.96611022949219",
         "40.76300048828125",
         "N",
         "260",
         "2016-06-01",
         "20",
         "2",
         "0",
         "1337.9",
         "132.4",
         "4.0",
         "0.9916848505447494",
         "-123.63263999854728"
        ],
        [
         "14",
         "id2900608",
         "2",
         "2016-05-27 00:43:36",
         "2016-05-27 01:07:10",
         "1",
         "-73.99219512939453",
         "40.72722625732422",
         "-73.9746551513672",
         "40.783069610595696",
         "N",
         "1414",
         "2016-05-27",
         "0",
         "4",
         "0",
         "8017.6",
         "807.7",
         "10.0",
         "6.382835756274595",
         "13.377653344074586"
        ],
        [
         "15",
         "id3319787",
         "1",
         "2016-05-16 15:29:02",
         "2016-05-16 15:32:33",
         "1",
         "-73.95551300048828",
         "40.768592834472656",
         "-73.94876098632812",
         "40.77154541015625",
         "N",
         "211",
         "2016-05-16",
         "15",
         "0",
         "0",
         "896.8",
         "88.1",
         "5.0",
         "0.6565780261385659",
         "59.995535922516765"
        ],
        [
         "16",
         "id3379579",
         "2",
         "2016-04-11 17:29:50",
         "2016-04-11 18:08:26",
         "1",
         "-73.99116516113281",
         "40.75556182861328",
         "-73.9992904663086",
         "40.7253532409668",
         "N",
         "2316",
         "2016-04-11",
         "17",
         "0",
         "0",
         "4442.7",
         "607.0",
         "9.0",
         "3.428085961968358",
         "-168.4785479689876"
        ],
        [
         "17",
         "id1154431",
         "1",
         "2016-04-14 08:48:26",
         "2016-04-14 09:00:37",
         "1",
         "-73.99425506591797",
         "40.745803833007805",
         "-73.9996566772461",
         "40.723342895507805",
         "N",
         "731",
         "2016-04-14",
         "8",
         "3",
         "0",
         "3040.7",
         "405.6",
         "5.0",
         "2.538671818029313",
         "-169.67064078548037"
        ],
        [
         "18",
         "id3552682",
         "1",
         "2016-06-27 09:55:13",
         "2016-06-27 10:17:10",
         "1",
         "-74.00398254394531",
         "40.7130126953125",
         "-73.97919464111328",
         "40.74992370605469",
         "N",
         "1317",
         "2016-06-27",
         "9",
         "0",
         "0",
         "4673.9",
         "625.1",
         "9.0",
         "4.605201075572819",
         "26.963045286216598"
        ],
        [
         "19",
         "id3390316",
         "2",
         "2016-06-05 13:47:23",
         "2016-06-05 13:51:34",
         "1",
         "-73.98388671875",
         "40.73819732666016",
         "-73.99120330810547",
         "40.7278709411621",
         "N",
         "251",
         "2016-06-05",
         "13",
         "6",
         "0",
         "1332.3",
         "183.1",
         "4.0",
         "1.303271217237264",
         "-151.7663930079025"
        ],
        [
         "20",
         "id2070428",
         "1",
         "2016-02-28 02:23:02",
         "2016-02-28 02:31:08",
         "1",
         "-73.9803695678711",
         "40.7424201965332",
         "-73.96285247802734",
         "40.76063537597656",
         "N",
         "486",
         "2016-02-28",
         "2",
         "6",
         "0",
         "7355.4",
         "572.4",
         "13.0",
         "2.5059261935520905",
         "36.068177343394524"
        ],
        [
         "21",
         "id0809232",
         "2",
         "2016-04-01 12:12:25",
         "2016-04-01 12:23:17",
         "1",
         "-73.9795379638672",
         "40.753360748291016",
         "-73.96399688720702",
         "40.763458251953125",
         "N",
         "652",
         "2016-04-01",
         "12",
         "4",
         "0",
         "3334.3",
         "331.2",
         "11.0",
         "1.7245501055857604",
         "49.373113560038085"
        ],
        [
         "22",
         "id2352683",
         "1",
         "2016-04-09 03:34:27",
         "2016-04-09 03:41:30",
         "1",
         "-73.99586486816406",
         "40.7588119506836",
         "-73.99332427978516",
         "40.74032211303711",
         "N",
         "423",
         "2016-04-09",
         "3",
         "5",
         "0",
         "3044.3",
         "353.9",
         "8.0",
         "2.067084866081809",
         "174.0564505727983"
        ],
        [
         "23",
         "id1603037",
         "1",
         "2016-06-25 10:36:26",
         "2016-06-25 10:55:49",
         "1",
         "-73.9935531616211",
         "40.747173309326165",
         "-74.00614166259764",
         "40.704383850097656",
         "N",
         "1163",
         "2016-06-25",
         "10",
         "5",
         "0",
         "5558.2",
         "745.0",
         "9.0",
         "4.87479236007019",
         "-167.4271376015017"
        ],
        [
         "24",
         "id3321406",
         "2",
         "2016-06-03 08:15:05",
         "2016-06-03 08:56:30",
         "1",
         "-73.95523071289062",
         "40.77713394165039",
         "-73.78874969482422",
         "40.64147186279297",
         "N",
         "2485",
         "2016-06-03",
         "8",
         "4",
         "0",
         "26126.9",
         "1543.2",
         "23.0",
         "20.60257501567566",
         "137.01569785158804"
        ],
        [
         "25",
         "id0129640",
         "2",
         "2016-02-14 13:27:56",
         "2016-02-14 13:49:19",
         "1",
         "-73.95658111572266",
         "40.77135848999024",
         "-73.97496795654298",
         "40.732791900634766",
         "N",
         "1283",
         "2016-02-14",
         "13",
         "6",
         "0",
         "5296.1",
         "372.7",
         "13.0",
         "4.559524935487872",
         "-160.13619720492713"
        ],
        [
         "26",
         "id3587298",
         "1",
         "2016-02-27 21:56:01",
         "2016-02-27 22:14:51",
         "1",
         "-73.9837646484375",
         "40.74987411499024",
         "-73.95883178710938",
         "40.80096054077149",
         "N",
         "1130",
         "2016-02-27",
         "21",
         "5",
         "0",
         "9613.8",
         "634.9",
         "15.0",
         "6.056109491179732",
         "20.275676223320673"
        ],
        [
         "27",
         "id2104175",
         "1",
         "2016-06-20 23:07:16",
         "2016-06-20 23:18:50",
         "1",
         "-73.95843505859375",
         "40.713191986083984",
         "-73.9495391845703",
         "40.68025207519531",
         "N",
         "694",
         "2016-06-20",
         "23",
         "0",
         "0",
         "4265.2",
         "312.9",
         "8.0",
         "3.7387421028679024",
         "168.42546537155314"
        ],
        [
         "28",
         "id3973319",
         "2",
         "2016-06-13 21:57:27",
         "2016-06-13 22:12:19",
         "1",
         "-73.99421691894531",
         "40.71330642700195",
         "-73.98284912109375",
         "40.69229888916016",
         "N",
         "892",
         "2016-06-13",
         "21",
         "0",
         "0",
         "2526.4",
         "190.2",
         "3.0",
         "2.5248492032134586",
         "157.6913062409991"
        ],
        [
         "29",
         "id1410897",
         "1",
         "2016-03-23 14:10:39",
         "2016-03-23 14:49:30",
         "1",
         "-73.98211669921875",
         "40.75635147094727",
         "-73.86569213867188",
         "40.77098846435546",
         "N",
         "2331",
         "2016-03-23",
         "14",
         "2",
         "0",
         "13748.9",
         "1094.1",
         "24.0",
         "9.939442882656566",
         "80.53751004573655"
        ],
        [
         "30",
         "id0266980",
         "1",
         "2016-05-17 10:47:51",
         "2016-05-17 11:12:30",
         "1",
         "-73.97093963623048",
         "40.76166915893555",
         "-73.9962387084961",
         "40.72536849975586",
         "N",
         "1479",
         "2016-05-17",
         "10",
         "1",
         "0",
         "5535.3",
         "625.8",
         "4.0",
         "4.564593238151801",
         "-152.15668806255846"
        ],
        [
         "31",
         "id2822549",
         "2",
         "2016-05-21 13:03:24",
         "2016-05-21 13:20:52",
         "1",
         "-73.9982681274414",
         "40.720039367675774",
         "-74.01036071777344",
         "40.67213821411133",
         "N",
         "1048",
         "2016-05-21",
         "13",
         "5",
         "0",
         "7993.0",
         "685.4",
         "19.0",
         "5.423052004470782",
         "-169.1606152666973"
        ],
        [
         "32",
         "id3075902",
         "2",
         "2016-05-10 19:27:38",
         "2016-05-10 19:44:40",
         "2",
         "-74.00550079345702",
         "40.706588745117195",
         "-73.9858169555664",
         "40.74420166015625",
         "N",
         "1022",
         "2016-05-10",
         "19",
         "1",
         "0",
         "7554.1",
         "711.2",
         "12.0",
         "4.4992843039937584",
         "21.6268833867715"
        ],
        [
         "33",
         "id0023813",
         "1",
         "2016-04-17 14:38:30",
         "2016-04-17 15:16:19",
         "1",
         "-73.99031066894531",
         "40.7565803527832",
         "-73.87091827392578",
         "40.77392959594727",
         "N",
         "2269",
         "2016-04-17",
         "14",
         "6",
         "0",
         "15668.3",
         "1000.4",
         "18.0",
         "10.238384755668681",
         "79.10025522772975"
        ],
        [
         "34",
         "id3970352",
         "1",
         "2016-01-09 12:55:35",
         "2016-01-09 13:07:22",
         "1",
         "-74.00899505615233",
         "40.712589263916016",
         "-73.99863433837889",
         "40.72280883789063",
         "N",
         "707",
         "2016-01-09",
         "12",
         "5",
         "0",
         "1730.6",
         "247.1",
         "7.0",
         "1.43309959329888",
         "37.535323879113626"
        ],
        [
         "35",
         "id3361153",
         "1",
         "2016-03-11 07:11:23",
         "2016-03-11 07:20:09",
         "1",
         "-73.99456024169923",
         "40.750526428222656",
         "-73.97850036621094",
         "40.7561912536621",
         "N",
         "526",
         "2016-03-11",
         "7",
         "4",
         "0",
         "2311.4",
         "261.1",
         "6.0",
         "1.4922365988439503",
         "65.02638352805316"
        ],
        [
         "36",
         "id1870624",
         "1",
         "2016-01-05 15:29:54",
         "2016-01-05 15:39:07",
         "3",
         "-73.9515151977539",
         "40.77024841308594",
         "-73.95852661132812",
         "40.76151657104492",
         "N",
         "553",
         "2016-01-05",
         "15",
         "1",
         "0",
         "2312.1",
         "154.3",
         "8.0",
         "1.1363920041346272",
         "-148.69153436048038"
        ],
        [
         "37",
         "id2403238",
         "1",
         "2016-06-23 23:00:09",
         "2016-06-23 23:04:46",
         "1",
         "-73.98806762695312",
         "40.72808074951172",
         "-73.98075103759764",
         "40.72146987915039",
         "N",
         "277",
         "2016-06-23",
         "23",
         "3",
         "0",
         "1237.4",
         "185.3",
         "4.0",
         "0.9594353989901275",
         "140.00923592307683"
        ],
        [
         "38",
         "id3323083",
         "1",
         "2016-05-27 14:26:12",
         "2016-05-27 14:46:01",
         "2",
         "-73.97812652587889",
         "40.75834274291992",
         "-73.99224853515625",
         "40.73054122924805",
         "N",
         "1189",
         "2016-05-27",
         "14",
         "4",
         "0",
         "4139.2",
         "491.1",
         "10.0",
         "3.312410381034205",
         "-158.94649143039584"
        ],
        [
         "39",
         "id3720663",
         "1",
         "2016-05-10 16:14:56",
         "2016-05-10 16:40:19",
         "1",
         "-73.97776794433594",
         "40.77407836914063",
         "-73.9471435546875",
         "40.77599334716797",
         "N",
         "1523",
         "2016-05-10",
         "16",
         "1",
         "0",
         "4173.4",
         "342.5",
         "7.0",
         "2.58752337443745",
         "85.2696028631422"
        ],
        [
         "40",
         "id0578558",
         "1",
         "2016-04-21 21:28:27",
         "2016-04-21 21:52:37",
         "2",
         "-73.9885482788086",
         "40.74597930908203",
         "-73.97088623046875",
         "40.79338455200195",
         "N",
         "1450",
         "2016-04-21",
         "21",
         "3",
         "0",
         "7850.4",
         "563.4",
         "12.0",
         "5.477046537814987",
         "15.751540924251616"
        ],
        [
         "41",
         "id2573056",
         "2",
         "2016-04-14 13:27:52",
         "2016-04-14 13:46:14",
         "2",
         "-73.97472381591797",
         "40.75113677978516",
         "-73.9544448852539",
         "40.76411819458008",
         "N",
         "1102",
         "2016-04-14",
         "13",
         "3",
         "0",
         "2988.1",
         "260.2",
         "12.0",
         "2.2362975035946713",
         "49.79230585562133"
        ],
        [
         "42",
         "id2129090",
         "1",
         "2016-03-14 14:05:39",
         "2016-03-14 14:28:05",
         "1",
         "-73.97509002685547",
         "40.758766174316406",
         "-73.95320129394531",
         "40.76506805419922",
         "N",
         "1346",
         "2016-03-14",
         "14",
         "0",
         "0",
         "2782.9",
         "244.6",
         "7.0",
         "1.9722056245525414",
         "69.18063696531718"
        ],
        [
         "43",
         "id3961107",
         "1",
         "2016-03-19 01:12:46",
         "2016-03-19 01:18:49",
         "1",
         "-73.97647094726561",
         "40.73978042602539",
         "-73.98066711425781",
         "40.72996520996094",
         "N",
         "363",
         "2016-03-19",
         "1",
         "5",
         "0",
         "1866.7",
         "253.4",
         "8.0",
         "1.147240005524645",
         "-162.04914750954973"
        ],
        [
         "44",
         "id3326491",
         "2",
         "2016-02-12 07:41:56",
         "2016-02-12 07:51:15",
         "1",
         "-73.97964477539062",
         "40.73963165283203",
         "-73.99472808837889",
         "40.72349548339844",
         "N",
         "559",
         "2016-02-12",
         "7",
         "4",
         "1",
         "2451.3",
         "333.1",
         "4.0",
         "2.1987803929476084",
         "-144.6839346966019"
        ],
        [
         "45",
         "id0718344",
         "2",
         "2016-06-13 15:52:20",
         "2016-06-13 16:16:58",
         "1",
         "-74.01632690429686",
         "40.70499038696289",
         "-73.98210906982422",
         "40.773750305175774",
         "N",
         "1478",
         "2016-06-13",
         "15",
         "0",
         "0",
         "9765.6",
         "902.3",
         "10.0",
         "8.1712029631469",
         "20.64811517643243"
        ],
        [
         "46",
         "id3188770",
         "1",
         "2016-01-03 16:59:02",
         "2016-01-03 17:04:50",
         "1",
         "-73.98513793945312",
         "40.73219299316406",
         "-73.98963928222656",
         "40.72087478637695",
         "N",
         "348",
         "2016-01-03",
         "16",
         "6",
         "0",
         "1524.9",
         "212.7",
         "4.0",
         "1.314446880620678",
         "-163.22593235127374"
        ],
        [
         "47",
         "id1956279",
         "2",
         "2016-02-26 08:37:00",
         "2016-02-26 08:43:15",
         "1",
         "-73.98165893554686",
         "40.778972625732415",
         "-73.96981048583984",
         "40.79212951660156",
         "N",
         "375",
         "2016-02-26",
         "8",
         "4",
         "0",
         "1907.0",
         "164.4",
         "3.0",
         "1.7707095259042471",
         "34.28467955639248"
        ],
        [
         "48",
         "id2391523",
         "1",
         "2016-05-18 21:50:24",
         "2016-05-18 22:10:41",
         "3",
         "-73.9661636352539",
         "40.766914367675774",
         "-73.99217987060547",
         "40.7258186340332",
         "N",
         "1217",
         "2016-05-18",
         "21",
         "2",
         "0",
         "6977.0",
         "614.8",
         "15.0",
         "5.0680324601554485",
         "-154.36850671073262"
        ],
        [
         "49",
         "id2662609",
         "1",
         "2016-04-10 19:11:03",
         "2016-04-10 19:25:39",
         "1",
         "-73.96546936035155",
         "40.765846252441406",
         "-73.96095275878906",
         "40.79692840576172",
         "N",
         "876",
         "2016-04-10",
         "19",
         "6",
         "0",
         "4847.8",
         "427.9",
         "7.0",
         "3.4770365147897575",
         "6.277584217856657"
        ]
       ],
       "shape": {
        "columns": 20,
        "rows": 1458644
       }
      },
      "text/html": [
       "<div>\n",
       "<style scoped>\n",
       "    .dataframe tbody tr th:only-of-type {\n",
       "        vertical-align: middle;\n",
       "    }\n",
       "\n",
       "    .dataframe tbody tr th {\n",
       "        vertical-align: top;\n",
       "    }\n",
       "\n",
       "    .dataframe thead th {\n",
       "        text-align: right;\n",
       "    }\n",
       "</style>\n",
       "<table border=\"1\" class=\"dataframe\">\n",
       "  <thead>\n",
       "    <tr style=\"text-align: right;\">\n",
       "      <th></th>\n",
       "      <th>id</th>\n",
       "      <th>vendor_id</th>\n",
       "      <th>pickup_datetime</th>\n",
       "      <th>dropoff_datetime</th>\n",
       "      <th>passenger_count</th>\n",
       "      <th>pickup_longitude</th>\n",
       "      <th>pickup_latitude</th>\n",
       "      <th>dropoff_longitude</th>\n",
       "      <th>dropoff_latitude</th>\n",
       "      <th>store_and_fwd_flag</th>\n",
       "      <th>trip_duration</th>\n",
       "      <th>pickup_date</th>\n",
       "      <th>pickup_hour</th>\n",
       "      <th>pickup_day_of_week</th>\n",
       "      <th>holiday</th>\n",
       "      <th>total_distance</th>\n",
       "      <th>total_travel_time</th>\n",
       "      <th>number_of_steps</th>\n",
       "      <th>haversine_distance</th>\n",
       "      <th>direction</th>\n",
       "    </tr>\n",
       "  </thead>\n",
       "  <tbody>\n",
       "    <tr>\n",
       "      <th>0</th>\n",
       "      <td>id2875421</td>\n",
       "      <td>2</td>\n",
       "      <td>2016-03-14 17:24:55</td>\n",
       "      <td>2016-03-14 17:32:30</td>\n",
       "      <td>1</td>\n",
       "      <td>-73.982155</td>\n",
       "      <td>40.767937</td>\n",
       "      <td>-73.964630</td>\n",
       "      <td>40.765602</td>\n",
       "      <td>N</td>\n",
       "      <td>455</td>\n",
       "      <td>2016-03-14</td>\n",
       "      <td>17</td>\n",
       "      <td>0</td>\n",
       "      <td>0</td>\n",
       "      <td>2009.1</td>\n",
       "      <td>164.9</td>\n",
       "      <td>5.0</td>\n",
       "      <td>1.498521</td>\n",
       "      <td>99.970196</td>\n",
       "    </tr>\n",
       "    <tr>\n",
       "      <th>1</th>\n",
       "      <td>id2377394</td>\n",
       "      <td>1</td>\n",
       "      <td>2016-06-12 00:43:35</td>\n",
       "      <td>2016-06-12 00:54:38</td>\n",
       "      <td>1</td>\n",
       "      <td>-73.980415</td>\n",
       "      <td>40.738564</td>\n",
       "      <td>-73.999481</td>\n",
       "      <td>40.731152</td>\n",
       "      <td>N</td>\n",
       "      <td>663</td>\n",
       "      <td>2016-06-12</td>\n",
       "      <td>0</td>\n",
       "      <td>6</td>\n",
       "      <td>0</td>\n",
       "      <td>2513.2</td>\n",
       "      <td>332.0</td>\n",
       "      <td>6.0</td>\n",
       "      <td>1.805507</td>\n",
       "      <td>-117.153768</td>\n",
       "    </tr>\n",
       "    <tr>\n",
       "      <th>2</th>\n",
       "      <td>id3858529</td>\n",
       "      <td>2</td>\n",
       "      <td>2016-01-19 11:35:24</td>\n",
       "      <td>2016-01-19 12:10:48</td>\n",
       "      <td>1</td>\n",
       "      <td>-73.979027</td>\n",
       "      <td>40.763939</td>\n",
       "      <td>-74.005333</td>\n",
       "      <td>40.710087</td>\n",
       "      <td>N</td>\n",
       "      <td>2124</td>\n",
       "      <td>2016-01-19</td>\n",
       "      <td>11</td>\n",
       "      <td>1</td>\n",
       "      <td>0</td>\n",
       "      <td>11060.8</td>\n",
       "      <td>767.6</td>\n",
       "      <td>16.0</td>\n",
       "      <td>6.385098</td>\n",
       "      <td>-159.680165</td>\n",
       "    </tr>\n",
       "    <tr>\n",
       "      <th>3</th>\n",
       "      <td>id3504673</td>\n",
       "      <td>2</td>\n",
       "      <td>2016-04-06 19:32:31</td>\n",
       "      <td>2016-04-06 19:39:40</td>\n",
       "      <td>1</td>\n",
       "      <td>-74.010040</td>\n",
       "      <td>40.719971</td>\n",
       "      <td>-74.012268</td>\n",
       "      <td>40.706718</td>\n",
       "      <td>N</td>\n",
       "      <td>429</td>\n",
       "      <td>2016-04-06</td>\n",
       "      <td>19</td>\n",
       "      <td>2</td>\n",
       "      <td>0</td>\n",
       "      <td>1779.4</td>\n",
       "      <td>235.8</td>\n",
       "      <td>4.0</td>\n",
       "      <td>1.485498</td>\n",
       "      <td>-172.737700</td>\n",
       "    </tr>\n",
       "    <tr>\n",
       "      <th>4</th>\n",
       "      <td>id2181028</td>\n",
       "      <td>2</td>\n",
       "      <td>2016-03-26 13:30:55</td>\n",
       "      <td>2016-03-26 13:38:10</td>\n",
       "      <td>1</td>\n",
       "      <td>-73.973053</td>\n",
       "      <td>40.793209</td>\n",
       "      <td>-73.972923</td>\n",
       "      <td>40.782520</td>\n",
       "      <td>N</td>\n",
       "      <td>435</td>\n",
       "      <td>2016-03-26</td>\n",
       "      <td>13</td>\n",
       "      <td>5</td>\n",
       "      <td>0</td>\n",
       "      <td>1614.9</td>\n",
       "      <td>140.1</td>\n",
       "      <td>5.0</td>\n",
       "      <td>1.188588</td>\n",
       "      <td>179.473585</td>\n",
       "    </tr>\n",
       "    <tr>\n",
       "      <th>...</th>\n",
       "      <td>...</td>\n",
       "      <td>...</td>\n",
       "      <td>...</td>\n",
       "      <td>...</td>\n",
       "      <td>...</td>\n",
       "      <td>...</td>\n",
       "      <td>...</td>\n",
       "      <td>...</td>\n",
       "      <td>...</td>\n",
       "      <td>...</td>\n",
       "      <td>...</td>\n",
       "      <td>...</td>\n",
       "      <td>...</td>\n",
       "      <td>...</td>\n",
       "      <td>...</td>\n",
       "      <td>...</td>\n",
       "      <td>...</td>\n",
       "      <td>...</td>\n",
       "      <td>...</td>\n",
       "      <td>...</td>\n",
       "    </tr>\n",
       "    <tr>\n",
       "      <th>1458639</th>\n",
       "      <td>id2376096</td>\n",
       "      <td>2</td>\n",
       "      <td>2016-04-08 13:31:04</td>\n",
       "      <td>2016-04-08 13:44:02</td>\n",
       "      <td>4</td>\n",
       "      <td>-73.982201</td>\n",
       "      <td>40.745522</td>\n",
       "      <td>-73.994911</td>\n",
       "      <td>40.740170</td>\n",
       "      <td>N</td>\n",
       "      <td>778</td>\n",
       "      <td>2016-04-08</td>\n",
       "      <td>13</td>\n",
       "      <td>4</td>\n",
       "      <td>0</td>\n",
       "      <td>2234.6</td>\n",
       "      <td>311.7</td>\n",
       "      <td>8.0</td>\n",
       "      <td>1.225080</td>\n",
       "      <td>-119.059338</td>\n",
       "    </tr>\n",
       "    <tr>\n",
       "      <th>1458640</th>\n",
       "      <td>id1049543</td>\n",
       "      <td>1</td>\n",
       "      <td>2016-01-10 07:35:15</td>\n",
       "      <td>2016-01-10 07:46:10</td>\n",
       "      <td>1</td>\n",
       "      <td>-74.000946</td>\n",
       "      <td>40.747379</td>\n",
       "      <td>-73.970184</td>\n",
       "      <td>40.796547</td>\n",
       "      <td>N</td>\n",
       "      <td>655</td>\n",
       "      <td>2016-01-10</td>\n",
       "      <td>7</td>\n",
       "      <td>6</td>\n",
       "      <td>0</td>\n",
       "      <td>7638.0</td>\n",
       "      <td>589.6</td>\n",
       "      <td>11.0</td>\n",
       "      <td>6.049836</td>\n",
       "      <td>25.342196</td>\n",
       "    </tr>\n",
       "    <tr>\n",
       "      <th>1458641</th>\n",
       "      <td>id2304944</td>\n",
       "      <td>2</td>\n",
       "      <td>2016-04-22 06:57:41</td>\n",
       "      <td>2016-04-22 07:10:25</td>\n",
       "      <td>1</td>\n",
       "      <td>-73.959129</td>\n",
       "      <td>40.768799</td>\n",
       "      <td>-74.004433</td>\n",
       "      <td>40.707371</td>\n",
       "      <td>N</td>\n",
       "      <td>764</td>\n",
       "      <td>2016-04-22</td>\n",
       "      <td>6</td>\n",
       "      <td>4</td>\n",
       "      <td>0</td>\n",
       "      <td>9871.5</td>\n",
       "      <td>642.9</td>\n",
       "      <td>10.0</td>\n",
       "      <td>7.824606</td>\n",
       "      <td>-150.788492</td>\n",
       "    </tr>\n",
       "    <tr>\n",
       "      <th>1458642</th>\n",
       "      <td>id2714485</td>\n",
       "      <td>1</td>\n",
       "      <td>2016-01-05 15:56:26</td>\n",
       "      <td>2016-01-05 16:02:39</td>\n",
       "      <td>1</td>\n",
       "      <td>-73.982079</td>\n",
       "      <td>40.749062</td>\n",
       "      <td>-73.974632</td>\n",
       "      <td>40.757107</td>\n",
       "      <td>N</td>\n",
       "      <td>373</td>\n",
       "      <td>2016-01-05</td>\n",
       "      <td>15</td>\n",
       "      <td>1</td>\n",
       "      <td>0</td>\n",
       "      <td>1628.3</td>\n",
       "      <td>161.6</td>\n",
       "      <td>7.0</td>\n",
       "      <td>1.092564</td>\n",
       "      <td>35.033294</td>\n",
       "    </tr>\n",
       "    <tr>\n",
       "      <th>1458643</th>\n",
       "      <td>id1209952</td>\n",
       "      <td>1</td>\n",
       "      <td>2016-04-05 14:44:25</td>\n",
       "      <td>2016-04-05 14:47:43</td>\n",
       "      <td>1</td>\n",
       "      <td>-73.979538</td>\n",
       "      <td>40.781750</td>\n",
       "      <td>-73.972809</td>\n",
       "      <td>40.790585</td>\n",
       "      <td>N</td>\n",
       "      <td>198</td>\n",
       "      <td>2016-04-05</td>\n",
       "      <td>14</td>\n",
       "      <td>1</td>\n",
       "      <td>0</td>\n",
       "      <td>1134.2</td>\n",
       "      <td>90.7</td>\n",
       "      <td>2.0</td>\n",
       "      <td>1.134042</td>\n",
       "      <td>29.969486</td>\n",
       "    </tr>\n",
       "  </tbody>\n",
       "</table>\n",
       "<p>1458644 rows × 20 columns</p>\n",
       "</div>"
      ],
      "text/plain": [
       "                id  vendor_id     pickup_datetime     dropoff_datetime  \\\n",
       "0        id2875421          2 2016-03-14 17:24:55  2016-03-14 17:32:30   \n",
       "1        id2377394          1 2016-06-12 00:43:35  2016-06-12 00:54:38   \n",
       "2        id3858529          2 2016-01-19 11:35:24  2016-01-19 12:10:48   \n",
       "3        id3504673          2 2016-04-06 19:32:31  2016-04-06 19:39:40   \n",
       "4        id2181028          2 2016-03-26 13:30:55  2016-03-26 13:38:10   \n",
       "...            ...        ...                 ...                  ...   \n",
       "1458639  id2376096          2 2016-04-08 13:31:04  2016-04-08 13:44:02   \n",
       "1458640  id1049543          1 2016-01-10 07:35:15  2016-01-10 07:46:10   \n",
       "1458641  id2304944          2 2016-04-22 06:57:41  2016-04-22 07:10:25   \n",
       "1458642  id2714485          1 2016-01-05 15:56:26  2016-01-05 16:02:39   \n",
       "1458643  id1209952          1 2016-04-05 14:44:25  2016-04-05 14:47:43   \n",
       "\n",
       "         passenger_count  pickup_longitude  pickup_latitude  \\\n",
       "0                      1        -73.982155        40.767937   \n",
       "1                      1        -73.980415        40.738564   \n",
       "2                      1        -73.979027        40.763939   \n",
       "3                      1        -74.010040        40.719971   \n",
       "4                      1        -73.973053        40.793209   \n",
       "...                  ...               ...              ...   \n",
       "1458639                4        -73.982201        40.745522   \n",
       "1458640                1        -74.000946        40.747379   \n",
       "1458641                1        -73.959129        40.768799   \n",
       "1458642                1        -73.982079        40.749062   \n",
       "1458643                1        -73.979538        40.781750   \n",
       "\n",
       "         dropoff_longitude  dropoff_latitude store_and_fwd_flag  \\\n",
       "0               -73.964630         40.765602                  N   \n",
       "1               -73.999481         40.731152                  N   \n",
       "2               -74.005333         40.710087                  N   \n",
       "3               -74.012268         40.706718                  N   \n",
       "4               -73.972923         40.782520                  N   \n",
       "...                    ...               ...                ...   \n",
       "1458639         -73.994911         40.740170                  N   \n",
       "1458640         -73.970184         40.796547                  N   \n",
       "1458641         -74.004433         40.707371                  N   \n",
       "1458642         -73.974632         40.757107                  N   \n",
       "1458643         -73.972809         40.790585                  N   \n",
       "\n",
       "         trip_duration pickup_date  pickup_hour  pickup_day_of_week  holiday  \\\n",
       "0                  455  2016-03-14           17                   0        0   \n",
       "1                  663  2016-06-12            0                   6        0   \n",
       "2                 2124  2016-01-19           11                   1        0   \n",
       "3                  429  2016-04-06           19                   2        0   \n",
       "4                  435  2016-03-26           13                   5        0   \n",
       "...                ...         ...          ...                 ...      ...   \n",
       "1458639            778  2016-04-08           13                   4        0   \n",
       "1458640            655  2016-01-10            7                   6        0   \n",
       "1458641            764  2016-04-22            6                   4        0   \n",
       "1458642            373  2016-01-05           15                   1        0   \n",
       "1458643            198  2016-04-05           14                   1        0   \n",
       "\n",
       "         total_distance  total_travel_time  number_of_steps  \\\n",
       "0                2009.1              164.9              5.0   \n",
       "1                2513.2              332.0              6.0   \n",
       "2               11060.8              767.6             16.0   \n",
       "3                1779.4              235.8              4.0   \n",
       "4                1614.9              140.1              5.0   \n",
       "...                 ...                ...              ...   \n",
       "1458639          2234.6              311.7              8.0   \n",
       "1458640          7638.0              589.6             11.0   \n",
       "1458641          9871.5              642.9             10.0   \n",
       "1458642          1628.3              161.6              7.0   \n",
       "1458643          1134.2               90.7              2.0   \n",
       "\n",
       "         haversine_distance   direction  \n",
       "0                  1.498521   99.970196  \n",
       "1                  1.805507 -117.153768  \n",
       "2                  6.385098 -159.680165  \n",
       "3                  1.485498 -172.737700  \n",
       "4                  1.188588  179.473585  \n",
       "...                     ...         ...  \n",
       "1458639            1.225080 -119.059338  \n",
       "1458640            6.049836   25.342196  \n",
       "1458641            7.824606 -150.788492  \n",
       "1458642            1.092564   35.033294  \n",
       "1458643            1.134042   29.969486  \n",
       "\n",
       "[1458644 rows x 20 columns]"
      ]
     },
     "execution_count": 17,
     "metadata": {},
     "output_type": "execute_result"
    }
   ],
   "source": [
    "def add_geographical_features(taxi_data):\n",
    "    pickup_lat = taxi_data['pickup_latitude']\n",
    "    pickup_long = taxi_data['pickup_longitude']\n",
    "    dropoff_lat = taxi_data['dropoff_latitude']\n",
    "    dropoff_long = taxi_data['dropoff_longitude']\n",
    "    \n",
    "    haversine_distance = get_haversine_distance(pickup_lat, pickup_long,\n",
    "                                                dropoff_lat, dropoff_long)\n",
    "    \n",
    "    direction = get_angle_direction(pickup_lat, pickup_long,\n",
    "                                                dropoff_lat, dropoff_long)\n",
    "    \n",
    "    taxi_data = pd.concat([taxi_data, haversine_distance, direction], axis=1)\n",
    "    \n",
    "    taxi_data.rename(columns={0:'haversine_distance',\n",
    "                              1:'direction'}, inplace=True)\n",
    "     \n",
    "    return taxi_data\n",
    "\n",
    "taxi_data = add_geographical_features(taxi_data)\n",
    "taxi_data"
   ]
  },
  {
   "cell_type": "code",
   "execution_count": 18,
   "metadata": {},
   "outputs": [
    {
     "name": "stdout",
     "output_type": "stream",
     "text": [
      "Median Haversine distance is 2.09\n"
     ]
    }
   ],
   "source": [
    "haver_median = taxi_data['haversine_distance'].median()\n",
    "print(f'Median Haversine distance is {haver_median:.2f}')"
   ]
  },
  {
   "attachments": {},
   "cell_type": "markdown",
   "metadata": {
    "id": "_WWydgB2kBLm"
   },
   "source": [
    "### Задание 2.8.\n",
    "Реализуйте функцию add_cluster_features(), которая принимает на вход таблицу с данными о поездках и обученный алгоритм кластеризации. Функция должна возвращать обновленную таблицу с добавленными в нее столбцом geo_cluster - географический кластер, к которому относится поездка.\n",
    "\n",
    "Сколько поездок содержится в наименьшем по размеру географическом кластере?\n"
   ]
  },
  {
   "cell_type": "code",
   "execution_count": 32,
   "metadata": {},
   "outputs": [],
   "source": [
    "def add_cluster_features(df_taxi, coords, clust_alg=cluster.KMeans):\n",
    "    \n",
    "    kmeans = clust_alg(n_clusters=10, random_state=42)\n",
    "    coords_pred = pd.Series(kmeans.fit_predict(coords), name='geo_cluster')\n",
    "    \n",
    "    df_taxi = pd.concat([df_taxi, coords_pred], axis=1)\n",
    "    \n",
    "    return df_taxi"
   ]
  },
  {
   "cell_type": "code",
   "execution_count": 33,
   "metadata": {},
   "outputs": [
    {
     "data": {
      "application/vnd.microsoft.datawrangler.viewer.v0+json": {
       "columns": [
        {
         "name": "index",
         "rawType": "int64",
         "type": "integer"
        },
        {
         "name": "id",
         "rawType": "object",
         "type": "string"
        },
        {
         "name": "vendor_id",
         "rawType": "int64",
         "type": "integer"
        },
        {
         "name": "pickup_datetime",
         "rawType": "datetime64[ns]",
         "type": "datetime"
        },
        {
         "name": "dropoff_datetime",
         "rawType": "object",
         "type": "string"
        },
        {
         "name": "passenger_count",
         "rawType": "int64",
         "type": "integer"
        },
        {
         "name": "pickup_longitude",
         "rawType": "float64",
         "type": "float"
        },
        {
         "name": "pickup_latitude",
         "rawType": "float64",
         "type": "float"
        },
        {
         "name": "dropoff_longitude",
         "rawType": "float64",
         "type": "float"
        },
        {
         "name": "dropoff_latitude",
         "rawType": "float64",
         "type": "float"
        },
        {
         "name": "store_and_fwd_flag",
         "rawType": "object",
         "type": "string"
        },
        {
         "name": "trip_duration",
         "rawType": "int64",
         "type": "integer"
        },
        {
         "name": "pickup_date",
         "rawType": "object",
         "type": "unknown"
        },
        {
         "name": "pickup_hour",
         "rawType": "int32",
         "type": "integer"
        },
        {
         "name": "pickup_day_of_week",
         "rawType": "int32",
         "type": "integer"
        },
        {
         "name": "holiday",
         "rawType": "int64",
         "type": "integer"
        },
        {
         "name": "total_distance",
         "rawType": "float64",
         "type": "float"
        },
        {
         "name": "total_travel_time",
         "rawType": "float64",
         "type": "float"
        },
        {
         "name": "number_of_steps",
         "rawType": "float64",
         "type": "float"
        },
        {
         "name": "haversine_distance",
         "rawType": "float64",
         "type": "float"
        },
        {
         "name": "direction",
         "rawType": "float64",
         "type": "float"
        },
        {
         "name": "geo_cluster",
         "rawType": "int32",
         "type": "integer"
        }
       ],
       "ref": "328f52b4-20a8-4787-930e-7af6539bd3c0",
       "rows": [
        [
         "0",
         "id2875421",
         "2",
         "2016-03-14 17:24:55",
         "2016-03-14 17:32:30",
         "1",
         "-73.98215484619139",
         "40.76793670654297",
         "-73.96463012695312",
         "40.765602111816406",
         "N",
         "455",
         "2016-03-14",
         "17",
         "0",
         "0",
         "2009.1",
         "164.9",
         "5.0",
         "1.4985207796458557",
         "99.97019564715873",
         "6"
        ],
        [
         "1",
         "id2377394",
         "1",
         "2016-06-12 00:43:35",
         "2016-06-12 00:54:38",
         "1",
         "-73.98041534423827",
         "40.738563537597656",
         "-73.99948120117188",
         "40.731151580810554",
         "N",
         "663",
         "2016-06-12",
         "0",
         "6",
         "0",
         "2513.2",
         "332.0",
         "6.0",
         "1.8055071687965203",
         "-117.15376821264599",
         "9"
        ],
        [
         "2",
         "id3858529",
         "2",
         "2016-01-19 11:35:24",
         "2016-01-19 12:10:48",
         "1",
         "-73.97902679443358",
         "40.763938903808594",
         "-74.00533294677734",
         "40.710086822509766",
         "N",
         "2124",
         "2016-01-19",
         "11",
         "1",
         "0",
         "11060.8",
         "767.6",
         "16.0",
         "6.385098495252868",
         "-159.6801651540413",
         "9"
        ],
        [
         "3",
         "id3504673",
         "2",
         "2016-04-06 19:32:31",
         "2016-04-06 19:39:40",
         "1",
         "-74.01004028320312",
         "40.719970703125",
         "-74.01226806640625",
         "40.70671844482422",
         "N",
         "429",
         "2016-04-06",
         "19",
         "2",
         "0",
         "1779.4",
         "235.8",
         "4.0",
         "1.4854984227709382",
         "-172.73769967364282",
         "9"
        ],
        [
         "4",
         "id2181028",
         "2",
         "2016-03-26 13:30:55",
         "2016-03-26 13:38:10",
         "1",
         "-73.97305297851561",
         "40.79320907592773",
         "-73.9729232788086",
         "40.782520294189446",
         "N",
         "435",
         "2016-03-26",
         "13",
         "5",
         "0",
         "1614.9",
         "140.1",
         "5.0",
         "1.1885884593338754",
         "179.4735846108892",
         "6"
        ]
       ],
       "shape": {
        "columns": 21,
        "rows": 5
       }
      },
      "text/html": [
       "<div>\n",
       "<style scoped>\n",
       "    .dataframe tbody tr th:only-of-type {\n",
       "        vertical-align: middle;\n",
       "    }\n",
       "\n",
       "    .dataframe tbody tr th {\n",
       "        vertical-align: top;\n",
       "    }\n",
       "\n",
       "    .dataframe thead th {\n",
       "        text-align: right;\n",
       "    }\n",
       "</style>\n",
       "<table border=\"1\" class=\"dataframe\">\n",
       "  <thead>\n",
       "    <tr style=\"text-align: right;\">\n",
       "      <th></th>\n",
       "      <th>id</th>\n",
       "      <th>vendor_id</th>\n",
       "      <th>pickup_datetime</th>\n",
       "      <th>dropoff_datetime</th>\n",
       "      <th>passenger_count</th>\n",
       "      <th>pickup_longitude</th>\n",
       "      <th>pickup_latitude</th>\n",
       "      <th>dropoff_longitude</th>\n",
       "      <th>dropoff_latitude</th>\n",
       "      <th>store_and_fwd_flag</th>\n",
       "      <th>...</th>\n",
       "      <th>pickup_date</th>\n",
       "      <th>pickup_hour</th>\n",
       "      <th>pickup_day_of_week</th>\n",
       "      <th>holiday</th>\n",
       "      <th>total_distance</th>\n",
       "      <th>total_travel_time</th>\n",
       "      <th>number_of_steps</th>\n",
       "      <th>haversine_distance</th>\n",
       "      <th>direction</th>\n",
       "      <th>geo_cluster</th>\n",
       "    </tr>\n",
       "  </thead>\n",
       "  <tbody>\n",
       "    <tr>\n",
       "      <th>0</th>\n",
       "      <td>id2875421</td>\n",
       "      <td>2</td>\n",
       "      <td>2016-03-14 17:24:55</td>\n",
       "      <td>2016-03-14 17:32:30</td>\n",
       "      <td>1</td>\n",
       "      <td>-73.982155</td>\n",
       "      <td>40.767937</td>\n",
       "      <td>-73.964630</td>\n",
       "      <td>40.765602</td>\n",
       "      <td>N</td>\n",
       "      <td>...</td>\n",
       "      <td>2016-03-14</td>\n",
       "      <td>17</td>\n",
       "      <td>0</td>\n",
       "      <td>0</td>\n",
       "      <td>2009.1</td>\n",
       "      <td>164.9</td>\n",
       "      <td>5.0</td>\n",
       "      <td>1.498521</td>\n",
       "      <td>99.970196</td>\n",
       "      <td>6</td>\n",
       "    </tr>\n",
       "    <tr>\n",
       "      <th>1</th>\n",
       "      <td>id2377394</td>\n",
       "      <td>1</td>\n",
       "      <td>2016-06-12 00:43:35</td>\n",
       "      <td>2016-06-12 00:54:38</td>\n",
       "      <td>1</td>\n",
       "      <td>-73.980415</td>\n",
       "      <td>40.738564</td>\n",
       "      <td>-73.999481</td>\n",
       "      <td>40.731152</td>\n",
       "      <td>N</td>\n",
       "      <td>...</td>\n",
       "      <td>2016-06-12</td>\n",
       "      <td>0</td>\n",
       "      <td>6</td>\n",
       "      <td>0</td>\n",
       "      <td>2513.2</td>\n",
       "      <td>332.0</td>\n",
       "      <td>6.0</td>\n",
       "      <td>1.805507</td>\n",
       "      <td>-117.153768</td>\n",
       "      <td>9</td>\n",
       "    </tr>\n",
       "    <tr>\n",
       "      <th>2</th>\n",
       "      <td>id3858529</td>\n",
       "      <td>2</td>\n",
       "      <td>2016-01-19 11:35:24</td>\n",
       "      <td>2016-01-19 12:10:48</td>\n",
       "      <td>1</td>\n",
       "      <td>-73.979027</td>\n",
       "      <td>40.763939</td>\n",
       "      <td>-74.005333</td>\n",
       "      <td>40.710087</td>\n",
       "      <td>N</td>\n",
       "      <td>...</td>\n",
       "      <td>2016-01-19</td>\n",
       "      <td>11</td>\n",
       "      <td>1</td>\n",
       "      <td>0</td>\n",
       "      <td>11060.8</td>\n",
       "      <td>767.6</td>\n",
       "      <td>16.0</td>\n",
       "      <td>6.385098</td>\n",
       "      <td>-159.680165</td>\n",
       "      <td>9</td>\n",
       "    </tr>\n",
       "    <tr>\n",
       "      <th>3</th>\n",
       "      <td>id3504673</td>\n",
       "      <td>2</td>\n",
       "      <td>2016-04-06 19:32:31</td>\n",
       "      <td>2016-04-06 19:39:40</td>\n",
       "      <td>1</td>\n",
       "      <td>-74.010040</td>\n",
       "      <td>40.719971</td>\n",
       "      <td>-74.012268</td>\n",
       "      <td>40.706718</td>\n",
       "      <td>N</td>\n",
       "      <td>...</td>\n",
       "      <td>2016-04-06</td>\n",
       "      <td>19</td>\n",
       "      <td>2</td>\n",
       "      <td>0</td>\n",
       "      <td>1779.4</td>\n",
       "      <td>235.8</td>\n",
       "      <td>4.0</td>\n",
       "      <td>1.485498</td>\n",
       "      <td>-172.737700</td>\n",
       "      <td>9</td>\n",
       "    </tr>\n",
       "    <tr>\n",
       "      <th>4</th>\n",
       "      <td>id2181028</td>\n",
       "      <td>2</td>\n",
       "      <td>2016-03-26 13:30:55</td>\n",
       "      <td>2016-03-26 13:38:10</td>\n",
       "      <td>1</td>\n",
       "      <td>-73.973053</td>\n",
       "      <td>40.793209</td>\n",
       "      <td>-73.972923</td>\n",
       "      <td>40.782520</td>\n",
       "      <td>N</td>\n",
       "      <td>...</td>\n",
       "      <td>2016-03-26</td>\n",
       "      <td>13</td>\n",
       "      <td>5</td>\n",
       "      <td>0</td>\n",
       "      <td>1614.9</td>\n",
       "      <td>140.1</td>\n",
       "      <td>5.0</td>\n",
       "      <td>1.188588</td>\n",
       "      <td>179.473585</td>\n",
       "      <td>6</td>\n",
       "    </tr>\n",
       "  </tbody>\n",
       "</table>\n",
       "<p>5 rows × 21 columns</p>\n",
       "</div>"
      ],
      "text/plain": [
       "          id  vendor_id     pickup_datetime     dropoff_datetime  \\\n",
       "0  id2875421          2 2016-03-14 17:24:55  2016-03-14 17:32:30   \n",
       "1  id2377394          1 2016-06-12 00:43:35  2016-06-12 00:54:38   \n",
       "2  id3858529          2 2016-01-19 11:35:24  2016-01-19 12:10:48   \n",
       "3  id3504673          2 2016-04-06 19:32:31  2016-04-06 19:39:40   \n",
       "4  id2181028          2 2016-03-26 13:30:55  2016-03-26 13:38:10   \n",
       "\n",
       "   passenger_count  pickup_longitude  pickup_latitude  dropoff_longitude  \\\n",
       "0                1        -73.982155        40.767937         -73.964630   \n",
       "1                1        -73.980415        40.738564         -73.999481   \n",
       "2                1        -73.979027        40.763939         -74.005333   \n",
       "3                1        -74.010040        40.719971         -74.012268   \n",
       "4                1        -73.973053        40.793209         -73.972923   \n",
       "\n",
       "   dropoff_latitude store_and_fwd_flag  ...  pickup_date pickup_hour  \\\n",
       "0         40.765602                  N  ...   2016-03-14          17   \n",
       "1         40.731152                  N  ...   2016-06-12           0   \n",
       "2         40.710087                  N  ...   2016-01-19          11   \n",
       "3         40.706718                  N  ...   2016-04-06          19   \n",
       "4         40.782520                  N  ...   2016-03-26          13   \n",
       "\n",
       "   pickup_day_of_week  holiday  total_distance  total_travel_time  \\\n",
       "0                   0        0          2009.1              164.9   \n",
       "1                   6        0          2513.2              332.0   \n",
       "2                   1        0         11060.8              767.6   \n",
       "3                   2        0          1779.4              235.8   \n",
       "4                   5        0          1614.9              140.1   \n",
       "\n",
       "   number_of_steps  haversine_distance   direction  geo_cluster  \n",
       "0              5.0            1.498521   99.970196            6  \n",
       "1              6.0            1.805507 -117.153768            9  \n",
       "2             16.0            6.385098 -159.680165            9  \n",
       "3              4.0            1.485498 -172.737700            9  \n",
       "4              5.0            1.188588  179.473585            6  \n",
       "\n",
       "[5 rows x 21 columns]"
      ]
     },
     "execution_count": 33,
     "metadata": {},
     "output_type": "execute_result"
    }
   ],
   "source": [
    "# создаем обучающую выборку из географических координат всех точек\n",
    "coords = np.hstack((taxi_data[['pickup_latitude', 'pickup_longitude']],\n",
    "                    taxi_data[['dropoff_latitude', 'dropoff_longitude']]))\n",
    "\n",
    "taxi_data = add_cluster_features(df_taxi=taxi_data, coords=coords, \n",
    "                                 clust_alg=cluster.KMeans)\n",
    "\n",
    "taxi_data.head()"
   ]
  },
  {
   "cell_type": "code",
   "execution_count": 36,
   "metadata": {},
   "outputs": [
    {
     "name": "stdout",
     "output_type": "stream",
     "text": [
      "Number of taxi rides in each cluster:\n",
      "geo_cluster\n",
      "0    595850\n",
      "1         2\n",
      "2     32769\n",
      "3     40671\n",
      "4         4\n",
      "5         3\n",
      "6    405045\n",
      "7     45791\n",
      "8     15510\n",
      "9    322999\n",
      "Name: id, dtype: int64\n"
     ]
    }
   ],
   "source": [
    "print('Number of taxi rides in each cluster:')\n",
    "print(taxi_data.groupby('geo_cluster').count()['id'])"
   ]
  },
  {
   "attachments": {},
   "cell_type": "markdown",
   "metadata": {
    "id": "4FRtxWNDkBLn"
   },
   "source": [
    "### Задание 2.9.\n",
    "Реализуйте функцию add_weather_features(), которая принимает на вход две таблицы:\n",
    "* таблицу с данными о поездках;\n",
    "* таблицу с данными о погодных условиях на каждый час;\n",
    "\n",
    "и возвращает обновленную таблицу с данными о поездках с добавленными в нее 5 столбцами:\n",
    "* temperature - температура;\n",
    "* visibility - видимость;\n",
    "* wind speed - средняя скорость ветра;\n",
    "* precip - количество осадков;\n",
    "* events - погодные явления.\n",
    "\n",
    "а) Сколько поездок было совершено в снежную погоду?\n",
    "\n",
    "В результате объединения у вас должны получиться записи, для которых в столбцах temperature, visibility, wind speed, precip, и events будут пропуски. Это связано с тем, что в таблице с данными о погодных условиях отсутствуют измерения для некоторых моментов времени, в которых включался счетчик поездки. \n",
    "\n",
    "б) Сколько процентов от общего количества наблюдений в таблице с данными о поездках занимают пропуски в столбцах с погодными условиями? Ответ приведите с точностью до сотых процента.\n"
   ]
  },
  {
   "cell_type": "code",
   "execution_count": 20,
   "metadata": {
    "id": "PdgHJwQgkBLn"
   },
   "outputs": [
    {
     "ename": "FileNotFoundError",
     "evalue": "[Errno 2] No such file or directory: 'data/weather_data.csv'",
     "output_type": "error",
     "traceback": [
      "\u001b[31m---------------------------------------------------------------------------\u001b[39m",
      "\u001b[31mFileNotFoundError\u001b[39m                         Traceback (most recent call last)",
      "\u001b[36mCell\u001b[39m\u001b[36m \u001b[39m\u001b[32mIn[20]\u001b[39m\u001b[32m, line 1\u001b[39m\n\u001b[32m----> \u001b[39m\u001b[32m1\u001b[39m weather_data = \u001b[43mpd\u001b[49m\u001b[43m.\u001b[49m\u001b[43mread_csv\u001b[49m\u001b[43m(\u001b[49m\u001b[33;43m'\u001b[39;49m\u001b[33;43mdata/weather_data.csv\u001b[39;49m\u001b[33;43m'\u001b[39;49m\u001b[43m)\u001b[49m\n\u001b[32m      3\u001b[39m \u001b[38;5;66;03m# ваш код здесь\u001b[39;00m\n",
      "\u001b[36mFile \u001b[39m\u001b[32mc:\\Users\\Yaroslav\\AppData\\Local\\Programs\\Python\\Python313\\Lib\\site-packages\\pandas\\io\\parsers\\readers.py:1026\u001b[39m, in \u001b[36mread_csv\u001b[39m\u001b[34m(filepath_or_buffer, sep, delimiter, header, names, index_col, usecols, dtype, engine, converters, true_values, false_values, skipinitialspace, skiprows, skipfooter, nrows, na_values, keep_default_na, na_filter, verbose, skip_blank_lines, parse_dates, infer_datetime_format, keep_date_col, date_parser, date_format, dayfirst, cache_dates, iterator, chunksize, compression, thousands, decimal, lineterminator, quotechar, quoting, doublequote, escapechar, comment, encoding, encoding_errors, dialect, on_bad_lines, delim_whitespace, low_memory, memory_map, float_precision, storage_options, dtype_backend)\u001b[39m\n\u001b[32m   1013\u001b[39m kwds_defaults = _refine_defaults_read(\n\u001b[32m   1014\u001b[39m     dialect,\n\u001b[32m   1015\u001b[39m     delimiter,\n\u001b[32m   (...)\u001b[39m\u001b[32m   1022\u001b[39m     dtype_backend=dtype_backend,\n\u001b[32m   1023\u001b[39m )\n\u001b[32m   1024\u001b[39m kwds.update(kwds_defaults)\n\u001b[32m-> \u001b[39m\u001b[32m1026\u001b[39m \u001b[38;5;28;01mreturn\u001b[39;00m \u001b[43m_read\u001b[49m\u001b[43m(\u001b[49m\u001b[43mfilepath_or_buffer\u001b[49m\u001b[43m,\u001b[49m\u001b[43m \u001b[49m\u001b[43mkwds\u001b[49m\u001b[43m)\u001b[49m\n",
      "\u001b[36mFile \u001b[39m\u001b[32mc:\\Users\\Yaroslav\\AppData\\Local\\Programs\\Python\\Python313\\Lib\\site-packages\\pandas\\io\\parsers\\readers.py:620\u001b[39m, in \u001b[36m_read\u001b[39m\u001b[34m(filepath_or_buffer, kwds)\u001b[39m\n\u001b[32m    617\u001b[39m _validate_names(kwds.get(\u001b[33m\"\u001b[39m\u001b[33mnames\u001b[39m\u001b[33m\"\u001b[39m, \u001b[38;5;28;01mNone\u001b[39;00m))\n\u001b[32m    619\u001b[39m \u001b[38;5;66;03m# Create the parser.\u001b[39;00m\n\u001b[32m--> \u001b[39m\u001b[32m620\u001b[39m parser = \u001b[43mTextFileReader\u001b[49m\u001b[43m(\u001b[49m\u001b[43mfilepath_or_buffer\u001b[49m\u001b[43m,\u001b[49m\u001b[43m \u001b[49m\u001b[43m*\u001b[49m\u001b[43m*\u001b[49m\u001b[43mkwds\u001b[49m\u001b[43m)\u001b[49m\n\u001b[32m    622\u001b[39m \u001b[38;5;28;01mif\u001b[39;00m chunksize \u001b[38;5;129;01mor\u001b[39;00m iterator:\n\u001b[32m    623\u001b[39m     \u001b[38;5;28;01mreturn\u001b[39;00m parser\n",
      "\u001b[36mFile \u001b[39m\u001b[32mc:\\Users\\Yaroslav\\AppData\\Local\\Programs\\Python\\Python313\\Lib\\site-packages\\pandas\\io\\parsers\\readers.py:1620\u001b[39m, in \u001b[36mTextFileReader.__init__\u001b[39m\u001b[34m(self, f, engine, **kwds)\u001b[39m\n\u001b[32m   1617\u001b[39m     \u001b[38;5;28mself\u001b[39m.options[\u001b[33m\"\u001b[39m\u001b[33mhas_index_names\u001b[39m\u001b[33m\"\u001b[39m] = kwds[\u001b[33m\"\u001b[39m\u001b[33mhas_index_names\u001b[39m\u001b[33m\"\u001b[39m]\n\u001b[32m   1619\u001b[39m \u001b[38;5;28mself\u001b[39m.handles: IOHandles | \u001b[38;5;28;01mNone\u001b[39;00m = \u001b[38;5;28;01mNone\u001b[39;00m\n\u001b[32m-> \u001b[39m\u001b[32m1620\u001b[39m \u001b[38;5;28mself\u001b[39m._engine = \u001b[38;5;28;43mself\u001b[39;49m\u001b[43m.\u001b[49m\u001b[43m_make_engine\u001b[49m\u001b[43m(\u001b[49m\u001b[43mf\u001b[49m\u001b[43m,\u001b[49m\u001b[43m \u001b[49m\u001b[38;5;28;43mself\u001b[39;49m\u001b[43m.\u001b[49m\u001b[43mengine\u001b[49m\u001b[43m)\u001b[49m\n",
      "\u001b[36mFile \u001b[39m\u001b[32mc:\\Users\\Yaroslav\\AppData\\Local\\Programs\\Python\\Python313\\Lib\\site-packages\\pandas\\io\\parsers\\readers.py:1880\u001b[39m, in \u001b[36mTextFileReader._make_engine\u001b[39m\u001b[34m(self, f, engine)\u001b[39m\n\u001b[32m   1878\u001b[39m     \u001b[38;5;28;01mif\u001b[39;00m \u001b[33m\"\u001b[39m\u001b[33mb\u001b[39m\u001b[33m\"\u001b[39m \u001b[38;5;129;01mnot\u001b[39;00m \u001b[38;5;129;01min\u001b[39;00m mode:\n\u001b[32m   1879\u001b[39m         mode += \u001b[33m\"\u001b[39m\u001b[33mb\u001b[39m\u001b[33m\"\u001b[39m\n\u001b[32m-> \u001b[39m\u001b[32m1880\u001b[39m \u001b[38;5;28mself\u001b[39m.handles = \u001b[43mget_handle\u001b[49m\u001b[43m(\u001b[49m\n\u001b[32m   1881\u001b[39m \u001b[43m    \u001b[49m\u001b[43mf\u001b[49m\u001b[43m,\u001b[49m\n\u001b[32m   1882\u001b[39m \u001b[43m    \u001b[49m\u001b[43mmode\u001b[49m\u001b[43m,\u001b[49m\n\u001b[32m   1883\u001b[39m \u001b[43m    \u001b[49m\u001b[43mencoding\u001b[49m\u001b[43m=\u001b[49m\u001b[38;5;28;43mself\u001b[39;49m\u001b[43m.\u001b[49m\u001b[43moptions\u001b[49m\u001b[43m.\u001b[49m\u001b[43mget\u001b[49m\u001b[43m(\u001b[49m\u001b[33;43m\"\u001b[39;49m\u001b[33;43mencoding\u001b[39;49m\u001b[33;43m\"\u001b[39;49m\u001b[43m,\u001b[49m\u001b[43m \u001b[49m\u001b[38;5;28;43;01mNone\u001b[39;49;00m\u001b[43m)\u001b[49m\u001b[43m,\u001b[49m\n\u001b[32m   1884\u001b[39m \u001b[43m    \u001b[49m\u001b[43mcompression\u001b[49m\u001b[43m=\u001b[49m\u001b[38;5;28;43mself\u001b[39;49m\u001b[43m.\u001b[49m\u001b[43moptions\u001b[49m\u001b[43m.\u001b[49m\u001b[43mget\u001b[49m\u001b[43m(\u001b[49m\u001b[33;43m\"\u001b[39;49m\u001b[33;43mcompression\u001b[39;49m\u001b[33;43m\"\u001b[39;49m\u001b[43m,\u001b[49m\u001b[43m \u001b[49m\u001b[38;5;28;43;01mNone\u001b[39;49;00m\u001b[43m)\u001b[49m\u001b[43m,\u001b[49m\n\u001b[32m   1885\u001b[39m \u001b[43m    \u001b[49m\u001b[43mmemory_map\u001b[49m\u001b[43m=\u001b[49m\u001b[38;5;28;43mself\u001b[39;49m\u001b[43m.\u001b[49m\u001b[43moptions\u001b[49m\u001b[43m.\u001b[49m\u001b[43mget\u001b[49m\u001b[43m(\u001b[49m\u001b[33;43m\"\u001b[39;49m\u001b[33;43mmemory_map\u001b[39;49m\u001b[33;43m\"\u001b[39;49m\u001b[43m,\u001b[49m\u001b[43m \u001b[49m\u001b[38;5;28;43;01mFalse\u001b[39;49;00m\u001b[43m)\u001b[49m\u001b[43m,\u001b[49m\n\u001b[32m   1886\u001b[39m \u001b[43m    \u001b[49m\u001b[43mis_text\u001b[49m\u001b[43m=\u001b[49m\u001b[43mis_text\u001b[49m\u001b[43m,\u001b[49m\n\u001b[32m   1887\u001b[39m \u001b[43m    \u001b[49m\u001b[43merrors\u001b[49m\u001b[43m=\u001b[49m\u001b[38;5;28;43mself\u001b[39;49m\u001b[43m.\u001b[49m\u001b[43moptions\u001b[49m\u001b[43m.\u001b[49m\u001b[43mget\u001b[49m\u001b[43m(\u001b[49m\u001b[33;43m\"\u001b[39;49m\u001b[33;43mencoding_errors\u001b[39;49m\u001b[33;43m\"\u001b[39;49m\u001b[43m,\u001b[49m\u001b[43m \u001b[49m\u001b[33;43m\"\u001b[39;49m\u001b[33;43mstrict\u001b[39;49m\u001b[33;43m\"\u001b[39;49m\u001b[43m)\u001b[49m\u001b[43m,\u001b[49m\n\u001b[32m   1888\u001b[39m \u001b[43m    \u001b[49m\u001b[43mstorage_options\u001b[49m\u001b[43m=\u001b[49m\u001b[38;5;28;43mself\u001b[39;49m\u001b[43m.\u001b[49m\u001b[43moptions\u001b[49m\u001b[43m.\u001b[49m\u001b[43mget\u001b[49m\u001b[43m(\u001b[49m\u001b[33;43m\"\u001b[39;49m\u001b[33;43mstorage_options\u001b[39;49m\u001b[33;43m\"\u001b[39;49m\u001b[43m,\u001b[49m\u001b[43m \u001b[49m\u001b[38;5;28;43;01mNone\u001b[39;49;00m\u001b[43m)\u001b[49m\u001b[43m,\u001b[49m\n\u001b[32m   1889\u001b[39m \u001b[43m\u001b[49m\u001b[43m)\u001b[49m\n\u001b[32m   1890\u001b[39m \u001b[38;5;28;01massert\u001b[39;00m \u001b[38;5;28mself\u001b[39m.handles \u001b[38;5;129;01mis\u001b[39;00m \u001b[38;5;129;01mnot\u001b[39;00m \u001b[38;5;28;01mNone\u001b[39;00m\n\u001b[32m   1891\u001b[39m f = \u001b[38;5;28mself\u001b[39m.handles.handle\n",
      "\u001b[36mFile \u001b[39m\u001b[32mc:\\Users\\Yaroslav\\AppData\\Local\\Programs\\Python\\Python313\\Lib\\site-packages\\pandas\\io\\common.py:873\u001b[39m, in \u001b[36mget_handle\u001b[39m\u001b[34m(path_or_buf, mode, encoding, compression, memory_map, is_text, errors, storage_options)\u001b[39m\n\u001b[32m    868\u001b[39m \u001b[38;5;28;01melif\u001b[39;00m \u001b[38;5;28misinstance\u001b[39m(handle, \u001b[38;5;28mstr\u001b[39m):\n\u001b[32m    869\u001b[39m     \u001b[38;5;66;03m# Check whether the filename is to be opened in binary mode.\u001b[39;00m\n\u001b[32m    870\u001b[39m     \u001b[38;5;66;03m# Binary mode does not support 'encoding' and 'newline'.\u001b[39;00m\n\u001b[32m    871\u001b[39m     \u001b[38;5;28;01mif\u001b[39;00m ioargs.encoding \u001b[38;5;129;01mand\u001b[39;00m \u001b[33m\"\u001b[39m\u001b[33mb\u001b[39m\u001b[33m\"\u001b[39m \u001b[38;5;129;01mnot\u001b[39;00m \u001b[38;5;129;01min\u001b[39;00m ioargs.mode:\n\u001b[32m    872\u001b[39m         \u001b[38;5;66;03m# Encoding\u001b[39;00m\n\u001b[32m--> \u001b[39m\u001b[32m873\u001b[39m         handle = \u001b[38;5;28;43mopen\u001b[39;49m\u001b[43m(\u001b[49m\n\u001b[32m    874\u001b[39m \u001b[43m            \u001b[49m\u001b[43mhandle\u001b[49m\u001b[43m,\u001b[49m\n\u001b[32m    875\u001b[39m \u001b[43m            \u001b[49m\u001b[43mioargs\u001b[49m\u001b[43m.\u001b[49m\u001b[43mmode\u001b[49m\u001b[43m,\u001b[49m\n\u001b[32m    876\u001b[39m \u001b[43m            \u001b[49m\u001b[43mencoding\u001b[49m\u001b[43m=\u001b[49m\u001b[43mioargs\u001b[49m\u001b[43m.\u001b[49m\u001b[43mencoding\u001b[49m\u001b[43m,\u001b[49m\n\u001b[32m    877\u001b[39m \u001b[43m            \u001b[49m\u001b[43merrors\u001b[49m\u001b[43m=\u001b[49m\u001b[43merrors\u001b[49m\u001b[43m,\u001b[49m\n\u001b[32m    878\u001b[39m \u001b[43m            \u001b[49m\u001b[43mnewline\u001b[49m\u001b[43m=\u001b[49m\u001b[33;43m\"\u001b[39;49m\u001b[33;43m\"\u001b[39;49m\u001b[43m,\u001b[49m\n\u001b[32m    879\u001b[39m \u001b[43m        \u001b[49m\u001b[43m)\u001b[49m\n\u001b[32m    880\u001b[39m     \u001b[38;5;28;01melse\u001b[39;00m:\n\u001b[32m    881\u001b[39m         \u001b[38;5;66;03m# Binary mode\u001b[39;00m\n\u001b[32m    882\u001b[39m         handle = \u001b[38;5;28mopen\u001b[39m(handle, ioargs.mode)\n",
      "\u001b[31mFileNotFoundError\u001b[39m: [Errno 2] No such file or directory: 'data/weather_data.csv'"
     ]
    }
   ],
   "source": [
    "weather_data = pd.read_csv('data/weather_data.csv')\n",
    "\n",
    "# ваш код здесь"
   ]
  },
  {
   "attachments": {},
   "cell_type": "markdown",
   "metadata": {
    "id": "hwsluTQHkBLn"
   },
   "source": [
    "### Задание 2.10.\n",
    "Реализуйте функцию fill_null_weather_data(), которая принимает на вход которая принимает на вход таблицу с данными о поездках. Функция должна заполнять пропущенные значения в столбцах.\n",
    "\n",
    "Пропуски в столбцах с погодными условиями -  temperature, visibility, wind speed, precip заполните медианным значением температуры, влажности, скорости ветра и видимости в зависимости от даты начала поездки. Для этого сгруппируйте данные по столбцу pickup_date и рассчитайте медиану в каждой группе, после чего с помощью комбинации методов transform() и fillna() заполните пропуски. \n",
    "Пропуски в столбце events заполните строкой 'None' - символом отсутствия погодных явлений (снега/дождя/тумана). \n",
    "\n",
    "Пропуски в столбцах с информацией из OSRM API - total_distance, total_travel_time и number_of_steps заполните медианным значением по столбцам. \n",
    "\n",
    "Чему равна медиана в столбце temperature после заполнения пропусков? Ответ округлите до десятых.\n"
   ]
  },
  {
   "cell_type": "code",
   "execution_count": null,
   "metadata": {
    "id": "oHIYqxjKkBLn"
   },
   "outputs": [],
   "source": [
    "# ваш код здесь"
   ]
  },
  {
   "attachments": {},
   "cell_type": "markdown",
   "metadata": {
    "id": "MahzwVDxkBLn"
   },
   "source": [
    "В завершение первой части найдем очевидные выбросы в целевой переменной - длительности поездки. \n",
    "\n",
    "Проще всего найти слишком продолжительные поездки. Давайте условимся, что выбросами будут считаться поездки, длительность которых превышает 24 часа. \n",
    "\n",
    "Чуть сложнее с анализом поездок, длительность которых слишком мала. Потому что к ним относятся действительно реальные поездки на короткие расстояния, поездки, которые были отменены через секунду после того как включился счетчик, а также “телепортации” - перемещение на большие расстояния за считанные секунды. \n",
    "Условимся, что мы будем считать выбросами только последнюю группу. Как же нам их обнаружить наиболее простым способом?\n",
    "\n",
    "Можно воспользоваться информацией о кратчайшем расстоянии, которое проезжает такси. Вычислить среднюю скорость автомобиля на кратчайшем пути следующим образом: \n",
    "$$avg\\_speed= \\frac{total\\_distance}{1000*trip\\_duration}*3600$$\n",
    "Если мы построим диаграмму рассеяния средней скорости движения автомобилей, мы увидим следующую картину:\n"
   ]
  },
  {
   "cell_type": "code",
   "execution_count": null,
   "metadata": {
    "id": "Nnp1KatIkBLo"
   },
   "outputs": [],
   "source": [
    "avg_speed = taxi_data['total_distance'] / taxi_data['trip_duration'] * 3.6\n",
    "fig, ax = plt.subplots(figsize=(10, 5))\n",
    "sns.scatterplot(x=avg_speed.index, y=avg_speed, ax=ax)\n",
    "ax.set_xlabel('Index')\n",
    "ax.set_ylabel('Average speed');"
   ]
  },
  {
   "attachments": {},
   "cell_type": "markdown",
   "metadata": {
    "id": "BGxXxv7LkBLo"
   },
   "source": [
    "Как раз отсюда мы видим, что у нас есть “поездки-телепортации”, для которых средняя скорость более 1000 км/ч. Даже есть такая, средняя скорость которой составляла более 12000 км/ч! \n",
    "\n",
    "Давайте условимся, что предельная средняя скорость, которую могут развивать таксисты будет 300 км/ч. \n"
   ]
  },
  {
   "attachments": {},
   "cell_type": "markdown",
   "metadata": {
    "id": "sSWHdHNWkBLo",
    "tags": []
   },
   "source": [
    "### Задание 2.11.\n",
    "Найдите поездки, длительность которых превышает 24 часа. И удалите их из набора данных.\n",
    "\n",
    "а) Сколько выбросов по признаку длительности поездки вам удалось найти?\n",
    "\n",
    "Найдите поездки, средняя скорость которых по кратчайшему пути превышает 300 км/ч и удалите их из данных. \n",
    "\n",
    "б) Сколько выбросов по признаку скорости вам удалось найти?"
   ]
  },
  {
   "cell_type": "code",
   "execution_count": null,
   "metadata": {
    "id": "3KVmlq8SkBLo"
   },
   "outputs": [],
   "source": [
    "# ваш код здесь"
   ]
  },
  {
   "attachments": {},
   "cell_type": "markdown",
   "metadata": {
    "id": "pEEXbpTfkBLo",
    "tags": []
   },
   "source": [
    "## 3. Разведывательный анализ данных (EDA)"
   ]
  },
  {
   "attachments": {},
   "cell_type": "markdown",
   "metadata": {
    "id": "59de6wa-kBLo"
   },
   "source": [
    "В этой части нашего проекта мы с вами:\n",
    "* Исследуем сформированный набор данных; \n",
    "* Попробуем найти закономерности, позволяющие сформулировать предварительные гипотезы относительно того, какие факторы являются решающими в определении длительности поездки;\n",
    "* Дополним наш анализ визуализациями, иллюстрирующими; исследование. Постарайтесь оформлять диаграммы с душой, а не «для галочки»: навыки визуализации полученных выводов обязательно пригодятся вам в будущем.\n"
   ]
  },
  {
   "attachments": {},
   "cell_type": "markdown",
   "metadata": {
    "id": "d-8PQtqRkBLo"
   },
   "source": [
    "Начинаем с целевого признака. Забегая вперед, скажем, что основной метрикой качества решения поставленной задачи будет RMSLE - Root Mean Squared Log Error, которая вычисляется на основе целевой переменной в логарифмическом масштабе. В таком случае целесообразно сразу логарифмировать признак длительности поездки и рассматривать при анализе логарифм в качестве целевого признака:\n",
    "$$trip\\_duration\\_log = log(trip\\_duration+1),$$\n",
    "где под символом log подразумевается натуральный логарифм.\n"
   ]
  },
  {
   "cell_type": "code",
   "execution_count": null,
   "metadata": {
    "id": "y59BwN3MkBLp"
   },
   "outputs": [],
   "source": [
    "taxi_data['trip_duration_log'] = np.log(taxi_data['trip_duration']+1)"
   ]
  },
  {
   "attachments": {},
   "cell_type": "markdown",
   "metadata": {
    "id": "OoqAWXLLkBLp"
   },
   "source": [
    "### Задание 3.1.\n",
    "Постройте гистограмму и коробчатую диаграмму длительности поездок в логарифмическом масштабе (trip_duration_log). \n",
    "Исходя из визуализации, сделайте предположение, является ли полученное распределение нормальным? \n",
    "Проверьте свою гипотезу с помощью теста Д’Агостино при уровне значимости $\\alpha=0.05$. \n",
    "\n",
    "а) Чему равен вычисленный p-value? Ответ округлите до сотых.\n",
    "\n",
    "б) Является ли распределение длительности поездок в логарифмическом масштабе нормальным?"
   ]
  },
  {
   "cell_type": "code",
   "execution_count": null,
   "metadata": {
    "_uuid": "4cea6d1f4372850e6c5692d7be7ca1cee3bdb42e",
    "id": "hSPVCtNckBLp",
    "tags": []
   },
   "outputs": [],
   "source": [
    "# ваш код здесь"
   ]
  },
  {
   "attachments": {},
   "cell_type": "markdown",
   "metadata": {
    "id": "teZmcjlIkBLp"
   },
   "source": [
    "### Задание 3.2.\n",
    "Постройте визуализацию, которая позволит сравнить распределение длительности поездки в логарифмическом масштабе (trip_duration_log) в зависимости от таксопарка (vendor_id). \n",
    "\n",
    "Сравните два распределения между собой."
   ]
  },
  {
   "cell_type": "code",
   "execution_count": null,
   "metadata": {
    "id": "SfyhOuOYkBLp"
   },
   "outputs": [],
   "source": [
    "# ваш код здесь"
   ]
  },
  {
   "attachments": {},
   "cell_type": "markdown",
   "metadata": {
    "id": "Gq7d2zjjkBLp"
   },
   "source": [
    "### Задание 3.3.\n",
    "Постройте визуализацию, которая позволит сравнить распределение длительности поездки в логарифмическом масштабе (trip_duration_log) в зависимости от признака отправки сообщения поставщику (store_and_fwd_flag). \n",
    "\n",
    "Сравните два распределения между собой."
   ]
  },
  {
   "cell_type": "code",
   "execution_count": null,
   "metadata": {
    "id": "3If4bSdEkBLp"
   },
   "outputs": [],
   "source": [
    "# ваш код здесь"
   ]
  },
  {
   "attachments": {},
   "cell_type": "markdown",
   "metadata": {
    "id": "ThgfBISekBLp"
   },
   "source": [
    "### Задание 3.4.\n",
    "Постройте две визуализации:\n",
    "* Распределение количества поездок в зависимости от часа дня;\n",
    "* Зависимость медианной длительности поездки от часа дня.\n",
    "\n",
    "На основе построенных графиков ответьте на следующие вопросы:\n",
    "\n",
    "а) В какое время суток такси заказывают реже всего?\n",
    "\n",
    "б) В какое время суток наблюдается пик медианной длительности поездок?"
   ]
  },
  {
   "cell_type": "code",
   "execution_count": null,
   "metadata": {
    "id": "b7tRWY_BkBLq"
   },
   "outputs": [],
   "source": [
    "# ваш код здесь"
   ]
  },
  {
   "attachments": {},
   "cell_type": "markdown",
   "metadata": {
    "id": "GmHyGkbzkBLq"
   },
   "source": [
    "### Задание 3.5.\n",
    "Постройте две визуализации:\n",
    "* Распределение количества поездок в зависимости от дня недели;\n",
    "*  Зависимость медианной длительности поездки от дня недели.\n",
    "\n",
    "На основе построенных графиков ответьте на следующие вопросы:\n",
    "а) В какой день недели совершается больше всего поездок?\n",
    "б) В какой день недели медианная длительность поездок наименьшая?\n"
   ]
  },
  {
   "cell_type": "code",
   "execution_count": null,
   "metadata": {
    "id": "b0mHfS17kBLq"
   },
   "outputs": [],
   "source": [
    "# ваш код здесь"
   ]
  },
  {
   "attachments": {},
   "cell_type": "markdown",
   "metadata": {
    "id": "KSRSS4tekBLq"
   },
   "source": [
    "### Задание 3.6.\n",
    "Посмотрим на обе временные характеристики одновременно. \n",
    "\n",
    "Постройте сводную таблицу, по строкам которой отложены часы (pickup_hour), по столбцам - дни недели (pickup_day_of_week), а в ячейках - медианная длительность поездки (trip_duration). \n",
    "\n",
    "Визуализируйте полученную сводную таблицу с помощью тепловой карты (рекомендуемая палитра - coolwarm)."
   ]
  },
  {
   "cell_type": "code",
   "execution_count": null,
   "metadata": {
    "id": "zDUyBJTQkBLq"
   },
   "outputs": [],
   "source": [
    "# ваш код здесь"
   ]
  },
  {
   "attachments": {},
   "cell_type": "markdown",
   "metadata": {
    "id": "E5P2WBT6kBLq",
    "tags": []
   },
   "source": [
    "### Задание 3.7.\n",
    "Постройте две диаграммы рассеяния (scatter-диаграммы):\n",
    "* первая должна иллюстрировать географическое расположение точек начала поездок (pickup_longitude, pickup_latitude) \n",
    "* вторая должна географическое расположение точек завершения поездок (dropoff_longitude, dropoff_latitude).\n",
    "\n",
    "Для этого на диаграммах по оси абсцисс отложите широту (longitude), а по оси ординат - долготу (latitude). \n",
    "Включите в визуализацию только те точки, которые находятся в пределах Нью-Йорка - добавьте следующие ограничения на границы осей абсцисс и ординат:\n",
    " \n",
    "city_long_border = (-74.03, -73.75)\n",
    "\n",
    "city_lat_border = (40.63, 40.85)\n",
    "\n",
    "Добавьте на диаграммы расцветку по десяти географическим кластерам (geo_cluster), которые мы сгенерировали ранее. \n",
    "\n",
    "**Рекомендация:** для наглядности уменьшите размер точек на диаграмме рассеяния.  \n"
   ]
  },
  {
   "cell_type": "code",
   "execution_count": null,
   "metadata": {
    "id": "T0Wd1q_PkBLq"
   },
   "outputs": [],
   "source": [
    "city_long_border = (-74.03, -73.75)\n",
    "city_lat_border = (40.63, 40.85)\n",
    "\n",
    "# ваш код здесь"
   ]
  },
  {
   "attachments": {},
   "cell_type": "markdown",
   "metadata": {
    "id": "cSKZEkO4kBLq"
   },
   "source": [
    "## 4. Отбор и преобразование признаков"
   ]
  },
  {
   "attachments": {},
   "cell_type": "markdown",
   "metadata": {
    "id": "Erg_Ejz1kBLr"
   },
   "source": [
    "Перед тем как перейти к построению модели, осталось сделать ещё несколько шагов.\n",
    "* Следует помнить, что многие алгоритмы машинного обучения не могут обрабатывать категориальные признаки в их обычном виде. Поэтому нам необходимо их закодировать;\n",
    "* Надо отобрать признаки, которые мы будем использовать для обучения модели;\n",
    "*  Необходимо масштабировать и трансформировать некоторые признаки для того, чтобы улучшить сходимость моделей, в основе которых лежат численные методы.\n"
   ]
  },
  {
   "cell_type": "code",
   "execution_count": null,
   "metadata": {
    "id": "N7MHv9HKkBLr"
   },
   "outputs": [],
   "source": [
    "print('Shape of data: {}'.format(taxi_data.shape))\n",
    "print('Columns: {}'.format(taxi_data.columns))"
   ]
  },
  {
   "attachments": {},
   "cell_type": "markdown",
   "metadata": {
    "id": "j6sgAOFqkBLr"
   },
   "source": [
    "Для удобства работы сделаем копию исходной таблицы с поездками:"
   ]
  },
  {
   "cell_type": "code",
   "execution_count": null,
   "metadata": {
    "id": "7rxobyQFkBLr"
   },
   "outputs": [],
   "source": [
    "train_data = taxi_data.copy()\n",
    "train_data.head()"
   ]
  },
  {
   "attachments": {},
   "cell_type": "markdown",
   "metadata": {
    "id": "U7i7DFBdkBLr"
   },
   "source": [
    "### Задание 4.1.\n",
    "Сразу позаботимся об очевидных неинформативных и избыточных признаках. \n",
    "\n",
    "а) Какой из признаков является уникальным для каждой поездки и не несет полезной информации в определении ее продолжительности?\n",
    "\n",
    "б) Утечка данных (data leak) - это…\n",
    "\n",
    "в) Подумайте, наличие какого из признаков в обучающем наборе данных создает утечку данных?\n",
    "\n",
    "г) Исключите выбранные в пунктах а) и в) признаки из исходной таблицы с данными. Сколько столбцов в таблице у вас осталось?\n"
   ]
  },
  {
   "cell_type": "code",
   "execution_count": null,
   "metadata": {
    "id": "-hg53Bv1kBLr"
   },
   "outputs": [],
   "source": [
    "# ваш код здесь"
   ]
  },
  {
   "attachments": {},
   "cell_type": "markdown",
   "metadata": {
    "id": "NHyYd7XzkBLr"
   },
   "source": [
    "Ранее мы извлекли всю необходимую для нас информацию из даты начала поездки, теперь мы можем избавиться от этих признаков, так как они нам больше не понадобятся:\n"
   ]
  },
  {
   "cell_type": "code",
   "execution_count": null,
   "metadata": {
    "id": "nzO9ioMHkBLs"
   },
   "outputs": [],
   "source": [
    "drop_columns = ['pickup_datetime', 'pickup_date']\n",
    "train_data = train_data.drop(drop_columns, axis=1)\n",
    "print('Shape of data:  {}'.format(train_data.shape))"
   ]
  },
  {
   "attachments": {},
   "cell_type": "markdown",
   "metadata": {
    "id": "cXHbkc3ykBLs"
   },
   "source": [
    "### Задание 4.2.\n",
    "\n",
    "Закодируйте признак vendor_id в таблице train_data таким образом, чтобы он был равен 0, если идентификатор таксопарка равен 1, и 1 — в противном случае.\n",
    "\n",
    "Закодируйте признак store_and_fwd_flag в таблице train_data таким образом, чтобы он был равен 0, если флаг выставлен в значение 'N', и 1 — в противном случае.\n",
    "\n",
    "а) Рассчитайте среднее по закодированному столбцу vendor_id. Ответ приведите с точностью до сотых.\n",
    "\n",
    "б) Рассчитайте среднее по закодированному столбцу store_and_fwd_flag. Ответ приведите с точностью до тысячных.\n",
    "\n"
   ]
  },
  {
   "cell_type": "code",
   "execution_count": null,
   "metadata": {
    "id": "_O1jJaZtkBLs"
   },
   "outputs": [],
   "source": [
    "# ваш код здесь"
   ]
  },
  {
   "attachments": {},
   "cell_type": "markdown",
   "metadata": {
    "id": "XMUmtLu1kBLs"
   },
   "source": [
    "### Задание 4.3.\n",
    "Создайте таблицу data_onehot из закодированных однократным кодированием признаков pickup_day_of_week, geo_cluster и events в таблице train_data с помощью OneHotEncoder из библиотеки sklearn. Параметр drop выставите в значение 'first', чтобы удалять первый бинарный столбец, тем самым не создавая излишних признаков.\n",
    "\n",
    "В параметре handle_unknown установите значение 'ignore'. Это позволит коду отработать без ошибок в случае появления в тестовой выборке значений, отсутствующих в обучающей выборке.\n",
    "\n",
    "В результате работы OneHotEncoder вы получите безымянный numpy-массив, который нам будет необходимо преобразовать обратно в DataFrame, для более удобной работы в дальнейшем. Чтобы получить имена закодированных столбцов у объекта типа OneHotEncoder есть специальный метод get_feature_names_out(). Он возвращает список новых закодированных имен столбцов в формате <оригинальное имя столбца>_<имя категории>.\n",
    "\n",
    "Пример использования:\n",
    "\n",
    "``` python\n",
    "# Объявляем кодировщик\n",
    "one_hot_encoder = OneHotEncoder(drop='first', handle_unknown='ignore')\n",
    "# Получаем закодированные имена столбцов\n",
    "column_names = one_hot_encoder.get_feature_names_out()\n",
    "# Составляем DataFrame из закодированных признаков\n",
    "data_onehot = pd.DataFrame(data_onehot, columns=column_names)\n",
    "```\n",
    "\n",
    "В этом псевдокоде:\n",
    "* one_hot_encoder - объект класса OneHotEncoder\n",
    "* data_onehot - numpy-массив, полученный в результате трансформации кодировщиком\n",
    "\n",
    "В результате выполнения задания у вас должен быть образован DataFrame `data_onehot`, который содержит кодированные категориальные признаки pickup_day_of_week, geo_cluster и events. \n",
    "\n",
    "\n",
    "Сколько бинарных столбцов у вас получилось сгенерировать с помощью однократного кодирования?\n"
   ]
  },
  {
   "cell_type": "code",
   "execution_count": null,
   "metadata": {
    "id": "BonLFJbhkBLs"
   },
   "outputs": [],
   "source": [
    "# ваш код здесь"
   ]
  },
  {
   "attachments": {},
   "cell_type": "markdown",
   "metadata": {
    "id": "AsGsYqHRkBLs"
   },
   "source": [
    "Добавим полученную таблицу с закодированными признаками:"
   ]
  },
  {
   "cell_type": "code",
   "execution_count": null,
   "metadata": {
    "id": "blXeWiS0kBLs"
   },
   "outputs": [],
   "source": [
    "train_data = pd.concat(\n",
    "    [train_data.reset_index(drop=True).drop(columns_to_change, axis=1), data_onehot], \n",
    "    axis=1\n",
    ")\n",
    "print('Shape of data: {}'.format(train_data.shape))"
   ]
  },
  {
   "attachments": {},
   "cell_type": "markdown",
   "metadata": {
    "id": "XQhXAud5kBLt"
   },
   "source": [
    "Теперь, когда категориальные признаки предобработаны, сформируем матрицу наблюдений X, вектор целевой переменной y и его логарифм y_log. В матрицу наблюдений войдут все столбцы из таблицы с поездками за исключением целевого признака trip_duration и его логарифмированной версии trip_duration_log:\n"
   ]
  },
  {
   "cell_type": "code",
   "execution_count": null,
   "metadata": {
    "id": "Vz6YfcALkBLt"
   },
   "outputs": [],
   "source": [
    "X = train_data.drop(['trip_duration', 'trip_duration_log'], axis=1)\n",
    "y = train_data['trip_duration']\n",
    "y_log = train_data['trip_duration_log']"
   ]
  },
  {
   "attachments": {},
   "cell_type": "markdown",
   "metadata": {
    "id": "orPjdejMkBLt"
   },
   "source": [
    "Все наши модели мы будем обучать на логарифмированной версии y_log. "
   ]
  },
  {
   "attachments": {},
   "cell_type": "markdown",
   "metadata": {
    "id": "L8CzG9CnkBLt"
   },
   "source": [
    "Выбранный тип валидации - hold-out. Разобьем выборку на обучающую и валидационную в соотношении 67/33:"
   ]
  },
  {
   "cell_type": "code",
   "execution_count": null,
   "metadata": {
    "id": "hPEJ89ZdkBLt"
   },
   "outputs": [],
   "source": [
    "X_train, X_valid, y_train_log, y_valid_log = model_selection.train_test_split(\n",
    "    X, y_log, \n",
    "    test_size=0.33, \n",
    "    random_state=42\n",
    ")"
   ]
  },
  {
   "attachments": {},
   "cell_type": "markdown",
   "metadata": {
    "id": "yL9ZPlW3kBLt"
   },
   "source": [
    "На данный момент у нас достаточно много признаков: скорее всего, не все из них будут важны. Давайте оставим лишь те, которые сильнее всего связаны с целевой переменной и точно будут вносить вклад в повышение качества модели.\n"
   ]
  },
  {
   "attachments": {},
   "cell_type": "markdown",
   "metadata": {
    "id": "AaqdJUp-kBLt"
   },
   "source": [
    "### Задание 4.4.\n",
    "С помощью SelectKBest отберите 25 признаков, наилучшим образом подходящих для предсказания целевой переменной в логарифмическом масштабе. Отбор реализуйте по обучающей выборке, используя параметр score_func = f_regression.\n",
    "\n",
    "Укажите признаки, которые вошли в список отобранных\n"
   ]
  },
  {
   "cell_type": "code",
   "execution_count": null,
   "metadata": {
    "id": "TEeqoG20kBLt"
   },
   "outputs": [],
   "source": [
    "# ваш код здесь"
   ]
  },
  {
   "attachments": {},
   "cell_type": "markdown",
   "metadata": {
    "id": "JLOJ_kdlkBLt"
   },
   "source": [
    "Так как мы будем использовать различные модели, в том числе внутри которых заложены численные методы оптимизации, то давайте заранее позаботимся о масштабировании факторов. \n"
   ]
  },
  {
   "attachments": {},
   "cell_type": "markdown",
   "metadata": {
    "id": "9WfHLiGKkBLu"
   },
   "source": [
    "### Задание 4.5.\n",
    "Нормализуйте предикторы в обучающей и валидационной выборках с помощью MinMaxScaler из библиотеки sklearn. Помните, что обучение нормализатора производится на обучающей выборке, а трансформация на обучающей и валидационной!\n",
    "\n",
    "Рассчитайте среднее арифметическое для первого предиктора (т. е. для первого столбца матрицы) из валидационной выборки. Ответ округлите до сотых.\n"
   ]
  },
  {
   "cell_type": "code",
   "execution_count": null,
   "metadata": {
    "id": "WSslyUgwkBLu"
   },
   "outputs": [],
   "source": [
    "# ваш код здесь"
   ]
  },
  {
   "attachments": {},
   "cell_type": "markdown",
   "metadata": {
    "id": "gaEMuA6skBLu"
   },
   "source": [
    "## 5. Решение задачи регрессии: линейная регрессия и деревья решений"
   ]
  },
  {
   "attachments": {},
   "cell_type": "markdown",
   "metadata": {
    "id": "y-pS_2XykBLu"
   },
   "source": [
    "Определим метрику, по которой мы будем измерять качество наших моделей. Мы будем следовать канонам исходного соревнования на Kaggle и в качестве метрики использовать RMSLE (Root Mean Squared Log Error), которая вычисляется как:\n",
    "$$RMSLE = \\sqrt{\\frac{1}{n}\\sum_{i=1}^n(log(y_i+1)-log(\\hat{y_i}+1))^2},$$\n",
    "где:\n",
    "* $y_i$ - истинная длительность i-ой поездки на такси (trip_duration)\n",
    "* $\\hat{y_i}$- предсказанная моделью длительность i-ой поездки на такси\n",
    "\n",
    "Заметим, что логарифмирование целевого признака мы уже провели заранее, поэтому нам будет достаточно вычислить метрику RMSE для модели, обученной прогнозировать длительность поездки такси в логарифмическом масштабе:\n",
    "$$z_i=log(y_i+1),$$\n",
    "$$RMSLE = \\sqrt{\\frac{1}{n}\\sum_{i=1}^n(z_i-\\hat{z_i})^2}=\\sqrt{MSE(z_i,\\hat{z_i})}$$ \n",
    "\n"
   ]
  },
  {
   "attachments": {},
   "cell_type": "markdown",
   "metadata": {
    "id": "6Qd3xY1-kBLu"
   },
   "source": [
    "### Задание 5.1.\n",
    "Постройте модель линейной регрессии на обучающей выборке (факторы должны быть нормализованы, целевую переменную используйте в логарифмическом масштабе). Все параметры оставьте по умолчанию.\n",
    "\n",
    "Для полученной модели рассчитайте метрику RMSLE на тренировочной и валидационной выборках. Ответ округлите до сотых.\n"
   ]
  },
  {
   "cell_type": "code",
   "execution_count": null,
   "metadata": {
    "id": "R1IB1yK5kBLu"
   },
   "outputs": [],
   "source": [
    "# ваш код здесь"
   ]
  },
  {
   "attachments": {},
   "cell_type": "markdown",
   "metadata": {
    "id": "QSN6i928kBLu"
   },
   "source": [
    "### Задание 5.2.\n",
    "Сгенерируйте полиномиальные признаки 2-ой степени с помощью PolynomialFeatures из библиотеки sklearn. Параметр include_bias выставите в значение False.\n",
    "\n",
    "Постройте модель полиномиальной регрессии 2-ой степени на обучающей выборке (факторы должны быть нормализованы, целевую переменную используйте в логарифмическом масштабе). Все параметры оставьте по умолчанию.\n",
    "\n",
    "а) Для полученной модели рассчитайте метрику RMSLE на тренировочной и валидационной выборках. Ответ округлите до сотых.\n",
    "\n",
    "б) Наблюдаются ли у вашей модели признаки переобучения?\n"
   ]
  },
  {
   "cell_type": "code",
   "execution_count": null,
   "metadata": {
    "id": "gIIWA_arkBLu"
   },
   "outputs": [],
   "source": [
    "# ваш код здесь"
   ]
  },
  {
   "attachments": {},
   "cell_type": "markdown",
   "metadata": {
    "id": "7ChD_MF6kBLv"
   },
   "source": [
    "### Задание 5.3.\n",
    "Постройте модель полиномиальной регрессии 2-ой степени с L2-регуляризацией (регуляризация по Тихонову) на обучающей выборке  (факторы должны быть нормализованы, целевую переменную используйте в логарифмическом масштабе). Коэффициент регуляризации $\\alpha$ установите равным 1, остальные параметры оставьте по умолчанию.\n",
    "\n",
    "Для полученной модели рассчитайте метрику RMSLE на тренировочной и валидационной выборках. Ответ округлите до сотых.\n"
   ]
  },
  {
   "cell_type": "code",
   "execution_count": null,
   "metadata": {
    "id": "pwcMCt3XkBLv"
   },
   "outputs": [],
   "source": [
    "# ваш код здесь"
   ]
  },
  {
   "attachments": {},
   "cell_type": "markdown",
   "metadata": {
    "id": "aU5EJsIqkBLv"
   },
   "source": [
    "### Задание 5.4.\n",
    "Постройте модель дерева решений (DecisionTreeRegressor) на обучающей выборке (факторы должны быть нормализованы, целевую переменную используйте в логарифмическом масштабе). Все параметры оставьте по умолчанию. \n",
    "\n",
    "а) Для полученной модели рассчитайте метрику RMSLE на тренировочной и валидационной выборках. Ответ округлите до сотых.\n",
    "\n",
    "б) Наблюдаются ли у вашей модели признаки переобучения?\n"
   ]
  },
  {
   "cell_type": "code",
   "execution_count": null,
   "metadata": {
    "id": "SY1G4YcrkBLv"
   },
   "outputs": [],
   "source": [
    "# ваш код здесь"
   ]
  },
  {
   "attachments": {},
   "cell_type": "markdown",
   "metadata": {
    "id": "1YJIlj4ykBLv"
   },
   "source": [
    "### Задание 5.5.\n",
    "Переберите все возможные варианты глубины дерева решений в диапазоне от 7 до 20:\n",
    "\n",
    "max_depths = range(7, 20)\n",
    "\n",
    "Параметр random_state задайте равным 42.\n",
    "\n",
    "Постройте линейные графики изменения метрики RMSE на тренировочной и валидационной выборках в зависимости от значения параметра глубины дерева решений. \n",
    "\n",
    "а) Найдите оптимальное значение максимальной глубины дерева, для которой будет наблюдаться минимальное значение RMSLE на обучающей выборке, но при этом еще не будет наблюдаться переобучение (валидационная кривая еще не начинает возрастать).\n",
    "\n",
    "б) Чему равно значение метрик RMSLE на тренировочной и валидационной выборках для дерева решений с выбранной оптимальной глубиной? Ответ округлите до сотых.\n"
   ]
  },
  {
   "cell_type": "code",
   "execution_count": null,
   "metadata": {
    "id": "_MbTVYsWkBLv"
   },
   "outputs": [],
   "source": [
    "# ваш код здесь"
   ]
  },
  {
   "attachments": {},
   "cell_type": "markdown",
   "metadata": {
    "id": "zUXrz7YDkBLv"
   },
   "source": [
    "## 6. Решение задачи регрессии: ансамблевые методы и построение прогноза"
   ]
  },
  {
   "attachments": {},
   "cell_type": "markdown",
   "metadata": {
    "id": "297rnbaikBLv"
   },
   "source": [
    "Переходим к тяжелой артиллерии: ансамблевым алгоритмам. "
   ]
  },
  {
   "attachments": {},
   "cell_type": "markdown",
   "metadata": {
    "id": "ZIAGlVjqkBLw"
   },
   "source": [
    "### Задание 6.1.\n",
    "\n",
    "Постройте модель случайного леса на обучающей выборке (факторы должны быть нормализованы, целевую переменную используйте в логарифмическом масштабе). В качестве гиперпараметров укажите следующие:\n",
    "* n_estimators=200,\n",
    "* max_depth=12,\n",
    "* criterion='squared_error',\n",
    "* min_samples_split=20,\n",
    "* random_state=42\n",
    "\n",
    "Для полученной модели рассчитайте метрику RMSLE на тренировочной и валидационной выборках. Ответ округлите до сотых.\n"
   ]
  },
  {
   "cell_type": "code",
   "execution_count": null,
   "metadata": {
    "id": "QQQdFHWfkBLw"
   },
   "outputs": [],
   "source": [
    "# ваш код здесь"
   ]
  },
  {
   "attachments": {},
   "cell_type": "markdown",
   "metadata": {
    "id": "JZz_qWKDkBLw"
   },
   "source": [
    "### Задание 6.2.\n",
    "Постройте модель градиентного бустинга над деревьями решений (GradientBoostingRegressor) на обучающей выборке (факторы должны быть нормализованы, целевую переменную используйте в логарифмическом масштабе). В качестве гиперпараметров укажите следующие:\n",
    "* learning_rate=0.5,\n",
    "* n_estimators=100,\n",
    "* max_depth=6, \n",
    "* min_samples_split=30,\n",
    "* random_state=42\n",
    "\n",
    "Для полученной модели рассчитайте метрику RMSLE на тренировочной и валидационной выборках. Ответ округлите до сотых.\n"
   ]
  },
  {
   "cell_type": "code",
   "execution_count": null,
   "metadata": {
    "id": "KnnmuhoSkBLw"
   },
   "outputs": [],
   "source": [
    "# ваш код здесь"
   ]
  },
  {
   "attachments": {},
   "cell_type": "markdown",
   "metadata": {
    "id": "zC3NKXLhkBLw"
   },
   "source": [
    "### Задание 6.3.\n",
    "Какая из построенных вами моделей показала наилучший результат (наименьшее значение RMSLE на валидационной выборке)?\n",
    "* Линейная регрессия\n",
    "* Полиномиальная регрессия 2ой степени\n",
    "* Дерево решений\n",
    "* Случайный лес\n",
    "* Градиентный бустинг над деревьями решений\n"
   ]
  },
  {
   "attachments": {},
   "cell_type": "markdown",
   "metadata": {
    "id": "eaBYTxnkkBLx"
   },
   "source": [
    "### Задание 6.4.\n",
    "Постройте столбчатую диаграмму коэффициентов значимости каждого из факторов.\n",
    "\n",
    "Укажите топ-3 наиболее значимых для предсказания целевого признака - длительности поездки в логарифмическом масштабе - факторов.\n"
   ]
  },
  {
   "cell_type": "code",
   "execution_count": null,
   "metadata": {
    "id": "KmYOePR8kBLx"
   },
   "outputs": [],
   "source": [
    "# ваш код здесь"
   ]
  },
  {
   "attachments": {},
   "cell_type": "markdown",
   "metadata": {
    "id": "TQ4NzZaTkBLx"
   },
   "source": [
    "### Задание 6.5.\n",
    "Для лучшей из построенных моделей рассчитайте медианную абсолютную ошибку (MeAE - в sklearn функция median_absolute_error) предсказания длительности поездки такси на валидационной выборке:\n",
    "$$ MeAE = median(|y_i-\\hat{y_i}|)$$\n",
    "\n",
    "Значение метрики MeAE переведите в минуты и округлите до десятых.\n"
   ]
  },
  {
   "cell_type": "code",
   "execution_count": null,
   "metadata": {
    "id": "mOYteyJ-kBLx"
   },
   "outputs": [],
   "source": [
    "# ваш код здесь"
   ]
  },
  {
   "attachments": {},
   "cell_type": "markdown",
   "metadata": {
    "id": "NZzsSUFfkBLx"
   },
   "source": [
    "Финальный шаг - сделать submit -  предсказание для отложенного тестового набора данных. "
   ]
  },
  {
   "attachments": {},
   "cell_type": "markdown",
   "metadata": {
    "id": "J12UJrZOkBLx"
   },
   "source": [
    "Прочитаем тестовые данные и заранее выделим столбец с идентификаторами поездок из тестового набора данных. Он нам еще пригодится:\n"
   ]
  },
  {
   "cell_type": "code",
   "execution_count": null,
   "metadata": {
    "id": "5KAzvZidkBLx"
   },
   "outputs": [],
   "source": [
    "test_data = pd.read_csv(\"data/test.csv\")\n",
    "osrm_data_test = pd.read_csv(\"data/osrm_data_test.csv\")\n",
    "test_id = test_data['id']"
   ]
  },
  {
   "attachments": {},
   "cell_type": "markdown",
   "metadata": {
    "id": "sdrR42JrkBLy"
   },
   "source": [
    "Перед созданием прогноза для тестовой выборки необходимо произвести все манипуляции с данными, которые мы производили с тренировочной выборкой, а именно:\n",
    "* Перевести признак pickup_datetime в формат datetime;\n",
    "* Добавить новые признаки (временные, географические, погодные и другие факторы);\n",
    "* Произвести очистку данных от пропусков;\n",
    "* Произвести кодировку категориальных признаков:\n",
    "    * Закодировать бинарные признаки;\n",
    "    * Закодировать номинальные признаки с помощью обученного на тренировочной выборке OneHotEncoder’а;\n",
    "* Сформировать матрицу наблюдений, оставив в таблице только те признаки, которые были отобраны с помощью SelectKBest;\n",
    "* Нормализовать данные с помощью обученного на тренировочной выборке MinMaxScaler’а.\n"
   ]
  },
  {
   "cell_type": "code",
   "execution_count": null,
   "metadata": {
    "id": "nqWQbqhGkBLy"
   },
   "outputs": [],
   "source": [
    "test_data['pickup_datetime']=pd.to_datetime(test_data['pickup_datetime'],format='%Y-%m-%d %H:%M:%S')\n",
    "test_data = add_datetime_features(test_data)\n",
    "test_data = add_holiday_features(test_data, holiday_data)\n",
    "test_data = add_osrm_features(test_data, osrm_data_test)\n",
    "test_data = add_geographical_features(test_data)\n",
    "test_data = add_cluster_features(test_data, kmeans)\n",
    "test_data = add_weather_features(test_data, weather_data)\n",
    "test_data = fill_null_weather_data(test_data)\n",
    "\n",
    "test_data['vendor_id'] = test_data['vendor_id'].apply(lambda x: 0 if x == 1 else 1)\n",
    "test_data['store_and_fwd_flag'] = test_data['store_and_fwd_flag'].apply(lambda x: 0 if x == 'N' else 1)\n",
    "test_data_onehot = one_hot_encoder.fit_transform(test_data[columns_to_change]).toarray()\n",
    "column_names = one_hot_encoder.get_feature_names_out(columns_to_change)\n",
    "test_data_onehot = pd.DataFrame(test_data_onehot, columns=column_names)\n",
    "\n",
    "test_data = pd.concat(\n",
    "    [test_data.reset_index(drop=True).drop(columns_to_change, axis=1), test_data_onehot], \n",
    "    axis=1\n",
    ")\n",
    "X_test = test_data[best_features]\n",
    "X_test_scaled = scaler.transform(X_test)\n",
    "print('Shape of data: {}'.format(X_test.shape))"
   ]
  },
  {
   "attachments": {},
   "cell_type": "markdown",
   "metadata": {
    "id": "24JJ64T4kBLy"
   },
   "source": [
    "Только после выполнения всех этих шагов можно сделать предсказание длительности поездки для тестовой выборки. Не забудьте перевести предсказания из логарифмического масштаба в истинный, используя формулу:\n",
    "$$y_i=exp(z_i)-1$$\n",
    "\n",
    "После того, как вы сформируете предсказание длительности поездок на тестовой выборке вам необходимо будет создать submission-файл в формате csv, отправить его на платформу Kaggle и посмотреть на результирующее значение метрики RMSLE на тестовой выборке.\n",
    "\n",
    "Код для создания submission-файла:\n"
   ]
  },
  {
   "cell_type": "code",
   "execution_count": null,
   "metadata": {
    "id": "JeMAzrHHkBLy"
   },
   "outputs": [],
   "source": [
    "# ваш код здесь\n",
    "submission = pd.DataFrame({'id': test_id, 'trip_duration': y_test_predict})\n",
    "submission.to_csv('data/submission_gb.csv', index=False)"
   ]
  },
  {
   "attachments": {},
   "cell_type": "markdown",
   "metadata": {
    "id": "iU5BA_XDkBLy"
   },
   "source": [
    "### **В качестве бонуса**\n",
    "\n",
    "В завершение по ансамблевым мы предлагаем вам попробовать улучшить свое предсказание, воспользовавшись моделью экстремального градиентного бустинга (XGBoost) из библиотеки xgboost.\n",
    "\n",
    "**XGBoost** - современная модель машинного обучения, которая является продолжением идеи градиентного бустинга Фридмана. У нее есть несколько преимуществ по сравнению с классической моделью градиентного бустинга из библиотеки sklearn: повышенная производительность путем параллелизации процесса обучения, повышенное качество решения за счет усовершенствования алгоритма бустинга, меньшая склонность к переобучению и широкий функционал возможности управления параметрами модели.\n"
   ]
  },
  {
   "attachments": {},
   "cell_type": "markdown",
   "metadata": {
    "id": "_FARWLbakBLy"
   },
   "source": [
    "Для ее использования необходимо для начала установить пакет xgboost:"
   ]
  },
  {
   "cell_type": "code",
   "execution_count": null,
   "metadata": {
    "id": "h8KXUhyGkBLy"
   },
   "outputs": [],
   "source": [
    "#!pip install xgboost"
   ]
  },
  {
   "attachments": {},
   "cell_type": "markdown",
   "metadata": {
    "id": "urka0597kBLz"
   },
   "source": [
    "После чего модуль можно импортировать:"
   ]
  },
  {
   "cell_type": "code",
   "execution_count": null,
   "metadata": {
    "id": "kpLIalxfkBLz"
   },
   "outputs": [],
   "source": [
    "import xgboost as xgb"
   ]
  },
  {
   "attachments": {},
   "cell_type": "markdown",
   "metadata": {
    "id": "CwJ80NU7kBLz"
   },
   "source": [
    "Перед обучением модели необходимо перевести наборы данных в тип данных xgboost.DMatrix:"
   ]
  },
  {
   "cell_type": "code",
   "execution_count": null,
   "metadata": {
    "id": "ehrdmZJekBLz"
   },
   "outputs": [],
   "source": [
    "# Создание матриц наблюдений в формате DMatrix\n",
    "dtrain = xgb.DMatrix(X_train_scaled, label=y_train_log, feature_names=best_features)\n",
    "dvalid = xgb.DMatrix(X_valid_scaled, label=y_valid_log, feature_names=best_features)\n",
    "dtest = xgb.DMatrix(X_test_scaled, feature_names=best_features)"
   ]
  },
  {
   "attachments": {},
   "cell_type": "markdown",
   "metadata": {
    "id": "kW0LAucxkBLz"
   },
   "source": [
    "Обучение модели XGBoost происходит с помощью метода train, в который необходимо передать параметры модели, набор данных, количество базовых моделей в ансамбле, а также дополнительные параметры:\n"
   ]
  },
  {
   "cell_type": "code",
   "execution_count": null,
   "metadata": {
    "id": "u0uDs1YakBLz"
   },
   "outputs": [],
   "source": [
    "# Гиперпараметры модели\n",
    "xgb_pars = {'min_child_weight': 20, 'eta': 0.1, 'colsample_bytree': 0.9, \n",
    "            'max_depth': 6, 'subsample': 0.9, 'lambda': 1, 'nthread': -1, \n",
    "            'booster' : 'gbtree', 'eval_metric': 'rmse', 'objective': 'reg:squarederror'\n",
    "           }\n",
    "# Тренировочная и валидационная выборка\n",
    "watchlist = [(dtrain, 'train'), (dvalid, 'valid')]\n",
    "# Обучаем модель XGBoost\n",
    "model = xgb.train(\n",
    "    params=xgb_pars, #гиперпараметры модели\n",
    "    dtrain=dtrain, #обучающая выборка\n",
    "    num_boost_round=300, #количество моделей в ансамбле\n",
    "    evals=watchlist, #выборки, на которых считается матрица\n",
    "    early_stopping_rounds=20, #раняя остановка\n",
    "    maximize=False, #смена поиска максимума на минимум\n",
    "    verbose_eval=10 #шаг, через который происходит отображение метрик\n",
    ")"
   ]
  },
  {
   "attachments": {},
   "cell_type": "markdown",
   "metadata": {
    "id": "nDiMljt5kBLz"
   },
   "source": [
    "Предсказать целевой признак на новых данных можно с помощью метода predict():"
   ]
  },
  {
   "cell_type": "code",
   "execution_count": null,
   "metadata": {
    "id": "XYBTeO7UkBLz"
   },
   "outputs": [],
   "source": [
    "#Делаем предсказание на тестовом наборе данных\n",
    "y_test_predict = np.exp(model.predict(dtest)) - 1\n",
    "print('Modeling RMSLE %.5f' % model.best_score)"
   ]
  },
  {
   "attachments": {},
   "cell_type": "markdown",
   "metadata": {
    "id": "jgBn4xmikBLz"
   },
   "source": [
    "Также как и все модели, основанные на использовании деревьев решений в качестве базовых моделей, XGBoost имеет возможность определения коэффициентов важности факторов. Более того, в библиотеку встроена возможность визуализации важность факторов в виде столбчатой диаграммы. За эту возможность отвечает функция plot_importance():\n"
   ]
  },
  {
   "cell_type": "code",
   "execution_count": null,
   "metadata": {
    "id": "FEvlaqz4kBLz"
   },
   "outputs": [],
   "source": [
    "fig, ax = plt.subplots(figsize = (15,15))\n",
    "xgb.plot_importance(model, ax = ax, height=0.5)"
   ]
  }
 ],
 "metadata": {
  "colab": {
   "provenance": []
  },
  "kernelspec": {
   "display_name": "Python 3",
   "language": "python",
   "name": "python3"
  },
  "language_info": {
   "codemirror_mode": {
    "name": "ipython",
    "version": 3
   },
   "file_extension": ".py",
   "mimetype": "text/x-python",
   "name": "python",
   "nbconvert_exporter": "python",
   "pygments_lexer": "ipython3",
   "version": "3.13.5"
  }
 },
 "nbformat": 4,
 "nbformat_minor": 0
}
